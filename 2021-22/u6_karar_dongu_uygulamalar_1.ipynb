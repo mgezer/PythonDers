{
 "cells": [
  {
   "cell_type": "markdown",
   "metadata": {
    "slideshow": {
     "slide_type": "slide"
    }
   },
   "source": [
    "# Python ile Programlama\n",
    "## Karar Yapıları - Listeler , Kümeler - Döngüler\n",
    "## Listeler , Kümeler \n",
    "## Örnek Sorular\n",
    "**Dr. Murat Gezer** \n",
    "\n",
    "https://github.com/mgezer/PythonDers"
   ]
  },
  {
   "cell_type": "markdown",
   "metadata": {
    "slideshow": {
     "slide_type": "slide"
    }
   },
   "source": [
    "Kullanıcıdan alınan boy ve kilo değerlerine göre beden kitle indeksini hesaplayın: Beden Kitle endeksinin formülü \n",
    "\n",
    " Beden Kitle İndeksi: Kilo (kg) / Boy(m) *  Boy(m)\n",
    " \n",
    "şeklindedir.  \n",
    "\n",
    " BKİ 18.5'un altındaysa -------> Zayıf\n",
    " \n",
    " BKİ 18.5 ile 25 arasındaysa ------> Normal Kilolu\n",
    " \n",
    " BKİ 25 ile 30 arasındaysa --------> Fazla Kilolu\n",
    " \n",
    " BKİ 30-40  üstündeyse -------------> Obez\n",
    " \n",
    " BKİ 40-  üstü       -----------------> İleri Obez"
   ]
  },
  {
   "cell_type": "code",
   "execution_count": 6,
   "metadata": {},
   "outputs": [
    {
     "name": "stdout",
     "output_type": "stream",
     "text": [
      "Kilo cinsinden ağırlınızı veriniz:87\n",
      "Boyunuzu metre cinsinden giriniz:1.75\n",
      "Fazla Kilolu\n"
     ]
    }
   ],
   "source": [
    "kilo = float(input(\"Kilo cinsinden ağırlınızı veriniz:\"))\n",
    "boy = float(input(\"Boyunuzu metre cinsinden giriniz:\"))\n",
    "\n",
    "bki=kilo/(boy**2)\n",
    "\n",
    "if bki  < 18.5:\n",
    "    print(\"Zayıf\")\n",
    "elif bki >=18.5 and bki < 25:\n",
    "    print(\"Normal Kilolu\")\n",
    "elif bki >= 25 and bki < 30:\n",
    "    print(\"Fazla Kilolu\")\n",
    "elif bki <= 30 and bki <40:\n",
    "    print(\"Obez\")\n",
    "else:\n",
    "    print(\"İleri Obez\")\n"
   ]
  },
  {
   "cell_type": "markdown",
   "metadata": {
    "slideshow": {
     "slide_type": "slide"
    }
   },
   "source": [
    "Kullanıcıdan alınan 3 tane sayının  en büyüğü ve küçüğünü  ekrana yazdıran program yazın"
   ]
  },
  {
   "cell_type": "code",
   "execution_count": 9,
   "metadata": {},
   "outputs": [
    {
     "name": "stdout",
     "output_type": "stream",
     "text": [
      "1. sayıyı giriniz:89\n",
      "2. sayıyı giriniz:99\n",
      "3. sayıyı giriniz:100\n",
      "En büyük sayı sayı3'dür\n"
     ]
    }
   ],
   "source": [
    "sayi1=int(input(\"1. sayıyı giriniz:\"))\n",
    "sayi2=int(input(\"2. sayıyı giriniz:\"))\n",
    "sayi3=int(input(\"3. sayıyı giriniz:\"))\n",
    "\n",
    "if sayi1>sayi2 and sayi1>sayi3:\n",
    "    print(\"En büyük sayı sayı1'dir\")\n",
    "elif sayi2>sayi3:\n",
    "    print(\"En büyük sayı sayı2'dir\")\n",
    "else:\n",
    "    print(\"En büyük sayı sayı3'dür\")\n",
    "    "
   ]
  },
  {
   "cell_type": "markdown",
   "metadata": {
    "slideshow": {
     "slide_type": "slide"
    }
   },
   "source": [
    " $x$ değişkenini 0 ile 1 arasında 0.1 adımlarla artırarak, $x$ ve $\\sin(x)$ değerlerini bir tablo olarak yazan program yazınız.\n",
    " \n",
    " **math** kütüphanesinde bulunan **sin()** fonksiyonunu kullanabilirsiniz."
   ]
  },
  {
   "cell_type": "code",
   "execution_count": 15,
   "metadata": {},
   "outputs": [
    {
     "name": "stdout",
     "output_type": "stream",
     "text": [
      "x       sin(x) \n",
      "0.0000 0.0\n",
      "0.1000 0.09983\n",
      "0.2000 0.1987\n",
      "0.3000 0.2955\n",
      "0.4000 0.3894\n",
      "0.5000 0.4794\n",
      "0.6000 0.5646\n",
      "0.7000 0.6442\n",
      "0.8000 0.7174\n",
      "0.9000 0.7833\n",
      "1.0000 0.8415\n"
     ]
    }
   ],
   "source": [
    "import math \n",
    "x=0\n",
    "dx=0.1\n",
    "print(\"{:7s} {:7s}\".format(\"x\",\"sin(x)\"))\n",
    "while x<=1.0:\n",
    "    print(\"{:1.4f} {:1.4}\".format(x, math.sin(x)))\n",
    "    x=x+dx"
   ]
  },
  {
   "cell_type": "markdown",
   "metadata": {
    "slideshow": {
     "slide_type": "slide"
    }
   },
   "source": [
    "sinüs fonksiyonunun değişik derecelerdeki Taylor yaklaştırımını veren bir tablo üretelim. Bilindiği gibi, $\\sin$ fonksiyonunun 0 çevresindeki Taylor açılımı şu şekildedir:\n",
    "$$\\sin x = x - \\frac{x^3}{6} + \\frac{x^5}{120} - \\frac{x^7}{5040} + \\ldots$$\n",
    "Artan derecelerdeki yaklaştırım fonksiyonlarını şöyle tanımlayabiliriz:\n",
    "$$\\begin{eqnarray}\n",
    "f_1(x) = x - \\frac{x^3}{6} \\\\\n",
    "f_2(x) = x - \\frac{x^3}{6} + \\frac{x^5}{120}\\\\\n",
    "f_3(x) = x - \\frac{x^3}{6} + \\frac{x^5}{120} - \\frac{x^7}{5040}\n",
    "\\end{eqnarray}$$\n",
    "\n",
    "ve 0 ile 1 arasında değişen $x$ değerleri için, her satıra $x$, $f_1(x)$, $f_2(x)$, $f_3(x)$, $\\sin x$ değerlerini ekrana yazalım."
   ]
  },
  {
   "cell_type": "code",
   "execution_count": 24,
   "metadata": {},
   "outputs": [
    {
     "name": "stdout",
     "output_type": "stream",
     "text": [
      "x       f1      f2      f3      sin(x) \n",
      "0.00000 0.00000 0.00000 0.00000 0.00000\n",
      "0.10000 0.09983 0.09983 0.09983 0.09983\n",
      "0.20000 0.19867 0.19867 0.19867 0.19867\n",
      "0.30000 0.29550 0.29552 0.29552 0.29552\n",
      "0.40000 0.38933 0.38942 0.38942 0.38942\n",
      "0.50000 0.47917 0.47943 0.47943 0.47943\n",
      "0.60000 0.56400 0.56465 0.56465 0.56464\n",
      "0.70000 0.64283 0.64423 0.64425 0.64422\n",
      "0.80000 0.71467 0.71740 0.71744 0.71736\n",
      "0.90000 0.77850 0.78342 0.78352 0.78333\n",
      "1.00000 0.83333 0.84167 0.84187 0.84147\n"
     ]
    }
   ],
   "source": [
    "import math\n",
    "x = 0.0\n",
    "dx = 0.1\n",
    "print(\"{:7s} {:7s} {:7s} {:7s} {:7s}\".format(\"x\",\"f1\",\"f2\",\"f3\",\"sin(x)\"))\n",
    "while x <= 1.0:\n",
    "    f1=x- x**3/6\n",
    "    f2=f1 + x**5/120\n",
    "    f3=f2  + x**7 /5040\n",
    "    print(\"{:1.5f} {:1.5f} {:1.5f} {:1.5f} {:1.5f}\".format(x,f1,f2,f3,math.sin(x)))\n",
    "    x +=dx"
   ]
  },
  {
   "cell_type": "markdown",
   "metadata": {
    "slideshow": {
     "slide_type": "slide"
    }
   },
   "source": [
    "Soru: Çarpım tablosunu ekrana yazan python kodunu yazınız"
   ]
  },
  {
   "cell_type": "code",
   "execution_count": 30,
   "metadata": {},
   "outputs": [
    {
     "name": "stdout",
     "output_type": "stream",
     "text": [
      "--------\n",
      "1 x 1 = 1\n",
      "1 x 2 = 2\n",
      "1 x 3 = 3\n",
      "1 x 4 = 4\n",
      "1 x 5 = 5\n",
      "1 x 6 = 6\n",
      "1 x 7 = 7\n",
      "1 x 8 = 8\n",
      "1 x 9 = 9\n",
      "--------\n",
      "2 x 1 = 2\n",
      "2 x 2 = 4\n",
      "2 x 3 = 6\n",
      "2 x 4 = 8\n",
      "2 x 5 = 10\n",
      "2 x 6 = 12\n",
      "2 x 7 = 14\n",
      "2 x 8 = 16\n",
      "2 x 9 = 18\n",
      "--------\n",
      "3 x 1 = 3\n",
      "3 x 2 = 6\n",
      "3 x 3 = 9\n",
      "3 x 4 = 12\n",
      "3 x 5 = 15\n",
      "3 x 6 = 18\n",
      "3 x 7 = 21\n",
      "3 x 8 = 24\n",
      "3 x 9 = 27\n",
      "--------\n",
      "4 x 1 = 4\n",
      "4 x 2 = 8\n",
      "4 x 3 = 12\n",
      "4 x 4 = 16\n",
      "4 x 5 = 20\n",
      "4 x 6 = 24\n",
      "4 x 7 = 28\n",
      "4 x 8 = 32\n",
      "4 x 9 = 36\n",
      "--------\n",
      "5 x 1 = 5\n",
      "5 x 2 = 10\n",
      "5 x 3 = 15\n",
      "5 x 4 = 20\n",
      "5 x 5 = 25\n",
      "5 x 6 = 30\n",
      "5 x 7 = 35\n",
      "5 x 8 = 40\n",
      "5 x 9 = 45\n",
      "--------\n",
      "6 x 1 = 6\n",
      "6 x 2 = 12\n",
      "6 x 3 = 18\n",
      "6 x 4 = 24\n",
      "6 x 5 = 30\n",
      "6 x 6 = 36\n",
      "6 x 7 = 42\n",
      "6 x 8 = 48\n",
      "6 x 9 = 54\n",
      "--------\n",
      "7 x 1 = 7\n",
      "7 x 2 = 14\n",
      "7 x 3 = 21\n",
      "7 x 4 = 28\n",
      "7 x 5 = 35\n",
      "7 x 6 = 42\n",
      "7 x 7 = 49\n",
      "7 x 8 = 56\n",
      "7 x 9 = 63\n",
      "--------\n",
      "8 x 1 = 8\n",
      "8 x 2 = 16\n",
      "8 x 3 = 24\n",
      "8 x 4 = 32\n",
      "8 x 5 = 40\n",
      "8 x 6 = 48\n",
      "8 x 7 = 56\n",
      "8 x 8 = 64\n",
      "8 x 9 = 72\n",
      "--------\n",
      "9 x 1 = 9\n",
      "9 x 2 = 18\n",
      "9 x 3 = 27\n",
      "9 x 4 = 36\n",
      "9 x 5 = 45\n",
      "9 x 6 = 54\n",
      "9 x 7 = 63\n",
      "9 x 8 = 72\n",
      "9 x 9 = 81\n"
     ]
    }
   ],
   "source": [
    "for i in range(1,10):\n",
    "    print(\"--------\")\n",
    "    for j in range(1,10):\n",
    "        print(\"{} x {} = {}\".format(i,j,i*j))"
   ]
  },
  {
   "cell_type": "markdown",
   "metadata": {
    "slideshow": {
     "slide_type": "slide"
    }
   },
   "source": [
    "Kullanıcının gireceği iki tam sayısının en büyük ortak bölenini (EBOB) ve en küçük ortak katı (EKOK) bulan program yazınız"
   ]
  },
  {
   "cell_type": "code",
   "execution_count": null,
   "metadata": {},
   "outputs": [],
   "source": [
    "sayi1 = int(input(\"Birinci Sayıyı Giriniz:\"))\n",
    "sayi2 = int(input(\"İkinci Sayıyı Giriniz:\"))\n",
    "\n",
    "if sayi1 > sayi2:\n",
    "    enKucukSayi = sayi2\n",
    "else:\n",
    "    enKucukSayi = sayi1\n",
    "\n",
    "for i in range(1,enKucukSayi+1):\n",
    "    if (sayi1 % i == 0) and (sayi2 % i == 0):\n",
    "        #print(\"Ortak Bölenlerim:\",i)\n",
    "        ebob = i\n",
    "\n",
    "print(\"Ebob=\",ebob)\n",
    "print(\"Ekok=\",(sayi1 * sayi2)//ebob)"
   ]
  },
  {
   "cell_type": "markdown",
   "metadata": {
    "slideshow": {
     "slide_type": "slide"
    }
   },
   "source": [
    "1'den 100'e kadar olan sayılardan sadece 3'e bölünen sayıları ekrana bastırın"
   ]
  },
  {
   "cell_type": "code",
   "execution_count": null,
   "metadata": {},
   "outputs": [],
   "source": []
  },
  {
   "cell_type": "markdown",
   "metadata": {
    "slideshow": {
     "slide_type": "slide"
    }
   },
   "source": [
    "1'den baslayıp 1000000 kadar olan sayıların,  kendisini oluşturan rakamların basamak sayısı kadar kuvvetlerinin toplamı kadar olan sayıları bulunuz (Amstrong sayıları) ve kaç adet olduklarını yazdırınız.\n",
    "\n",
    "9474 : yani 4 sayıdan oluşuyor...\n",
    "9^4 + 4^4 + 7^4 +4^4 = 9474\n",
    "\n",
    "153: 3 sayıdan oluşuyor\n",
    "\n",
    "1^3+5^3+3^3=153\n",
    "\n",
    "153//10=15   kalan =3  15        /10 kalan 5 1/10 kalan 1  0  \n",
    "\n",
    "b1^^n+b2^^n...bn^^n=b1b2b3...bn"
   ]
  },
  {
   "cell_type": "code",
   "execution_count": null,
   "metadata": {},
   "outputs": [],
   "source": [
    "for sayi in range(1,1000000):\n",
    "    basamakSayi = len(str(sayi))\n",
    "    toplam = 0\n",
    "    tmp = sayi\n",
    "    while tmp > 0:\n",
    "        rakam = tmp % 10\n",
    "        toplam = toplam + rakam ** basamakSayi\n",
    "        tmp = tmp // 10\n",
    "        \n",
    "        \n",
    "    if sayi == toplam:\n",
    "        print(\"{} bir amstrong sayısıdır\".format(sayi))"
   ]
  },
  {
   "cell_type": "markdown",
   "metadata": {
    "slideshow": {
     "slide_type": "slide"
    }
   },
   "source": [
    "Kullanıcının girdiği sayının pozitif tam bölenlerini bulan kodu yazınız."
   ]
  },
  {
   "cell_type": "code",
   "execution_count": null,
   "metadata": {},
   "outputs": [],
   "source": []
  },
  {
   "cell_type": "markdown",
   "metadata": {
    "slideshow": {
     "slide_type": "slide"
    }
   },
   "source": [
    "<br>Kullanıcı tarafından klavyeden girilen 5 karakterlik bir ismin içerisindeki küçük harfleri büyük harfe, büyük harfleri küçük harfe çeviren bir fonksiyon tasarlayınız. Eğer isim 5 karakterden az yada çok ise uyarı yapıp tekrar kullanıcıdan istesin.</br>"
   ]
  },
  {
   "cell_type": "code",
   "execution_count": null,
   "metadata": {},
   "outputs": [],
   "source": []
  },
  {
   "cell_type": "code",
   "execution_count": null,
   "metadata": {},
   "outputs": [],
   "source": []
  },
  {
   "cell_type": "markdown",
   "metadata": {
    "slideshow": {
     "slide_type": "slide"
    }
   },
   "source": [
    "# Collatz dizisi\n",
    "\n",
    "Collatz dizisi pozitif tamsayılardan oluşur. Diziyi oluşturma kuralı şöyledir:\n",
    "\n",
    "$n_i$ çift sayıysa: $n_{i+1} = n_i/2$\n",
    "\n",
    "$n_i$ tek sayıysa: $n_{i+1} = 3n_i+1$\n",
    "\n",
    "Dizi 1'e ulaştığında durur. Sözgelişi, diziye 13 ile başlarsak\n",
    "\n",
    "13, 40,20, 10, 5, 16, 8, 4, 2,1\n",
    "\n",
    "elde ederiz. Collatz dizisi adı verilen bu diziyi basit bir Python programıyla üretiniz.:"
   ]
  },
  {
   "cell_type": "code",
   "execution_count": null,
   "metadata": {},
   "outputs": [],
   "source": []
  },
  {
   "cell_type": "markdown",
   "metadata": {},
   "source": []
  },
  {
   "cell_type": "code",
   "execution_count": null,
   "metadata": {
    "slideshow": {
     "slide_type": "slide"
    }
   },
   "outputs": [],
   "source": []
  },
  {
   "cell_type": "code",
   "execution_count": null,
   "metadata": {},
   "outputs": [],
   "source": [
    "\n",
    "    "
   ]
  }
 ],
 "metadata": {
  "celltoolbar": "Slideshow",
  "kernelspec": {
   "display_name": "Python 3",
   "language": "python",
   "name": "python3"
  },
  "language_info": {
   "codemirror_mode": {
    "name": "ipython",
    "version": 3
   },
   "file_extension": ".py",
   "mimetype": "text/x-python",
   "name": "python",
   "nbconvert_exporter": "python",
   "pygments_lexer": "ipython3",
   "version": "3.8.3"
  }
 },
 "nbformat": 4,
 "nbformat_minor": 4
}
