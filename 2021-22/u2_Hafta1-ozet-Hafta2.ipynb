{
 "cells": [
  {
   "cell_type": "markdown",
   "id": "ec375326",
   "metadata": {
    "slideshow": {
     "slide_type": "slide"
    }
   },
   "source": [
    "# Programlama\n",
    "\n",
    "## Hafta 1:  Bilgisayarlar ve Programlama - kavramlar\n",
    "\n",
    "### Dr. Murat GEZER"
   ]
  },
  {
   "cell_type": "markdown",
   "id": "b621e5f7",
   "metadata": {
    "slideshow": {
     "slide_type": "slide"
    }
   },
   "source": [
    "**Computer:** Matematiksel problemleri hesaplama anlamında **compute** kelimesinden türetilmiştir.\n",
    "\n",
    "Türk Dil Kurumu tanımı: Çok sayıda aritmetiksel veya mantıksal işlemlerden oluşan bir işi, önceden verilmiş programa göre yapıp sonuçlandıran elektronik aygıt, elektronik beyin."
   ]
  },
  {
   "cell_type": "markdown",
   "id": "51fc8d3c",
   "metadata": {
    "slideshow": {
     "slide_type": "slide"
    }
   },
   "source": [
    "# Donanım (Hardware)\n",
    "\n",
    "<center>\n",
    "<img src=\"./images/32wzi7rjebmgi9qcwwengf5r-1.png\" width=\"50%\" height=\"50%\" />\n",
    "</center>"
   ]
  },
  {
   "cell_type": "markdown",
   "id": "19d1a823",
   "metadata": {
    "slideshow": {
     "slide_type": "slide"
    }
   },
   "source": [
    "Bir bilgisayar donanımının birimleri\n",
    "* **Girdi Aygıtları:** Bilgisayar sistemlerinde verilerin girdisi amaçlı kullanılan birimler\n",
    "* **Çıktı Aygıtları:** çıktı amaçlı kullanılan birimler\n",
    "* **Bellek Birimleri:** Verilerin sürekli veya gecici olarak saklanan birimler. Random access memory (RAM) ve Read only memory (ROM)\n",
    "* **İşlemci:** Aritmetik ve mantık işlemlerin yapıldığı , yapılan işlemlerin denetlendiği ve yönlendildiği birim Central Processing Unit (CPU)\n",
    "* **İkincil Hafıza Birimler:** Verilerin kalıcı olarak depolandığı alanlar"
   ]
  },
  {
   "cell_type": "markdown",
   "id": "0de85988",
   "metadata": {
    "slideshow": {
     "slide_type": "slide"
    }
   },
   "source": [
    "# Yazılım (Software)\n",
    "\n",
    "Bilgisayarda kullanılan her türlü programa yazılım denir.\n",
    "Yazılımlar, sistem yazılımları (system software), uygulama yazılımları (application software) ve çevirici yazılımları olmak üzere üç türdür."
   ]
  },
  {
   "cell_type": "markdown",
   "id": "4d4bc4b6",
   "metadata": {
    "slideshow": {
     "slide_type": "slide"
    }
   },
   "source": [
    "## 1- Sistem Yazılımları\n",
    "\n",
    "Bilgisayarların en temel yazılımları sistem yazılımlarıdır bu yazılımlar genelde işletim sistemidir."
   ]
  },
  {
   "cell_type": "markdown",
   "id": "ad2e4b1e",
   "metadata": {
    "slideshow": {
     "slide_type": "slide"
    }
   },
   "source": [
    "## 2- Uygulama Yazılımları\n",
    "\n",
    "Kullanıcıların işlerine yönelik gereksinim duydukları yazılımlardır"
   ]
  },
  {
   "cell_type": "markdown",
   "id": "9cf8b448",
   "metadata": {
    "slideshow": {
     "slide_type": "slide"
    }
   },
   "source": [
    "## 3- Çevirici Yazılımları\n",
    "\n",
    "En gerekli olmazsa olmaz yazılımlardan biridir ve çevirici yazılımlar yani programlama dilleri işletim sistemleri ve uygulamaları yapmamıza yarayan yazılımlarıdır.\n",
    "\n",
    "1- Makine Dilleri\n",
    "\n",
    "2- Assembly Dilleri\n",
    "\n",
    "3- Yüksek Seviye Diller\n",
    "\n",
    "\n",
    "    - C\n",
    "    - C++\n",
    "    - C##\n",
    "    - Java\n",
    "    - Python"
   ]
  },
  {
   "cell_type": "markdown",
   "id": "a075bb23",
   "metadata": {
    "slideshow": {
     "slide_type": "slide"
    }
   },
   "source": [
    "Makine Dili: Bilgisayarların aslında anladığı tek dildir. Bütün komutlar 1 ve 0'dan oluşur. \n",
    "\n",
    "\"hello\"\n",
    "\n",
    "01101000 01100101 01101100 01101100 01101111\n",
    "\n",
    "Assembly Dili: Daha anlaşılabilir genelde basit  komutlardan (instruction set) oluşan bir dildir. Örneğin \n",
    "<pre>\n",
    "      lda #8         ; 'H' Screen Code\n",
    "      sta VICSCN + 0 ; 'H' in $0400 screen memory\n",
    "      lda #5         ; 'E' Screen Code\n",
    "      sta VICSCN + 1 ; 'E' in $0400+1 screen memory\n",
    "      lda #12         ; 'L' Screen Code\n",
    "      sta VICSCN + 2 ; 'L' in $0400+2 screen memory\n",
    "      lda #12         ; 'L' Screen Code\n",
    "      sta VICSCN + 3 ; 'L' in $0400+3 screen memory\n",
    "      lda #15         ; 'O' Screen Code\n",
    "      sta VICSCN + 4 ; 'O' in $0400+4 screen memory\n",
    "      \n",
    "</pre>"
   ]
  },
  {
   "cell_type": "markdown",
   "id": "61167586",
   "metadata": {
    "slideshow": {
     "slide_type": "slide"
    }
   },
   "source": [
    "### Derleyici (Compiler)\n",
    "\n",
    "Derleyici , herhangi bir programlama dili ile yazılmış programı makine diline (çalıştırılabilir koda) çevirir.\n",
    "\n",
    "Pyton için pyinstalle, py2exe gibi programlar derlememe işlemi yapar\n",
    "\n",
    "### Yorumlayıcı (Interpreter)\n",
    "\n",
    "Yorumlayıcı ile bir programlama dilini satır satır çalıştırır.\n",
    "\n"
   ]
  },
  {
   "cell_type": "markdown",
   "id": "e7453414",
   "metadata": {
    "slideshow": {
     "slide_type": "slide"
    }
   },
   "source": [
    "# Python\n",
    "\n",
    "Python, nesne yönelimli, yorumlamalı, birimsel (modüler) ve etkileşimli yüksek seviyeli bir programlama dilidir.\n",
    "Girintilere dayalı basit söz dizimi, dilin öğrenilmesini ve akılda kalmasını kolaylaştırır.\n",
    "Bu da ona söz diziminin ayrıntıları ile vakit yitirmeden programlama yapılmaya başlanabilen bir dil olma özelliği kazandırır.\n",
    "Modüler yapısı, sınıf dizgesini (sistem) ve her türlü veri alanı girişini destekler.\n",
    "Hemen hemen her türlü platformda çalışabilir (Unix, Linux, Mac, Windows, Amiga, Symbian). \n",
    "Python ile sistem programlama, kullanıcı arabirimi programlama, ağ programlama, web programlama, uygulama ve veri tabanı yazılımı programlama gibi birçok alanda yazılım geliştirebilirsiniz. \n",
    "Büyük yazılımların hızlı bir şekilde prototiplerinin üretilmesi ve denenmesi gerektiği durumlarda da C ya da C++ gibi dillere tercih edilir.\n",
    "Python 1980lerin sonunda ABC programlama diline alternatif olarak tasarlanmıştı. \n"
   ]
  },
  {
   "cell_type": "markdown",
   "id": "f4562500",
   "metadata": {
    "slideshow": {
     "slide_type": "slide"
    }
   },
   "source": [
    "- Numpy\n",
    "- scipy\n",
    "- Pandas\n",
    "- matplotlib\n",
    "- Bokeh\n",
    "- scikit-Learn\n",
    "- Opencv\n",
    "- scikit-image\n"
   ]
  },
  {
   "cell_type": "markdown",
   "id": "aed6534e",
   "metadata": {
    "slideshow": {
     "slide_type": "slide"
    }
   },
   "source": [
    "# Algoritma\n",
    "\n",
    "Bir problemi çözmek için kullanılacak yol olarak adlandırabiliriz.\n",
    "\n",
    "Bir algoritma\n",
    "- net olmalı , ve kesinlikle belirsizlik içermemeli\n",
    "- Bilgisayar ortamında çalıştırılabilir olmalıdır\n",
    "- sıralı işlem basamaklarından oluşmalıdır\n",
    "- belirli zaman aralığında çözülmelidir.\n",
    "\n",
    "Algoritmalar,\n",
    "\n",
    "- Düz metin ifadeleri,\n",
    "- Kaba kod (Pseudo code)\n",
    "- Akış şemaları\n",
    "\n"
   ]
  },
  {
   "cell_type": "markdown",
   "id": "d09e0322",
   "metadata": {
    "slideshow": {
     "slide_type": "slide"
    }
   },
   "source": [
    "## Düz Metin İfadeleri\n",
    "\n",
    "günlük konuşma dili yapılan ifadelerdir.\n",
    "\n",
    "## Kaba Kod (Pseudo Code)\n",
    "\n",
    "yarı türkçe , yarı ingilizce ifadelerden oluşur\n",
    "\n",
    "## Akış Şeması (Flow Charts)\n",
    "\n",
    "Görsel olarak simge ya da sembollerle ifade edilmiş şekline akış şemaları (flowchart) adı verilir.\n",
    "\n",
    "\n",
    "    \n",
    "<img src=\"./images/akissemasi.png\" width=\"50%\" height=\"50%\" />\n",
    "\n"
   ]
  },
  {
   "cell_type": "markdown",
   "id": "8452b22b",
   "metadata": {
    "slideshow": {
     "slide_type": "slide"
    }
   },
   "source": [
    "## İki sayının Toplamı\n",
    "\n",
    "iki sayının toplamını hesaplayan basit bir matematiksel işlemin algoritmasını düz metin ve akış şemaları ile gösteriniz."
   ]
  },
  {
   "cell_type": "markdown",
   "id": "888c9870",
   "metadata": {
    "slideshow": {
     "slide_type": "slide"
    }
   },
   "source": [
    "<table>\n",
    "    <tr>\n",
    "        <td>\n",
    "\n",
    "1- Başla\n",
    "\n",
    "2- Gir , iki sayi (sayi1, sayi2)\n",
    "\n",
    "3- Topla, girilen iki sayi (Toplam = sayi1 + sayi2)\n",
    "\n",
    "4- Yaz, toplam sonucu (Topla)\n",
    "\n",
    "5- Dur\n",
    "        </td>\n",
    "<td>\n",
    "\n",
    "<img src=\"./images/ikisayitoplam.png\" width=\"70%\" height=\"70%\" />"
   ]
  },
  {
   "cell_type": "markdown",
   "id": "3f0450b6",
   "metadata": {
    "slideshow": {
     "slide_type": "slide"
    }
   },
   "source": [
    "### Kurulum\n",
    "\n",
    "https://www.anaconda.com/products/individual"
   ]
  },
  {
   "cell_type": "markdown",
   "id": "52f5a998-828d-4c86-bf87-a05f21d733ec",
   "metadata": {
    "slideshow": {
     "slide_type": "slide"
    }
   },
   "source": [
    "**Yorum Satırları, Değişkenler, Veri Tipleri ve Operatörler**<br>"
   ]
  },
  {
   "cell_type": "code",
   "execution_count": null,
   "id": "76e6da79-08a0-4bb7-91f0-d2e058845636",
   "metadata": {},
   "outputs": [],
   "source": [
    "#Bu kod ekrana yazı yazılmasını sağlamaktadır.\n",
    "print (\"Konu: Yorum satırlarını kullanma\")\n",
    "#Her satırın başına # işareti ekleyerek \n",
    "#Alt alta yorum satırları oluşturabilirsiniz"
   ]
  },
  {
   "cell_type": "markdown",
   "id": "c222a583",
   "metadata": {},
   "source": [
    "**Örnek 2**<br>\n",
    "Yorum satırlarını kod satırının devamında aynı satırda kullanabilirsiniz. Bu kullanımda önce kod gelir,\n",
    "devamında yorum satırı “#” işareti ile başlar (öndeki kod çalışır), daha sonra satır sonuna kadar yorum\n",
    "satırı olarak dikkate alınmaz."
   ]
  },
  {
   "cell_type": "markdown",
   "id": "daac3e05",
   "metadata": {
    "slideshow": {
     "slide_type": "slide"
    }
   },
   "source": [
    "# Degişkenler\n",
    "\n",
    "## Değişken Tipleri\n",
    "### int integer (tamsayı)\n",
    "### float floating point (kayan noktalı sayılar - reel sayılar)\n",
    "### str string (Harf katarı, cümle , kelime )\n",
    "\n",
    "Değişken ismi tanımlamada kurallar \n",
    "- [A-Z],[a-z],[0-9],_ kullanılır\n",
    "- isimler sayı ile başlamaz\n",
    "- Küçük Büyük harfler ayrıdır."
   ]
  },
  {
   "cell_type": "code",
   "execution_count": null,
   "id": "857f1294-5730-4752-817e-049067337ecf",
   "metadata": {
    "slideshow": {
     "slide_type": "slide"
    }
   },
   "outputs": [],
   "source": [
    "ogrenciAdi = \"2890\"  #String türünde bir değişken\n",
    "ogrenciNo = 105 #Tamsayı (Integer) türünde bir değişken\n",
    "ogrenciOrtalama = 86.75 #Floating Point türünde bir değişken"
   ]
  },
  {
   "cell_type": "code",
   "execution_count": null,
   "id": "4af4fadd-9af6-467e-a693-c85e7b9d8ebf",
   "metadata": {
    "slideshow": {
     "slide_type": "slide"
    }
   },
   "outputs": [],
   "source": [
    "print(ogrenciAdi)\n",
    "print(ogrenciNo)\n",
    "print(ogrenciOrtalama)\n"
   ]
  },
  {
   "cell_type": "code",
   "execution_count": null,
   "id": "b4e6e873",
   "metadata": {
    "slideshow": {
     "slide_type": "slide"
    }
   },
   "outputs": [],
   "source": [
    "print(type(ogrenciAdi))\n",
    "print(type(ogrenciNo))\n",
    "print(type(ogrenciOrtalama))"
   ]
  },
  {
   "cell_type": "markdown",
   "id": "8ab5e3eb",
   "metadata": {
    "slideshow": {
     "slide_type": "slide"
    }
   },
   "source": [
    "# Bilgisayarda Basit Bir Çıktı - Print fonksiyonu "
   ]
  },
  {
   "cell_type": "code",
   "execution_count": null,
   "id": "6724f8bc",
   "metadata": {},
   "outputs": [],
   "source": [
    "a = 2021 #integer (tam sayı)\n",
    "b = \"İstanbul Üniversitesi\" #string değişken\n",
    "print(a,\" yılındayız ve \",b,\" öğrencisiyiz\")"
   ]
  },
  {
   "cell_type": "code",
   "execution_count": null,
   "id": "4cc07924",
   "metadata": {},
   "outputs": [],
   "source": [
    "print(126//25)"
   ]
  },
  {
   "cell_type": "markdown",
   "id": "3b150e51",
   "metadata": {
    "slideshow": {
     "slide_type": "slide"
    }
   },
   "source": [
    "## Formatlı Yazma Örnekleri"
   ]
  },
  {
   "cell_type": "code",
   "execution_count": null,
   "id": "7c85d259",
   "metadata": {},
   "outputs": [],
   "source": [
    "a=2020\n",
    "b=\"İstanbul Üniversitesi\"\n",
    "\n",
    "print(\"{} yılındayız ve {} öğrencisiyiz\".format(a,b))"
   ]
  },
  {
   "cell_type": "code",
   "execution_count": null,
   "id": "aecf8b6a",
   "metadata": {
    "slideshow": {
     "slide_type": "slide"
    }
   },
   "outputs": [],
   "source": [
    " # a değişkenim yılı almakta\n",
    "a=2020\n",
    "# b değişkenim okulunun adını\n",
    "b=\"İstanbul Üniversitesi\"\n",
    "#\n",
    "print(\"{1} yılındayız ve {0} öğrencisiyiz\".format(b,a))"
   ]
  },
  {
   "cell_type": "code",
   "execution_count": null,
   "id": "72c01159",
   "metadata": {
    "slideshow": {
     "slide_type": "slide"
    }
   },
   "outputs": [],
   "source": [
    "a=2021.22344333\n",
    "b=\"İstanbul Üniversitesi\"\n",
    "\n",
    "print(\"%0.3f yılındayız ve %s öğrencisiyiz\"%(a,b))\n",
    "\n",
    "# %d integer\n",
    "# %f float\n",
    "# %s string "
   ]
  },
  {
   "cell_type": "code",
   "execution_count": null,
   "id": "feea5d25",
   "metadata": {
    "slideshow": {
     "slide_type": "slide"
    }
   },
   "outputs": [],
   "source": [
    "print('Merhaba {name}, {selam}'.format(selam = 'Günaydın', name = 'Ahmet'))"
   ]
  },
  {
   "cell_type": "markdown",
   "id": "00e0c707",
   "metadata": {
    "slideshow": {
     "slide_type": "slide"
    }
   },
   "source": [
    "# Print ve Tipler\n",
    "- %d tam sayı  int()\n",
    "- %f float sayı  float()\n",
    "- %s string str()\n",
    "\n",
    "yapı için yer tutucudur."
   ]
  },
  {
   "cell_type": "code",
   "execution_count": 6,
   "id": "d9c345ba",
   "metadata": {},
   "outputs": [
    {
     "name": "stdout",
     "output_type": "stream",
     "text": [
      "Lütfen sayı giriniz:12.34\n",
      "Lütfen sayı giriniz:56.78\n",
      "toplam= 69.12\n",
      "sayi 1'in tipi <class 'float'>\n",
      "sayi 2'nin tipi <class 'float'>\n",
      "toplamın tipi <class 'float'>\n"
     ]
    }
   ],
   "source": [
    "sayi1 = float(input(\"Lütfen sayı giriniz:\"))\n",
    "sayi2 = float(input(\"Lütfen sayı giriniz:\"))\n",
    "toplam = sayi1 + sayi2\n",
    "print(\"toplam=\",toplam)\n",
    "print(\"sayi 1'in tipi\",type(sayi1))\n",
    "print(\"sayi 2'nin tipi\",type(sayi2))\n",
    "print(\"toplamın tipi\",type(toplam))"
   ]
  },
  {
   "cell_type": "code",
   "execution_count": 8,
   "id": "038d0baf",
   "metadata": {
    "slideshow": {
     "slide_type": "slide"
    }
   },
   "outputs": [
    {
     "name": "stdout",
     "output_type": "stream",
     "text": [
      "x'in değeri  12.346\n",
      "z'in değeri  merhaba\n"
     ]
    }
   ],
   "source": [
    "# Dikkat burada yeni bir şey var bakalım bulacakmısınız\n",
    "x = 12.3456789 #float yapı\n",
    "y = 23433  #integer türünde\n",
    "z = \"merhaba millet\" #String türünde\n",
    "print(\"x'in değeri  %1.3f\" %x)\n",
    "print(\"z'in değeri  %.7s\" %z)"
   ]
  },
  {
   "cell_type": "markdown",
   "id": "7e75287f",
   "metadata": {
    "slideshow": {
     "slide_type": "slide"
    }
   },
   "source": [
    "# String İşlemleri  \n",
    "\n",
    "\n",
    "Örnek: Ekrana \n",
    "\n",
    "**Python programlama dilinin adı \"piton\" yılanından gelmez** \n",
    "\n",
    "yazdırmak isteyelim"
   ]
  },
  {
   "cell_type": "code",
   "execution_count": 10,
   "id": "17d0974d",
   "metadata": {
    "slideshow": {
     "slide_type": "slide"
    }
   },
   "outputs": [
    {
     "name": "stdout",
     "output_type": "stream",
     "text": [
      "Python programlama dilinin adı 'piton' yılanından gelmez\n"
     ]
    }
   ],
   "source": [
    "print(\"Python programlama dilinin adı 'piton' yılanından gelmez\")"
   ]
  },
  {
   "cell_type": "code",
   "execution_count": 11,
   "id": "71c677b7",
   "metadata": {
    "slideshow": {
     "slide_type": "slide"
    }
   },
   "outputs": [
    {
     "name": "stdout",
     "output_type": "stream",
     "text": [
      "Python programlama dilinin adı \"piton\" yılanından gelmez\n"
     ]
    }
   ],
   "source": [
    "print(\"\"\"Python programlama dilinin adı \"piton\" yılanından gelmez\"\"\")"
   ]
  },
  {
   "cell_type": "code",
   "execution_count": 12,
   "id": "1672150b",
   "metadata": {
    "slideshow": {
     "slide_type": "-"
    }
   },
   "outputs": [
    {
     "name": "stdout",
     "output_type": "stream",
     "text": [
      "İstanbul'un 5 günlük hava durumu tahmini\n"
     ]
    }
   ],
   "source": [
    "print(\"\"\"İstanbul'un 5 günlük hava durumu tahmini\"\"\")"
   ]
  },
  {
   "cell_type": "code",
   "execution_count": 13,
   "id": "b5073570",
   "metadata": {},
   "outputs": [
    {
     "name": "stdout",
     "output_type": "stream",
     "text": [
      "Python programlama dili Guido Van Rossum\n",
      "adlı Hollandalı bir programcı tarafından 90’lı\n",
      "yılların başında geliştirilmeye başlanmıştır. Çoğu\n",
      "insan, isminin Python olmasına bakarak, bu programlama\n",
      "dilinin, adını piton yılanından aldığını düşünür.\n",
      "Ancak zannedildiğinin aksine bu programlama dilinin\n",
      "adı piton yılanından gelmez.\n"
     ]
    }
   ],
   "source": [
    "print(\"\"\"Python programlama dili Guido Van Rossum\n",
    "adlı Hollandalı bir programcı tarafından 90’lı\n",
    "yılların başında geliştirilmeye başlanmıştır. Çoğu\n",
    "insan, isminin Python olmasına bakarak, bu programlama\n",
    "dilinin, adını piton yılanından aldığını düşünür.\n",
    "Ancak zannedildiğinin aksine bu programlama dilinin\n",
    "adı piton yılanından gelmez.\"\"\")"
   ]
  },
  {
   "cell_type": "markdown",
   "id": "b827c22c",
   "metadata": {
    "slideshow": {
     "slide_type": "slide"
    }
   },
   "source": [
    "## Print özel konular\n",
    "\n",
    "### sep ifadesi, \n",
    "İngilizcede separator (ayırıcı, ayraç) kelimesinin kısaltmasıdır. Dolayısıyla print() fonksiyonundaki bu sep parametresi, ekrana basılacak öğeler arasına hangi karakterin yerleştirileceğini gösterir."
   ]
  },
  {
   "cell_type": "code",
   "execution_count": 14,
   "id": "c69852b7",
   "metadata": {},
   "outputs": [
    {
     "name": "stdout",
     "output_type": "stream",
     "text": [
      "T.C\n",
      "http://*www*google*com\n"
     ]
    }
   ],
   "source": [
    "print(\"T\", \"C\", sep=\".\")\n",
    "print(\"http://\", \"www\", \"google\", \"com\", sep=\"*\")"
   ]
  },
  {
   "cell_type": "code",
   "execution_count": 15,
   "id": "393998b5",
   "metadata": {},
   "outputs": [
    {
     "name": "stdout",
     "output_type": "stream",
     "text": [
      "1/2/3/4/5\n"
     ]
    }
   ],
   "source": [
    "print(1, 2, 3, 4, 5, sep=\"/\")"
   ]
  },
  {
   "cell_type": "markdown",
   "id": "f5de1056",
   "metadata": {
    "slideshow": {
     "slide_type": "slide"
    }
   },
   "source": [
    "### Print fonksiyonu için özel karakterler Kaçış Dizileri\n",
    " - \\n bir satır aşağı indir (new line) - Satır Başı \n",
    " - \\t tab tuşu kadar ileri yaz - Sekme"
   ]
  },
  {
   "cell_type": "code",
   "execution_count": 16,
   "id": "5d6cc927",
   "metadata": {},
   "outputs": [
    {
     "name": "stdout",
     "output_type": "stream",
     "text": [
      "birinci satır\n",
      "ikinci satır\n",
      "üçüncü satır\n"
     ]
    }
   ],
   "source": [
    "print(\"birinci satır\\nikinci satır\\nüçüncü satır\")"
   ]
  },
  {
   "cell_type": "code",
   "execution_count": 19,
   "id": "4b34a59e",
   "metadata": {
    "slideshow": {
     "slide_type": "slide"
    }
   },
   "outputs": [
    {
     "name": "stdout",
     "output_type": "stream",
     "text": [
      "birinci satır\n",
      "ikinci satır\n",
      "üçüncü satır\n"
     ]
    }
   ],
   "source": [
    "print(\"birinci satır\", \"ikinci satır\", \"üçüncü satır\", sep=\"\\n\")"
   ]
  },
  {
   "cell_type": "code",
   "execution_count": 20,
   "id": "630cf470",
   "metadata": {
    "slideshow": {
     "slide_type": "slide"
    }
   },
   "outputs": [
    {
     "name": "stdout",
     "output_type": "stream",
     "text": [
      "birinci satır\tikinci satır\tüçüncü satır\n"
     ]
    }
   ],
   "source": [
    "print(\"birinci satır\", \"ikinci satır\", \"üçüncü satır\", sep=\"\\t\")"
   ]
  },
  {
   "cell_type": "markdown",
   "id": "535f168f",
   "metadata": {
    "slideshow": {
     "slide_type": "slide"
    }
   },
   "source": [
    "**Soru** \n",
    "\n",
    "Acaba aşağıdaki gibi bir çıktıyı nasıl elde etmek için print ile neler yapabiliriz?\n",
    "\n",
    "L.i.n.u.x"
   ]
  },
  {
   "cell_type": "code",
   "execution_count": 21,
   "id": "ff85990f",
   "metadata": {},
   "outputs": [
    {
     "name": "stdout",
     "output_type": "stream",
     "text": [
      "L.i.n.u.x\n"
     ]
    }
   ],
   "source": [
    "print(\"L\", \"i\", \"n\", \"u\", \"x\", sep=\".\")"
   ]
  },
  {
   "cell_type": "code",
   "execution_count": null,
   "id": "79d68192",
   "metadata": {
    "slideshow": {
     "slide_type": "slide"
    }
   },
   "outputs": [],
   "source": [
    "print(\"L\", \"i\", \"n\", \"u\", \"x\", sep=\".\")"
   ]
  },
  {
   "cell_type": "code",
   "execution_count": null,
   "id": "95e006cf",
   "metadata": {
    "slideshow": {
     "slide_type": "slide"
    }
   },
   "outputs": [],
   "source": [
    "print(\"F\", \"e\", \"n\", \"e\", \"r\", \"b\", \"a\", \"h\", \"ç\", \"e\")"
   ]
  },
  {
   "cell_type": "code",
   "execution_count": null,
   "id": "312b13f6",
   "metadata": {},
   "outputs": [],
   "source": [
    "print(*\"Fenerbahçe\",sep=\" \")"
   ]
  },
  {
   "cell_type": "markdown",
   "id": "7c86860c",
   "metadata": {
    "slideshow": {
     "slide_type": "slide"
    }
   },
   "source": [
    "## * İşaretinin string yapılarda kullanışı\n",
    "print(*\"Fenerbahçe\")\n",
    "yıldız işareti; “Fenerbahçe” karakter dizisinin her bir öğesini parçalarına ayırarak, bunları tek tek print() fonksiyonuna yolluyor. Yani sanki print() fonksiyonunu şöyle yazmışız gibi oluyor:\n",
    "\n",
    "F e n e r b a h ç e"
   ]
  },
  {
   "cell_type": "markdown",
   "id": "35328dfe",
   "metadata": {
    "slideshow": {
     "slide_type": "slide"
    }
   },
   "source": [
    "## <b>Aynı Satır Başı (\\r)</b>\n",
    "Bu kaçış dizisi, bir karakter dizisinde aynı satırın en başına dönülmesini sağlar. "
   ]
  },
  {
   "cell_type": "code",
   "execution_count": null,
   "id": "6d1979e6",
   "metadata": {},
   "outputs": [],
   "source": [
    "print(\"Merhaba\\rZalim Dünya!\")"
   ]
  },
  {
   "cell_type": "markdown",
   "id": "1956edc1",
   "metadata": {
    "slideshow": {
     "slide_type": "slide"
    }
   },
   "source": [
    "## Burada ne oluyor bakalım yorumlayalım"
   ]
  },
  {
   "cell_type": "code",
   "execution_count": null,
   "id": "8f5ba95b",
   "metadata": {},
   "outputs": [],
   "source": [
    "print(\"C:\\ülke\\türkiye\\iller\\rize\\nüfus.txt\")"
   ]
  },
  {
   "cell_type": "code",
   "execution_count": null,
   "id": "026f0969",
   "metadata": {},
   "outputs": [],
   "source": []
  },
  {
   "cell_type": "markdown",
   "id": "feb65975",
   "metadata": {
    "slideshow": {
     "slide_type": "slide"
    }
   },
   "source": [
    "# Kullanıcıdan Bilgi Almak\n",
    "## input() Fonksiyonu\n",
    "\n",
    "input() da daha önce öğrendiğimiz type() ve print() gibi bir fonksiyondur."
   ]
  },
  {
   "cell_type": "code",
   "execution_count": null,
   "id": "b8933754",
   "metadata": {},
   "outputs": [],
   "source": [
    "isim = input(\"İsminiz nedir? \")\n",
    "print(\"Merhaba\", isim, \"!\\n\")\n",
    "print(\"Bugün hava soğuk!!!\")"
   ]
  },
  {
   "cell_type": "code",
   "execution_count": 22,
   "id": "02e9f4e5",
   "metadata": {
    "slideshow": {
     "slide_type": "slide"
    }
   },
   "outputs": [
    {
     "name": "stdout",
     "output_type": "stream",
     "text": [
      "Yaşınız: 12\n",
      "Demek 12 yaşındasın.\n",
      "Genç mi yoksa yaşlı mı olduğuna karar veremedim.\n",
      "<class 'str'>\n"
     ]
    }
   ],
   "source": [
    "yas = input(\"Yaşınız: \")\n",
    "\n",
    "print(\"Demek\", yas, \"yaşındasın.\")\n",
    "print(\"Genç mi yoksa yaşlı mı olduğuna karar veremedim.\")\n",
    "\n",
    "print(type(yas))"
   ]
  },
  {
   "cell_type": "markdown",
   "id": "2028c233",
   "metadata": {
    "slideshow": {
     "slide_type": "slide"
    }
   },
   "source": [
    "**Soru** \n",
    "\n",
    "Kullanıcıdan Çap'ı alınan bir dairenin alanını hesaplayan program yazınız. "
   ]
  },
  {
   "cell_type": "code",
   "execution_count": 23,
   "id": "dbab2e36",
   "metadata": {
    "slideshow": {
     "slide_type": "slide"
    }
   },
   "outputs": [
    {
     "name": "stdout",
     "output_type": "stream",
     "text": [
      "Dairenin çapı: 12\n",
      "Çapı 12 cm olan dairenin alanı: 113.097 cm2'dir\n"
     ]
    }
   ],
   "source": [
    "#Kullanıcıdan dairenin çapını girmesini istiyoruz.\n",
    "cap = float(input(\"Dairenin çapı: \"))\n",
    "\n",
    "#Kullanıcının verdiği çap bilgisini kullanarak\n",
    "#yarıçapı hesaplayalım. Buradaki int() fonksiyonunu\n",
    "#ilk kez görüyoruz. Biraz sonra bunu açıklayacağız\n",
    "yaricap = cap / 2\n",
    "\n",
    "#pi sayımız sabit\n",
    "PI = 3.14159\n",
    "\n",
    "#Yukarıdaki bilgileri kullanarak artık\n",
    "#dairenin alanını hesaplayabiliriz\n",
    "#alan = PI * (yaricap * yaricap)\n",
    "alan = PI * (yaricap**2)  #pow(yaricap,2)\n",
    "\n",
    "#Son olarak, hesapladığımız alanı yazdırıyoruz\n",
    "#print(\"Çapı\", cap, \"cm olan dairenin alanı: \", alan, \"cm2'dir\")\n",
    "\n",
    "print(\"Çapı %d cm olan dairenin alanı: %.3f cm2'dir\"%(cap,alan))"
   ]
  },
  {
   "cell_type": "markdown",
   "id": "b58c4e47",
   "metadata": {
    "slideshow": {
     "slide_type": "slide"
    }
   },
   "source": [
    "## Tip Dönüşümleri\n",
    "\n",
    "Diyelim ki kullanıcıdan aldığı sayının karesini hesaplayan bir program yazmak istiyoruz. Öncelikle şöyle bir şey deneyelim:"
   ]
  },
  {
   "cell_type": "code",
   "execution_count": null,
   "id": "bb72a077",
   "metadata": {},
   "outputs": [],
   "source": [
    "sayi = input(\"Lütfen bir sayı girin: \")\n",
    "\n",
    "#Girilen sayının karesini bulmak için sayı değişkeninin 2.\n",
    "#kuvvetini alıyoruz. Aynı şeyi pow() fonksiyonu ile de\n",
    "#yapabileceğimizi biliyorsunuz. Örn.: pow(sayı, 2)\n",
    "print(\"Girdiğiniz sayının karesi: \", pow(sayi,2))"
   ]
  },
  {
   "cell_type": "markdown",
   "id": "7b0dbde8",
   "metadata": {
    "slideshow": {
     "slide_type": "slide"
    }
   },
   "source": [
    "Bu kodları çalıştırdığımız zaman, programımız kullanıcıdan bir sayı girmesini isteyecek, ancak kullanıcı bir sayı girip Enter tuşuna bastığında bir hata mesajıyla karşılaştık.\n",
    "Hata mesajına baktığınızda, ‘TypeError’ ifadesinden, bunun veri tipine ilişkin bir hata olduğunu tahmin edebilirsiniz. Eğer İngilizce biliyorsanız yukarıdaki hata mesajının anlamını rahatlıkla çıkarabilirsiniz. İngilizce bilmeseniz de en sondaki ‘str’ ve ‘int’ kelimeleri size karakter dizisi ve sayı adlı veri tiplerini hatırlatacaktır."
   ]
  },
  {
   "cell_type": "markdown",
   "id": "a1921657",
   "metadata": {
    "slideshow": {
     "slide_type": "slide"
    }
   },
   "source": [
    "## Tip Dönüşümleri\n",
    "\n",
    "\n",
    "<b>input()</b> fonksiyonundan gelen veri her zaman bir karakter dizisidir.\n",
    "\n",
    "dönüşüm yapmalıyız şu an için bilmemiz ana tip dönüşüm fonksiyonları\n",
    "\n",
    "<b>int()</b> Sayı değerli bir karakter dizisini veya kayan noktalı sayıyı tamsayıya (integer) çevirir.<br>\n",
    "<b>float()</b> Sayı değerli bir karakter dizisini veya tamsayıyı kayan noktalı sayıya (float) çevirir.<br>\n",
    "<b>complex()</b> Herhangi bir sayıyı veya sayı değerli karakter dizisini karmaşık sayıya (complex) çevirir.<br>\n",
    "<b>str()</b> Herhangi bir sayıyı veya sayı değerli karakter dizisini karakter dizisine çevirir."
   ]
  },
  {
   "cell_type": "markdown",
   "id": "73139307",
   "metadata": {
    "slideshow": {
     "slide_type": "slide"
    }
   },
   "source": [
    "Mesela şu basit örneği inceleyelim ve sizce ne  oldu? "
   ]
  },
  {
   "cell_type": "code",
   "execution_count": null,
   "id": "07b82378",
   "metadata": {},
   "outputs": [],
   "source": [
    "sayı1 = int(input(\"Toplama işlemi için ilk sayıyı girin: \"))\n",
    "sayı2 = int(input(\"Toplama işlemi için ikinci sayıyı girin: \"))\n",
    "\n",
    "print(sayı1, \"+\", sayı2, \"=\", sayı1+ sayı2)\n",
    "\n",
    "print(\"Sayı 1 tipi:\",type(sayı1),sayı1)\n",
    "print(\"Sayı 2 tipi:\",type(sayı2),sayı2)\n",
    "print(\"Sayı 1 + Sayı 2 tipi:\",type(sayı1+sayı2),sayı1+sayı2)\n",
    "print(\"Sayı 1 + Sayı 2 tipi:\",type(int(sayı1+sayı2)),int(sayı1+sayı2))\n",
    "print(\"Sayı1 + Sayı2 tipi\",type(int(sayı1)+int(sayı2)),int(sayı1)+int(sayı2))"
   ]
  },
  {
   "cell_type": "code",
   "execution_count": null,
   "id": "2a676fb5",
   "metadata": {},
   "outputs": [],
   "source": [
    "55555*666666"
   ]
  },
  {
   "cell_type": "markdown",
   "id": "cf199f42",
   "metadata": {
    "slideshow": {
     "slide_type": "slide"
    }
   },
   "source": [
    "## eval fonksiyonu\n",
    "\n",
    "eval() ŞEYTANİ GÜÇLERİ OLAN BİR FONKSİYONDUR!\n",
    "\n",
    "İngilizcede evaluate diye bir kelime bulunur. Bu kelime, ‘değerlendirmeye tabi tutmak, işleme sokmak, işlemek’ gibi anlamlar taşır. İşte eval() fonksiyonundaki eval kelimesi bu evaluate kelimesinin kısaltmasıdır. Yani bu fonksiyonun görevi, kendisine verilen karakter dizilerini değerlendirmeye tabi tutmak ya da işlemektir."
   ]
  },
  {
   "cell_type": "code",
   "execution_count": null,
   "id": "893ecd27",
   "metadata": {},
   "outputs": [
    {
     "name": "stdout",
     "output_type": "stream",
     "text": [
      "\n",
      "Basit bir hesap makinesi uygulaması.\n",
      "\n",
      "İşleçler:\n",
      "    +   toplama\n",
      "    -   çıkarma\n",
      "    *   çarpma\n",
      "    /   bölme\n",
      "Yapmak istediğiniz işlemi yazıp ENTER\n",
      "tuşuna basın. (Örneğin 23 ve 46 sayılarını\n",
      "çarpmak için 23 * 46 yazdıktan sonra\n",
      "ENTER tuşuna basın.)\n",
      "\n"
     ]
    }
   ],
   "source": [
    "print(\"\"\"\n",
    "Basit bir hesap makinesi uygulaması.\n",
    "\n",
    "İşleçler:\n",
    "    +   toplama\n",
    "    -   çıkarma\n",
    "    *   çarpma\n",
    "    /   bölme\n",
    "Yapmak istediğiniz işlemi yazıp ENTER\n",
    "tuşuna basın. (Örneğin 23 ve 46 sayılarını\n",
    "çarpmak için 23 * 46 yazdıktan sonra\n",
    "ENTER tuşuna basın.)\n",
    "\"\"\")\n",
    "veri = input(\"İşleminiz: \")\n",
    "hesap = eval(veri)\n",
    "print(hesap)"
   ]
  },
  {
   "cell_type": "markdown",
   "id": "0a118a5d",
   "metadata": {
    "slideshow": {
     "slide_type": "slide"
    }
   },
   "source": [
    "# Hadi Birlikte Çözelim"
   ]
  },
  {
   "cell_type": "markdown",
   "id": "0283ed37",
   "metadata": {
    "slideshow": {
     "slide_type": "slide"
    }
   },
   "source": [
    "<b>Örnek 1:</b> En Boy ve yüksekliğini tam sayı olarak kullanıcının girdiği bir dikdörtgenler prizmasının hacmini bulan program için\n",
    "<br>\n",
    "(a) Algoritma yazınız\n",
    "<br>\n",
    "(b) Pythonda program yazınız\n",
    "\n",
    "<b>Bilgi Notu</b> : V= a.b.h     V: hacim a: en  b:boy    h:yükseklik "
   ]
  },
  {
   "cell_type": "code",
   "execution_count": null,
   "id": "ac09ce76",
   "metadata": {},
   "outputs": [],
   "source": []
  },
  {
   "cell_type": "markdown",
   "id": "e3213390",
   "metadata": {
    "slideshow": {
     "slide_type": "slide"
    }
   },
   "source": [
    "<b>Örnek 2: </b> Bir işcinin brüt ücretinden gelir vergisi ve sosyal güvenlik primi kesildikten sonra eline geçecek olan net ücreti bulan program için\n",
    "<br>\n",
    "(a) Algoritma yazınız\n",
    "<br>\n",
    "(b) Pythonda program yazınız"
   ]
  },
  {
   "cell_type": "code",
   "execution_count": null,
   "id": "7515593b",
   "metadata": {},
   "outputs": [],
   "source": []
  },
  {
   "cell_type": "markdown",
   "id": "d93f2729",
   "metadata": {
    "slideshow": {
     "slide_type": "slide"
    }
   },
   "source": [
    "Örnek 3 Bir paralelkenarın alanının hesaplamak için \n",
    "(a) Algoritma yazınız \n",
    "(b) Pythonda program yazınız\n",
    "\n",
    "Bilgi Notu: A=a.h A:Alan, a:taban uzunluğu, h:yükseklik"
   ]
  },
  {
   "cell_type": "code",
   "execution_count": null,
   "id": "9dbdd96a",
   "metadata": {},
   "outputs": [],
   "source": []
  },
  {
   "cell_type": "markdown",
   "id": "43c7a6e9",
   "metadata": {
    "slideshow": {
     "slide_type": "slide"
    }
   },
   "source": [
    "Örnek 4 Kullanıcıdan girilen bir adı büyük harflere çeviren program yazınız.\n",
    "Bilgi Notu: upper() metodunu kullanabilirsiniz. Peki lower() ne yapar deneyin."
   ]
  }
 ],
 "metadata": {
  "celltoolbar": "Slideshow",
  "kernelspec": {
   "display_name": "Python 3 (ipykernel)",
   "language": "python",
   "name": "python3"
  },
  "language_info": {
   "codemirror_mode": {
    "name": "ipython",
    "version": 3
   },
   "file_extension": ".py",
   "mimetype": "text/x-python",
   "name": "python",
   "nbconvert_exporter": "python",
   "pygments_lexer": "ipython3",
   "version": "3.8.12"
  }
 },
 "nbformat": 4,
 "nbformat_minor": 5
}
