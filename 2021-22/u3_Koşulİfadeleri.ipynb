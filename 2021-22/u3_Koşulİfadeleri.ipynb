{
 "cells": [
  {
   "cell_type": "markdown",
   "metadata": {
    "slideshow": {
     "slide_type": "slide"
    }
   },
   "source": [
    "# Python ile Programlama\n",
    "\n",
    "## Koşul İfadeleri\n",
    "\n",
    "Dr. Murat Gezer\n",
    "Bu haftaki derste anlatılan bir kısım örnek ve anlatım https://python-istihza.yazbel.com ve https://www.mobilhanem.com/python-egitimi/\n",
    "adresinden alınmıştır"
   ]
  },
  {
   "cell_type": "code",
   "execution_count": 1,
   "metadata": {
    "slideshow": {
     "slide_type": "slide"
    }
   },
   "outputs": [
    {
     "name": "stdout",
     "output_type": "stream",
     "text": [
      "Programa hoşgeldiniz!\n",
      "\n",
      "Programımızı kullanabilmek için en az\n",
      "13 yaşında olmalısınız.\n",
      "Yaşınız:  15\n"
     ]
    }
   ],
   "source": [
    "yas = 15\n",
    "\n",
    "print(\"\"\"Programa hoşgeldiniz!\n",
    "\n",
    "Programımızı kullanabilmek için en az\n",
    "13 yaşında olmalısınız.\"\"\")\n",
    "\n",
    "print(\"Yaşınız: \", yas)"
   ]
  },
  {
   "cell_type": "markdown",
   "metadata": {
    "slideshow": {
     "slide_type": "slide"
    }
   },
   "source": [
    "## Mantıksal Değerler (Boolean)\n",
    "\n",
    "Mantıksal değerler ya da ingilizce ismiyle boolean değerler aslında Pythonda bir veri tipidir \n",
    "ve iki değere sahiplerdir: **True** ve **False**. "
   ]
  },
  {
   "cell_type": "code",
   "execution_count": 2,
   "metadata": {},
   "outputs": [
    {
     "name": "stdout",
     "output_type": "stream",
     "text": [
      "<class 'bool'>\n",
      "<class 'bool'>\n",
      "<class 'bool'>\n"
     ]
    }
   ],
   "source": [
    "a =  True\n",
    "print(type(a))\n",
    "b = False\n",
    "print(type(b))\n",
    "\n",
    "true=True\n",
    "print(type(true))"
   ]
  },
  {
   "cell_type": "markdown",
   "metadata": {
    "slideshow": {
     "slide_type": "slide"
    }
   },
   "source": [
    "Pythonda bir sayı değeri eğer 0’dan farklıysa **True**, 0 ise **False** olarak anlam kazanır. \n",
    "Bunu **_bool()_** fonksiyonuyla dönüştürme yaparak görebiliriz."
   ]
  },
  {
   "cell_type": "code",
   "execution_count": 4,
   "metadata": {},
   "outputs": [
    {
     "name": "stdout",
     "output_type": "stream",
     "text": [
      "True\n",
      "False\n",
      "True\n",
      "True\n"
     ]
    }
   ],
   "source": [
    "print(bool(12.4))\n",
    "print(bool(0.0))\n",
    "print(bool(121212))\n",
    "print(bool(\"Merhaba Dünya\"))"
   ]
  },
  {
   "cell_type": "markdown",
   "metadata": {
    "slideshow": {
     "slide_type": "slide"
    }
   },
   "source": [
    "### İlişkisel Operatörler (Relational Operators)\n",
    "<table>\n",
    "    <tr><td><b>İşlec</td><td><b>Anlamı</td></tr>\n",
    "    <tr><td>&gt;</td><td>büyüktür</td></tr>\n",
    "    <tr><td>&lt;</td><td>küçüktür</td></tr>\n",
    "    <tr><td>&gt;=</td><td>büyük eşittir</td></tr>\n",
    "    <tr><td>&lt;=</td><td>küçük eşittir</td></tr>\n",
    "    <tr><td>==</td><td>eşittir</td></tr>\n",
    "    <tr><td>!=</td><td>eşit değildir</td></tr>\n",
    " </table>\n",
    " \n",
    "Pythonda eğer bir değişkenin değerini sonradan belirlemek isterseniz geçici olarak bu değişken **None** (atanmamış anlamında) değerine eşitleyebilirsiniz."
   ]
  },
  {
   "cell_type": "code",
   "execution_count": 5,
   "metadata": {
    "slideshow": {
     "slide_type": "slide"
    }
   },
   "outputs": [
    {
     "name": "stdout",
     "output_type": "stream",
     "text": [
      "None\n",
      "\"Mehmet\" == \"Mehmet\" True\n",
      "\"Mehmet\" == \"Murat\" False\n",
      "\"Mehmet\" != \"Murat\" True\n",
      "\"Oğuz\" < \"Murat\" False\n",
      "2 < 3 True\n",
      "54 >= 54 True\n",
      "98 > 32 True\n",
      "34 <= 45 True\n"
     ]
    }
   ],
   "source": [
    "a = None # Henüz değer atamadık\n",
    "print(a)\n",
    "\n",
    "\n",
    "print('\"Mehmet\" == \"Mehmet\"',\"Mehmet\" == \"Mehmet\")\n",
    "print('\"Mehmet\" == \"Murat\"',\"Mehmet\" == \"Murat\")\n",
    "print('\"Mehmet\" != \"Murat\"',\"Mehmet\" != \"Murat\")\n",
    "print('\"Oğuz\" < \"Murat\"',\"Oğuz\" < \"Murat\") # Alfabetik olarak bakar. \n",
    "\n",
    "print('2 < 3',2 < 3)\n",
    "print('54 >= 54',54 >= 54)\n",
    "print('98 > 32',98 > 32)\n",
    "print('34 <= 45',34 <= 45)"
   ]
  },
  {
   "cell_type": "markdown",
   "metadata": {
    "slideshow": {
     "slide_type": "slide"
    }
   },
   "source": [
    "## Kontrol Akışı : Durumsal Değerlendirmeler\n",
    "\n",
    "### if (If-Else Statement)\n",
    "Python programlama dilinde koşullu durumları belirtmek için üç adet deyimden yararlanıyoruz:\n",
    "\n",
    "<li> if\n",
    "<li> else\n",
    "<li> elif"
   ]
  },
  {
   "cell_type": "markdown",
   "metadata": {
    "slideshow": {
     "slide_type": "slide"
    }
   },
   "source": [
    "### if kullanımı\n",
    "\n",
    "if (koşul):\n",
    "    \n",
    "    koşul sağlanıyorsa gerçekleşecek işlem"
   ]
  },
  {
   "cell_type": "code",
   "execution_count": 13,
   "metadata": {
    "slideshow": {
     "slide_type": "slide"
    }
   },
   "outputs": [
    {
     "ename": "IndentationError",
     "evalue": "expected an indented block (4084529581.py, line 5)",
     "output_type": "error",
     "traceback": [
      "\u001b[0;36m  File \u001b[0;32m\"/var/folders/g6/gngm2v657z31k15gk9_vsb900000gn/T/ipykernel_1084/4084529581.py\"\u001b[0;36m, line \u001b[0;32m5\u001b[0m\n\u001b[0;31m    print(\"a ile b birbirine eşittir\")\u001b[0m\n\u001b[0m    ^\u001b[0m\n\u001b[0;31mIndentationError\u001b[0m\u001b[0;31m:\u001b[0m expected an indented block\n"
     ]
    }
   ],
   "source": [
    "a=4\n",
    "b=2\n",
    "print(\"a'nın değeri\",a,\"b'nin değeri\",b)\n",
    "if a==b: #True olursa işler\n",
    "print(\"a ile b birbirine eşittir\")\n",
    "print(\"if bloğunu geçtim\")"
   ]
  },
  {
   "cell_type": "markdown",
   "metadata": {},
   "source": [
    "4. satırda girinti hatası aldık peki bu girinti nedir niye girinti hatası verdi."
   ]
  },
  {
   "cell_type": "code",
   "execution_count": 14,
   "metadata": {
    "slideshow": {
     "slide_type": "slide"
    }
   },
   "outputs": [
    {
     "name": "stdout",
     "output_type": "stream",
     "text": [
      "a ile b birbirine eşittir\n"
     ]
    }
   ],
   "source": [
    "a=3\n",
    "b=3\n",
    "if a==b:\n",
    "    print(\"a ile b birbirine eşittir\")"
   ]
  },
  {
   "cell_type": "code",
   "execution_count": 16,
   "metadata": {
    "slideshow": {
     "slide_type": "slide"
    }
   },
   "outputs": [
    {
     "name": "stdout",
     "output_type": "stream",
     "text": [
      "x pozitif\n"
     ]
    }
   ],
   "source": [
    "x=0\n",
    "if x >= 0:\n",
    "    print (\"x pozitif\") # x,  0'dan büyük ise durumumuz (x>0) True dönecektir ve içerideki işleme geçecektir\n",
    "if x < 0: # x, 0'dan küçük ise durumumuz (x<0) True dönecektir\n",
    "    print (\"x negatif\")"
   ]
  },
  {
   "cell_type": "code",
   "execution_count": 18,
   "metadata": {
    "slideshow": {
     "slide_type": "slide"
    }
   },
   "outputs": [
    {
     "name": "stdout",
     "output_type": "stream",
     "text": [
      "Bir sayı giriniz: 12\n",
      "Girdiğiniz sayı 10'dan büyüktür!\n",
      "girdiğiniz sayının tipi: <class 'int'>\n"
     ]
    }
   ],
   "source": [
    "sayı = int(input(\"Bir sayı giriniz: \"))\n",
    "if sayı > 10:\n",
    "    print(\"Girdiğiniz sayı 10'dan büyüktür!\")\n",
    "if sayı < 10:\n",
    "    print(\"Girdiğiniz sayı 10'dan küçüktür!\")\n",
    "if sayı == 10:\n",
    "    print(\"Girdiğiniz sayı 10'dur!\")\n",
    "print(\"girdiğiniz sayının tipi:\",type(sayı))"
   ]
  },
  {
   "cell_type": "code",
   "execution_count": 20,
   "metadata": {
    "slideshow": {
     "slide_type": "slide"
    }
   },
   "outputs": [
    {
     "name": "stdout",
     "output_type": "stream",
     "text": [
      "\n",
      "Dünyanın en gelişmiş e.posta hizmetine\n",
      "hoşgeldiniz. Yalnız hizmetimizden\n",
      "yararlanmak için önce sisteme giriş\n",
      "yapmalısınız.\n",
      "\n",
      "Parola: 12345678\n",
      "Sisteme Hoşgeldiniz!\n"
     ]
    }
   ],
   "source": [
    "print(\"\"\"\n",
    "Dünyanın en gelişmiş e.posta hizmetine\n",
    "hoşgeldiniz. Yalnız hizmetimizden\n",
    "yararlanmak için önce sisteme giriş\n",
    "yapmalısınız.\n",
    "\"\"\")\n",
    "\n",
    "parola = input(\"Parola: \")\n",
    "\n",
    "if parola == \"12345678\":\n",
    "    print(\"Sisteme Hoşgeldiniz!\")\n",
    "if parola != \"12345678\":\n",
    "    print(\"Ne yazık ki yanlış parola girdiniz!\")"
   ]
  },
  {
   "cell_type": "markdown",
   "metadata": {
    "slideshow": {
     "slide_type": "slide"
    }
   },
   "source": [
    "### if else: kullanımı\n",
    "\n",
    "<b>if</b> koşul: # koşul dediğimiz şey bize ya True ya da False(Boolean) döndürmeli\n",
    "    #koşul True ise Yapılacaklar\n",
    " \n",
    "<b>else:</b>\n",
    "    #koşul False ise Yapılacaklar"
   ]
  },
  {
   "cell_type": "code",
   "execution_count": 22,
   "metadata": {
    "slideshow": {
     "slide_type": "slide"
    }
   },
   "outputs": [
    {
     "name": "stdout",
     "output_type": "stream",
     "text": [
      "x negatif\n"
     ]
    }
   ],
   "source": [
    "x=-99\n",
    "\n",
    "if x >= 0: # Buradaki durumumuz(x>=0) olmadığı sürece burası \n",
    "# False dönecek ve derleyicimiz direkt else'teki koda geçecektir.\n",
    "    print (\"x pozitif\")\n",
    "else:\n",
    "    print (\"x negatif\")"
   ]
  },
  {
   "cell_type": "markdown",
   "metadata": {
    "slideshow": {
     "slide_type": "slide"
    }
   },
   "source": [
    "## Mantıksal Bağlaçlar\n",
    "\n",
    "### and (ve) Operatörü\n",
    "\n",
    "Bu mantıksal bağlaç, bütün karşılaştırma işlemlerinin sonucunun True olmasına bakar. Bağlanan karşılaştırma işlemlerinin hepsinin kendi içinde sonucu True ise genel sonuç True , diğer durumlarda ise sonuç False çıkar.\n",
    "\n",
    "### or (veya) Operatörü\n",
    "\n",
    "Bu mantıksal bağlaç, bütün karşılaştırma işlemlerinin sonuçlarından en az birinin True olmasına bakar. Bağlanan karşılaştırma işlemlerinin en az birinin Trueolmasında genel sonuç True , diğer durumlarda ise sonuç False çıkar.\n",
    "\n",
    "### not (değil) operatörü\n",
    "\n",
    "not operatörü aslında bir mantıksal bağlaç değildir. Bu operatör sadece bir mantıksal değeri veya karşılaştırma işlemininin tam tersi sonuca çevirir. Yani, not operatörü True olan bir sonucu False , False olan bir sonucu True sonucuna çevirir. "
   ]
  },
  {
   "cell_type": "code",
   "execution_count": null,
   "metadata": {
    "slideshow": {
     "slide_type": "slide"
    }
   },
   "outputs": [],
   "source": [
    "\n",
    "if (username == 'ahmet')  and (password == '12345'):\n",
    "        print('Hoş geldiniz')      \n",
    "else:\n",
    "    print('username ya da parola yanlış')"
   ]
  },
  {
   "cell_type": "markdown",
   "metadata": {
    "slideshow": {
     "slide_type": "slide"
    }
   },
   "source": [
    "### if  elif kullanımı\n",
    "\n",
    "<b>if</b> koşul1: # koşul dediğimiz şey bize ya True ya da False(Boolean) döndürmeli\n",
    "    #koşul1 True ise Yapılacaklar\n",
    " \n",
    "<b>elif koşul2:</b>\n",
    "    #koşul2 True ise Yapılacaklar"
   ]
  },
  {
   "cell_type": "code",
   "execution_count": 24,
   "metadata": {
    "slideshow": {
     "slide_type": "slide"
    }
   },
   "outputs": [
    {
     "name": "stdout",
     "output_type": "stream",
     "text": [
      "Vize Notu :90\n",
      "Final Notu :45\n",
      "Ortalamanız:63.00\n",
      "Harf notunuz : BB\n"
     ]
    }
   ],
   "source": [
    " \n",
    "vize = int(input(\"Vize Notu :\"))\n",
    "final = int(input(\"Final Notu :\"))\n",
    " \n",
    "ortalama = (vize*0.4)+ (final*0.6) # vizenin %40 final %60 olarak alındı\n",
    "\n",
    "print(\"Ortalamanız:%3.2f\"%ortalama)\n",
    " \n",
    "if (ortalama>=85):\n",
    "    print(\"Harf notunuz : AA\")\n",
    " \n",
    "elif(ortalama>=70 and ortalama <85):\n",
    "    print(\"Harf notunuz : BA\")\n",
    " \n",
    "elif(ortalama>=60 and ortalama <70):\n",
    "    print(\"Harf notunuz : BB\")\n",
    " \n",
    "elif (ortalama >= 45 and ortalama < 60):\n",
    "    print(\"Harf notunuz : CB\")\n",
    " \n",
    "elif(ortalama>=0 and ortalama <45):\n",
    "    print(\"Harf notunuz : FF\")"
   ]
  },
  {
   "cell_type": "markdown",
   "metadata": {
    "slideshow": {
     "slide_type": "slide"
    }
   },
   "source": [
    "**Pythonda Nesned If Blokları**\n",
    "\n",
    "Bir if bloğu içerisinde başka bir if bloğunu başlatabiliriz."
   ]
  },
  {
   "cell_type": "code",
   "execution_count": null,
   "metadata": {},
   "outputs": [],
   "source": [
    "username = 'hakan1'\n",
    "password = '12345'\n",
    "\n",
    "if (username == 'hakan'): #ilk if yapısı\n",
    "    if (password == '12345'): #iç if yapısı\n",
    "        print('Hoş geldiniz')\n",
    "    else: #iç if yapısına ait else\n",
    "        print('parola yanlış')    \n",
    "    print(\"İç if yapısından çıktım\")\n",
    "else:  #ilk if yapısına ait else\n",
    "    print('username yanlış')\n",
    "    \n",
    "print(\"ilk if yapısından çıktım\")"
   ]
  },
  {
   "cell_type": "markdown",
   "metadata": {
    "slideshow": {
     "slide_type": "slide"
    }
   },
   "source": [
    "**Girilen Sayının Tek mi Çift mi Olduğunu Bulan Python programı yazınız:**"
   ]
  },
  {
   "cell_type": "code",
   "execution_count": null,
   "metadata": {},
   "outputs": [],
   "source": [
    "sayi = input('Sayı : ')\n",
    "if(int(sayi)%2==0):\n",
    "      print(\"Sayı Çift\")\n",
    "else:\n",
    "      print(\"Sayı Tek\")"
   ]
  },
  {
   "cell_type": "markdown",
   "metadata": {
    "slideshow": {
     "slide_type": "slide"
    }
   },
   "source": [
    "Dört kenar uzunluğu kullanıcı tarafından girilen dörtgenin kare, dikdörtgen yada dörtgen olduğunu gösteren Python Kodları."
   ]
  },
  {
   "cell_type": "code",
   "execution_count": 2,
   "metadata": {},
   "outputs": [
    {
     "name": "stdout",
     "output_type": "stream",
     "text": [
      "1. kenar:2\n",
      "2. kenar:2\n",
      "3. kenar:3\n",
      "4. kenar:3\n",
      "Dörtgen\n"
     ]
    }
   ],
   "source": [
    "a=int(input(\"1. kenar:\"))\n",
    "b=int(input(\"2. kenar:\"))\n",
    "c=int(input(\"3. kenar:\"))\n",
    "d=int(input(\"4. kenar:\"))\n",
    "    \n",
    "if(a==b==c==d):\n",
    "    print(\"Kare!\")\n",
    "elif((a==c and b==d)):\n",
    "    print(\"Dikdörtgen\")\n",
    "else: \n",
    "    print(\"Dörtgen\")"
   ]
  },
  {
   "cell_type": "markdown",
   "metadata": {
    "slideshow": {
     "slide_type": "slide"
    }
   },
   "source": [
    "Trafiğe çıkış tarihi alınan bir aracın servis zamanını aşağıdaki bilgilere göre hesaplayan python uygulamasını yapınız.\n",
    "1. Bakım => 1. yıl\n",
    "2. Bakım => 2. yıl\n",
    "3. Bakım => 3. yıl\n",
    "** Süre hesabını alınan gün, ay, yıl bilgisine göre gün bazlı hesaplayınız..\n",
    "*** datetime modülünü kullanmanız gerekiyor. (simdi) - (2018/8/1) => gün"
   ]
  },
  {
   "cell_type": "code",
   "execution_count": 28,
   "metadata": {},
   "outputs": [
    {
     "name": "stdout",
     "output_type": "stream",
     "text": [
      "aracınız hangi tarihte trafiğe çıktı (2019/8/9): 2021/10/27\n",
      "<class 'datetime.datetime'>\n"
     ]
    }
   ],
   "source": [
    "import datetime\n",
    "\n",
    "tarih = input('aracınız hangi tarihte trafiğe çıktı (2019/8/9): ')\n",
    "tarih = tarih.split('/')\n",
    "trafigeCikis = datetime.datetime(int(tarih[0]),int(tarih[1]),int(tarih[2]))\n",
    "print(trafigeCikis)\n",
    "\n",
    "simdi = datetime.datetime.now()\n",
    "print(simdi)\n",
    "fark = simdi - trafigeCikis\n",
    "days = fark.days\n",
    "\n",
    "if days<=365:\n",
    "     print('1.servis aralığı')\n",
    "elif days>365 and days<=365*2:\n",
    "     print('2.servis aralığı')\n",
    "elif days>365*2 and days<=365*3:\n",
    "    print('3.servis aralığı')\n",
    "else:\n",
    "    print('hatalı süre.')"
   ]
  },
  {
   "cell_type": "markdown",
   "metadata": {
    "slideshow": {
     "slide_type": "slide"
    }
   },
   "source": [
    "Kişinin ad, kilo ve boy bilgilerini alıp kilo indekslerini hesaplayan python uygulamasını yapınız.\n",
    "\n",
    "Formül: (Kilo / boy uzunluğunun karesi)\n",
    "\n",
    "Aşağıdaki tabloya göre kişi hangi gruba girmektedir.\n",
    "\n",
    "0-18.4 => Zayıf\n",
    "\n",
    "18.5-24.9 => Normal\n",
    "\n",
    "25.0-29.9 => Fazla Kilolu\n",
    "\n",
    "30.0-34.9 => Şişman (Obez)"
   ]
  },
  {
   "cell_type": "code",
   "execution_count": 9,
   "metadata": {},
   "outputs": [
    {
     "name": "stdout",
     "output_type": "stream",
     "text": [
      "adınız: x\n",
      "kilonuz: 80\n",
      "boyunuz: 1.80\n",
      "x kilo indeksin: 24.691358024691358 ve kilo değerlendirmen normal.\n"
     ]
    }
   ],
   "source": [
    "name = input('adınız: ')\n",
    "kilo = float(input('kilonuz: '))\n",
    "boy = float(input('boyunuz: '))\n",
    "\n",
    "index = (kilo) / (pow(boy,2))\n",
    "\n",
    "if (index >= 0) and (index<=18.4):\n",
    "   print(f'{name} kilo indeksin: {index} ve kilo değerlendirmen zayıf.')\n",
    "elif (index>18.4) and (index<=24.9):\n",
    "   print(f'{name} kilo indeksin: {index} ve kilo değerlendirmen normal.')\n",
    "elif (index>24.9) and (index<=29.9):\n",
    "   print(f'{name} kilo indeksin: {index} ve kilo değerlendirmen kilolu.')\n",
    "elif (index>=29.9) and (index<=45.9):\n",
    "   print(f'{name} kilo indeksin: {index} ve kilo değerlendirmen obez.')\n",
    "else:\n",
    "   print('bilgileriniz yanlış.')"
   ]
  },
  {
   "cell_type": "code",
   "execution_count": null,
   "metadata": {},
   "outputs": [],
   "source": []
  },
  {
   "cell_type": "markdown",
   "metadata": {
    "slideshow": {
     "slide_type": "slide"
    }
   },
   "source": [
    "Kullanıcıdan 2 vize (%60) ve final (%40) notunu alıp ortalama hesaplayan python uygulamasını yapınız.\n",
    "\n",
    "Eğer ortalama 50 ve üstündeyse geçti değilse kaldı yazdırın.\n",
    "\n",
    "a-) Ortamalama 50 olsa bile final notu en az 50 olmalıdır.\n",
    "\n",
    "b-) Finalden 70 alındığında ortalamanın önemi olmasın."
   ]
  },
  {
   "cell_type": "code",
   "execution_count": null,
   "metadata": {},
   "outputs": [],
   "source": []
  },
  {
   "cell_type": "code",
   "execution_count": null,
   "metadata": {},
   "outputs": [],
   "source": []
  }
 ],
 "metadata": {
  "celltoolbar": "Slideshow",
  "kernelspec": {
   "display_name": "Python 3 (ipykernel)",
   "language": "python",
   "name": "python3"
  },
  "language_info": {
   "codemirror_mode": {
    "name": "ipython",
    "version": 3
   },
   "file_extension": ".py",
   "mimetype": "text/x-python",
   "name": "python",
   "nbconvert_exporter": "python",
   "pygments_lexer": "ipython3",
   "version": "3.8.12"
  }
 },
 "nbformat": 4,
 "nbformat_minor": 4
}
