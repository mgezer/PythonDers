{
 "cells": [
  {
   "cell_type": "markdown",
   "metadata": {
    "slideshow": {
     "slide_type": "slide"
    }
   },
   "source": [
    "# Python ile Programlama\n",
    "\n",
    "## Dosya İşlemleri\n",
    "Dr. Murat Gezer\n",
    "https://github.com/mgezer/PythonDers"
   ]
  },
  {
   "cell_type": "markdown",
   "metadata": {
    "slideshow": {
     "slide_type": "slide"
    }
   },
   "source": [
    "## Dosya İşlemleri \n",
    "\n",
    "Python, okumak için bir dosyayı açmak için kullanabileceğimiz open adlı yerleşik bir işleve sahiptir. Örneğin bir \n",
    "`\n",
    " - dosya=open(\"test.txt\")\n",
    " - dosya=open(r\"C:\\Users\\murat\\ders\\data\\test.txt\",\"r\")\n",
    "`\n",
    "\n",
    " \n",
    "dosyayı açtıktan sonra okumk için kullanabileceğimiz komut açılan dosyayı okumaktır\n",
    "\n",
    " - dosya.read() \n",
    "\n",
    "Dosyayı kapatmak için\n",
    "\n",
    " - dosya.close()\n",
    " \n",
    "\n",
    "Python'da bir dosyayı okuma veya yazma modunda açmak için open () işlevini kullanıyoruz. Yukarıda açıklandığı gibi, open () bir dosya nesnesi döndürür. Yani, sözdizimi şu şekildedir: \n",
    "   **open (dosya adı, mod)**  \n",
    "\n",
    "Python'un sağladığı ve dosyaların nasıl açılabildiği üç tür mod vardır:\n",
    "\n",
    " - **\"R\"**  okumak için.\n",
    " - **\"W\"**  yazmak için.\n",
    " - **\"A\"**  eklemek için.\n",
    " - **\"R+\"**  hem okuma hem de yazma için"
   ]
  },
  {
   "cell_type": "code",
   "execution_count": null,
   "metadata": {
    "slideshow": {
     "slide_type": "slide"
    }
   },
   "outputs": [],
   "source": [
    "handle=open(\"gencligehitabe.txt\",\"r\")\n",
    "oku=handle.read() #tüm satırları string yapısına oku\n",
    "print(oku)\n",
    "handle.close()\n",
    "\n",
    "print(type(oku))"
   ]
  },
  {
   "cell_type": "code",
   "execution_count": null,
   "metadata": {
    "slideshow": {
     "slide_type": "slide"
    }
   },
   "outputs": [],
   "source": [
    "handle=open(\"gencligehitabe.txt\",\"r\")\n",
    "oku=handle.readlines() #tüm satırları listeye oku\n",
    "print(oku)\n",
    "handle.close()\n",
    "\n",
    "print(type(oku))"
   ]
  },
  {
   "cell_type": "code",
   "execution_count": null,
   "metadata": {},
   "outputs": [],
   "source": [
    "#\"gencligehitabe\" adlı bir dosya okuma modunda açılacaktır.\n",
    "dosya=open(\"gencligehitabe.txt\",\"r\")\n",
    "#Bu, dosyadaki her satırı tek tek yazdıracaktır.\n",
    "for satir in dosya:\n",
    "    print(satir)\n",
    "dosya.close()\n",
    "\n",
    "print(type(satir))"
   ]
  },
  {
   "cell_type": "code",
   "execution_count": null,
   "metadata": {
    "slideshow": {
     "slide_type": "slide"
    }
   },
   "outputs": [],
   "source": [
    "# Python code to illustrate split() function \n",
    "with open(\"gencligehitabe.txt\",\"r\") as dosya: \n",
    "    data = dosya.readlines() \n",
    "    for satir in data: \n",
    "        kelime = satir.split() \n",
    "        print (kelime)"
   ]
  },
  {
   "cell_type": "code",
   "execution_count": null,
   "metadata": {
    "slideshow": {
     "slide_type": "slide"
    }
   },
   "outputs": [],
   "source": [
    "# Dosya yazma işlemi\n",
    "with open(\"dosyam.txt\", \"w\") as f:  \n",
    "    f.write(\"Merhaba Dünya\") "
   ]
  },
  {
   "cell_type": "code",
   "execution_count": null,
   "metadata": {
    "slideshow": {
     "slide_type": "slide"
    }
   },
   "outputs": [],
   "source": [
    "# Dosya yazma işlemi ekleme\n",
    "with open(\"dosyam.txt\", \"a\") as f:  \n",
    "    f.write(\"İkinci Satır\") "
   ]
  },
  {
   "cell_type": "markdown",
   "metadata": {
    "slideshow": {
     "slide_type": "slide"
    }
   },
   "source": [
    "## Python – Exceptions (İstisnalar ve İstisna Yakalama)"
   ]
  },
  {
   "cell_type": "markdown",
   "metadata": {
    "slideshow": {
     "slide_type": "slide"
    }
   },
   "source": [
    "Python'daki hata iki tür olabilir, yani Sözdizimi hataları ve İstisnalar. Hatalar, programın yürütmeyi durdurması nedeniyle bir programdaki sorunlardır. Öte yandan, programın normal akışını değiştiren bazı dahili olaylar meydana geldiğinde istisnalar ortaya çıkar.\n",
    "\n",
    "\n",
    "```python\n",
    "try:\n",
    " \n",
    "    #Hata çıkarabilecek kodlar buraya yazılıyor.\n",
    "    #Eğer hata çıkarsa program uygun olan except bloğuna girecek.\n",
    "    #Hata oluşursa try bloğunun geri kalanındaki işlemler çalışmayacak.\n",
    "except Hata1:\n",
    "    #Hata1 oluştuğunda burası çalışacak.\n",
    "except Hata2:\n",
    "    #Hata2 oluştuğunda burası çalışacak.\n",
    " \n",
    "    //\n",
    "    //\n",
    "finally:\n",
    "\t#Mutlaka çalışması gereken kodlar buraya yazılacak.\n",
    "\t#Bu blok her türlü çalışacak.\n",
    "```"
   ]
  },
  {
   "cell_type": "code",
   "execution_count": null,
   "metadata": {},
   "outputs": [],
   "source": [
    "print(sayi) "
   ]
  },
  {
   "cell_type": "code",
   "execution_count": null,
   "metadata": {},
   "outputs": [],
   "source": [
    "# sayi değişkeni tanımla ve değer ata\n",
    "sayi = 10000\n",
    "  \n",
    "# 0'a böl \n",
    "a = sayi / 0\n",
    "print(a) "
   ]
  },
  {
   "cell_type": "code",
   "execution_count": null,
   "metadata": {
    "slideshow": {
     "slide_type": "slide"
    }
   },
   "outputs": [],
   "source": [
    "# initialize the amount variable \n",
    "sayi = 10000\n",
    "try:  \n",
    "    # perform division with 0 \n",
    "    a = sayi / 0\n",
    "    print(a)\n",
    "except ZeroDivisionError:\n",
    "    print(\"0'a bölüm hatası oluştu'\")\n",
    "    \n",
    "print(\"devam\")\n",
    "    "
   ]
  },
  {
   "cell_type": "code",
   "execution_count": null,
   "metadata": {
    "slideshow": {
     "slide_type": "slide"
    }
   },
   "outputs": [],
   "source": [
    "# Birden fazla hatayı tek bir istisna ile işlemek için program örneği\n",
    "try :  \n",
    "    a = 2\n",
    "    if a < 4 : \n",
    "  \n",
    "        # a = 2 için ZeroDivisionError hatası oluşturur\n",
    "        b = a/(a-2) \n",
    "      \n",
    "    # throws NameError if a >= 4 \n",
    "    print (\"b'nin değeri = \", b) \n",
    "  \n",
    "# Birden fazla istisna için burada küme ayraçlarının () gerekir\n",
    "except(ZeroDivisionError, NameError): \n",
    "    print (\"\\nhata oluştu kontrol altında\")"
   ]
  },
  {
   "cell_type": "code",
   "execution_count": null,
   "metadata": {
    "slideshow": {
     "slide_type": "slide"
    }
   },
   "outputs": [],
   "source": [
    "import requests\n",
    "from collections import Counter \n",
    "response = requests.get(\"https://www.gutenberg.org/files/11/old/11.txt\")\n",
    "data = response.text\n",
    "data=data.upper().split()\n",
    "Counter = Counter(data) \n",
    "most_occur = Counter.most_common(2) \n",
    "print(most_occur) \n",
    "\n"
   ]
  },
  {
   "cell_type": "code",
   "execution_count": null,
   "metadata": {},
   "outputs": [],
   "source": [
    "import requests\n",
    "response = requests.get(\"https://www.gutenberg.org/files/11/old/11.txt\")\n",
    "data=response.text\n",
    "splitWords= data.split()\n",
    "allWords={}\n",
    "for word in splitWords:\n",
    "    if word not in allWords:\n",
    "        allWords[word] = 1\n",
    "    else:\n",
    "        allWords[word] += 1\n",
    "for key in allWords.keys():\n",
    "   print (\"Word: %s =>%s \" %(key , allWords[key]))\n"
   ]
  },
  {
   "cell_type": "code",
   "execution_count": null,
   "metadata": {},
   "outputs": [],
   "source": []
  }
 ],
 "metadata": {
  "celltoolbar": "Slideshow",
  "kernelspec": {
   "display_name": "Python 3",
   "language": "python",
   "name": "python3"
  },
  "language_info": {
   "codemirror_mode": {
    "name": "ipython",
    "version": 3
   },
   "file_extension": ".py",
   "mimetype": "text/x-python",
   "name": "python",
   "nbconvert_exporter": "python",
   "pygments_lexer": "ipython3",
   "version": "3.8.3"
  }
 },
 "nbformat": 4,
 "nbformat_minor": 4
}
