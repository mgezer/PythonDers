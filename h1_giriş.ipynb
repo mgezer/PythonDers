{
 "cells": [
  {
   "cell_type": "markdown",
   "metadata": {
    "slideshow": {
     "slide_type": "slide"
    }
   },
   "source": [
    "# Python ile Programlama\n",
    "\n",
    "## Girdi ve Çıktı İşlemleri\n",
    "\n",
    "### Dr. Murat Gezer\n",
    "Bu haftaki derste anlatılan bir kısım örnek ve anlatım\n",
    "https://python-istihza.yazbel.com\n",
    "\n",
    "adresinden alınmıştır"
   ]
  },
  {
   "cell_type": "markdown",
   "metadata": {
    "slideshow": {
     "slide_type": "slide"
    }
   },
   "source": [
    "# Print fonksiyonu için örnekler"
   ]
  },
  {
   "cell_type": "code",
   "execution_count": 9,
   "metadata": {},
   "outputs": [
    {
     "name": "stdout",
     "output_type": "stream",
     "text": [
      "2020  yılındayız ve  İstanbul Üniversitesi  öğrencisiyiz\n"
     ]
    },
    {
     "data": {
      "text/plain": [
       "13606162020749992643704993320106027606537993673173012383056198265861536645199693887931384638614079883154347461128664043559806557896241659120814960472483022708519863354791177971100452386050079060148844567472900325482645707000"
      ]
     },
     "execution_count": 9,
     "metadata": {},
     "output_type": "execute_result"
    }
   ],
   "source": [
    "a=2020 #integer (tam sayı)\n",
    "b=\"İstanbul Üniversitesi\" #string değişken\n",
    "print(a,\" yılındayız ve \",b,\" öğrencisiyiz\")\n",
    "\n",
    "238732683276439864396430643043634064362383620263263282360326026306430346430**3"
   ]
  },
  {
   "cell_type": "code",
   "execution_count": 2,
   "metadata": {},
   "outputs": [
    {
     "name": "stdout",
     "output_type": "stream",
     "text": [
      "2020  yılındayız ve  İstanbul Üniversitesi  öğrencisiyiz\n"
     ]
    }
   ],
   "source": [
    "a=2020 #integer (tam sayı)\n",
    "b=\"İstanbul Üniversitesi\" #string değişken\n",
    "print(a,' yılındayız ve ',b,' öğrencisiyiz')"
   ]
  },
  {
   "cell_type": "code",
   "execution_count": 3,
   "metadata": {},
   "outputs": [
    {
     "name": "stdout",
     "output_type": "stream",
     "text": [
      "2020 yılındayız ve İstanbul Üniversitesi öğrencisiyiz\n"
     ]
    }
   ],
   "source": [
    "a=2020\n",
    "b=\"İstanbul Üniversitesi\"\n",
    "\n",
    "print(\"{0} yılındayız ve {1} öğrencisiyiz\".format(a,b))"
   ]
  },
  {
   "cell_type": "code",
   "execution_count": null,
   "metadata": {
    "slideshow": {
     "slide_type": "-"
    }
   },
   "outputs": [],
   "source": [
    "a=2020\n",
    "b=\"İstanbul Üniversitesi\"\n",
    "print(\"{0} yılındayız ve {1} öğrencisiyiz\".format(a,b))"
   ]
  },
  {
   "cell_type": "code",
   "execution_count": null,
   "metadata": {
    "slideshow": {
     "slide_type": "-"
    }
   },
   "outputs": [],
   "source": [
    "a=2020\n",
    "b=\"İstanbul Üniversitesi\"\n",
    "\n",
    "print(\"%d yılındayız ve %s öğrencisiyiz\"%(a,b))"
   ]
  },
  {
   "cell_type": "code",
   "execution_count": 10,
   "metadata": {},
   "outputs": [
    {
     "name": "stdout",
     "output_type": "stream",
     "text": [
      "Merhaba Ahmet, Günaydın\n"
     ]
    }
   ],
   "source": [
    "print('Merhaba {name}, {selam}'.format(selam = 'Günaydın', name = 'Ahmet'))\n"
   ]
  },
  {
   "cell_type": "code",
   "execution_count": 11,
   "metadata": {
    "slideshow": {
     "slide_type": "slide"
    }
   },
   "outputs": [
    {
     "name": "stdout",
     "output_type": "stream",
     "text": [
      " x'in değeri  12.3457\n"
     ]
    }
   ],
   "source": [
    "# Dikkat burada yeni bir şey daha var bakalım bulacakmısınız\n",
    "x = 12.3456789 #float bir sayı\n",
    "print(' x\\'in değeri  %.4f' %x)"
   ]
  },
  {
   "cell_type": "code",
   "execution_count": null,
   "metadata": {
    "slideshow": {
     "slide_type": "slide"
    }
   },
   "outputs": [],
   "source": [
    "# Dikkat burada yeni bir şey daha var bakalım bulacakmısınız\n",
    "x = 12.3456789\n",
    "y = 23433\n",
    "z = \"merhaba millet\"\n",
    "print('x\\'in değeri  %d' %x)\n",
    "print('z\\'in değeri  %.3s' %z)"
   ]
  },
  {
   "cell_type": "markdown",
   "metadata": {},
   "source": [
    "Burada<br> <b>%d</b> tam sayı\n",
    "<br>\n",
    "<b>%f</b> float sayı\n",
    "<br><b>%s</b> string yapı için yer tutucudur."
   ]
  },
  {
   "cell_type": "code",
   "execution_count": 18,
   "metadata": {
    "slideshow": {
     "slide_type": "slide"
    }
   },
   "outputs": [
    {
     "name": "stdout",
     "output_type": "stream",
     "text": [
      "Python programlama dilinin adı\\ \\|\"piton\" yılanından gelmez\n"
     ]
    }
   ],
   "source": [
    "print(\"\"\"Python programlama dilinin adı\\ \\|\"piton\" yılanından gelmez\"\"\")"
   ]
  },
  {
   "cell_type": "code",
   "execution_count": null,
   "metadata": {
    "slideshow": {
     "slide_type": "slide"
    }
   },
   "outputs": [],
   "source": [
    "print(\"\"\"İstanbul'un 5 günlük hava durumu tahmini\"\"\")"
   ]
  },
  {
   "cell_type": "code",
   "execution_count": null,
   "metadata": {
    "slideshow": {
     "slide_type": "slide"
    }
   },
   "outputs": [],
   "source": [
    "print(\"\"\"Python programlama dili Guido Van Rossum\n",
    "adlı Hollandalı bir programcı tarafından 90’lı\n",
    "yılların başında geliştirilmeye başlanmıştır. Çoğu\n",
    "insan, isminin Python olmasına bakarak, bu programlama\n",
    "dilinin, adını piton yılanından aldığını düşünür.\n",
    "Ancak zannedildiğinin aksine bu programlama dilinin\n",
    "adı piton yılanından gelmez.\"\"\")"
   ]
  },
  {
   "cell_type": "markdown",
   "metadata": {
    "slideshow": {
     "slide_type": "slide"
    }
   },
   "source": [
    "<b>sep</b> ifadesi, İngilizcede separator (ayırıcı, ayraç) kelimesinin kısaltmasıdır. Dolayısıyla <b>print()</b> fonksiyonundaki bu sep parametresi, ekrana basılacak öğeler arasına hangi karakterin yerleştirileceğini gösterir."
   ]
  },
  {
   "cell_type": "code",
   "execution_count": 20,
   "metadata": {
    "slideshow": {
     "slide_type": "-"
    }
   },
   "outputs": [
    {
     "name": "stdout",
     "output_type": "stream",
     "text": [
      "T.C\n",
      "http://*www*google*com\n"
     ]
    }
   ],
   "source": [
    "print(\"T\", \"C\", sep=\".\")\n",
    "print(\"http://\", \"www\", \"google\", \"com\", sep=\"*\")"
   ]
  },
  {
   "cell_type": "code",
   "execution_count": 21,
   "metadata": {
    "slideshow": {
     "slide_type": "-"
    }
   },
   "outputs": [
    {
     "name": "stdout",
     "output_type": "stream",
     "text": [
      "1/2/3/4/5\n"
     ]
    }
   ],
   "source": [
    "print(1, 2, 3, 4, 5, sep=\"/\")"
   ]
  },
  {
   "cell_type": "markdown",
   "metadata": {
    "slideshow": {
     "slide_type": "slide"
    }
   },
   "source": [
    "# Print fonksiyonu için özel karakterler Kaçış Dizileri\n",
    "\n",
    "\\n bir satır aşağı indir (new line) - Satır Başı\n",
    "<br>\n",
    "\\t tab tuşu kadar ileri yaz - Sekme"
   ]
  },
  {
   "cell_type": "code",
   "execution_count": null,
   "metadata": {
    "slideshow": {
     "slide_type": "slide"
    }
   },
   "outputs": [],
   "source": [
    "print(\"birinci satır\", \"ikinci satır\", \"üçüncü satır\", sep=\"\\n\")"
   ]
  },
  {
   "cell_type": "code",
   "execution_count": 23,
   "metadata": {
    "slideshow": {
     "slide_type": "slide"
    }
   },
   "outputs": [
    {
     "name": "stdout",
     "output_type": "stream",
     "text": [
      "birinci satır\n",
      "ikinci satır\n",
      "üçüncü satır\n"
     ]
    }
   ],
   "source": [
    "print(\"birinci satır\\nikinci satır\\nüçüncü satır\")"
   ]
  },
  {
   "cell_type": "code",
   "execution_count": 22,
   "metadata": {
    "slideshow": {
     "slide_type": "slide"
    }
   },
   "outputs": [
    {
     "name": "stdout",
     "output_type": "stream",
     "text": [
      "birinci satır\tikinci satır\tüçüncü satır\n"
     ]
    }
   ],
   "source": [
    "print(\"birinci satır\", \"ikinci satır\", \"üçüncü satır\", sep=\"\\t\")"
   ]
  },
  {
   "cell_type": "markdown",
   "metadata": {
    "slideshow": {
     "slide_type": "slide"
    }
   },
   "source": [
    "Acaba aşağıdaki gibi bir çıktıyı nasıl elde ederiz?\n",
    "L.i.n.u.x"
   ]
  },
  {
   "cell_type": "code",
   "execution_count": null,
   "metadata": {},
   "outputs": [],
   "source": [
    "print(\"L\", \"i\", \"n\", \"u\", \"x\", sep=\".\")"
   ]
  },
  {
   "cell_type": "code",
   "execution_count": 24,
   "metadata": {},
   "outputs": [
    {
     "name": "stdout",
     "output_type": "stream",
     "text": [
      "1.2.3.4.5.6\n"
     ]
    }
   ],
   "source": [
    "print(*\"123456\",sep=\".\")"
   ]
  },
  {
   "cell_type": "markdown",
   "metadata": {
    "slideshow": {
     "slide_type": "slide"
    }
   },
   "source": [
    "print(*\"Fenerbahçe\")\n",
    "\n",
    "yıldız işareti; “Fenerbahçe” karakter dizisinin her bir öğesini parçalarına ayırarak, bunları tek tek print() fonksiyonuna yolluyor. Yani sanki print() fonksiyonunu şöyle yazmışız gibi oluyor:"
   ]
  },
  {
   "cell_type": "code",
   "execution_count": 27,
   "metadata": {},
   "outputs": [
    {
     "name": "stdout",
     "output_type": "stream",
     "text": [
      "F e n e r b a h ç e\n",
      "Fenerbahçe\n"
     ]
    }
   ],
   "source": [
    "print(\"F\", \"e\", \"n\", \"e\", \"r\", \"b\", \"a\", \"h\", \"ç\", \"e\")\n",
    "\n",
    "print(\"Fenerbahçe\")"
   ]
  },
  {
   "cell_type": "markdown",
   "metadata": {
    "slideshow": {
     "slide_type": "slide"
    }
   },
   "source": [
    "## <b>Aynı Satır Başı (\\r)</b>\n",
    "Bu kaçış dizisi, bir karakter dizisinde aynı satırın en başına dönülmesini sağlar. "
   ]
  },
  {
   "cell_type": "code",
   "execution_count": 30,
   "metadata": {},
   "outputs": [
    {
     "name": "stdout",
     "output_type": "stream",
     "text": [
      "Merhaba\r",
      "Zalim Dünya!\n"
     ]
    }
   ],
   "source": [
    "print(\"Merhaba\\rZalim Dünya!\")"
   ]
  },
  {
   "cell_type": "markdown",
   "metadata": {
    "slideshow": {
     "slide_type": "slide"
    }
   },
   "source": [
    "## Burada ne oluyor bakalım yorumlayalım"
   ]
  },
  {
   "cell_type": "code",
   "execution_count": 31,
   "metadata": {
    "slideshow": {
     "slide_type": "-"
    }
   },
   "outputs": [
    {
     "name": "stdout",
     "output_type": "stream",
     "text": [
      "C:\\ülke\türkiye\\iller\r",
      "ize\n",
      "üfus.txt\n"
     ]
    }
   ],
   "source": [
    "print(\"C:\\ülke\\türkiye\\iller\\rize\\nüfus.txt\")\n",
    "\n"
   ]
  },
  {
   "cell_type": "markdown",
   "metadata": {
    "slideshow": {
     "slide_type": "slide"
    }
   },
   "source": [
    "<img src=\"kacisdizisi.png\">"
   ]
  },
  {
   "cell_type": "markdown",
   "metadata": {
    "slideshow": {
     "slide_type": "slide"
    }
   },
   "source": [
    "# Kullanıcıdan Bilgi Almak\n",
    "## input() Fonksiyonu\n",
    "\n",
    "input() da daha önce öğrendiğimiz type(), len() ve print() gibi bir fonksiyondur."
   ]
  },
  {
   "cell_type": "code",
   "execution_count": null,
   "metadata": {},
   "outputs": [],
   "source": [
    "isim = input(\"İsminiz nedir? \")\n",
    "\n",
    "print(\"Merhaba\", isim, \"!\\n\")\n",
    "print(\"Bugün hava soğuk!!!\")"
   ]
  },
  {
   "cell_type": "code",
   "execution_count": null,
   "metadata": {
    "slideshow": {
     "slide_type": "slide"
    }
   },
   "outputs": [],
   "source": [
    "yas = input(\"Yaşınız: \")\n",
    "\n",
    "print(\"Demek\", yas, \"yaşındasın.\")\n",
    "print(\"Genç mi yoksa yaşlı mı olduğuna karar veremedim.\")\n",
    "\n",
    "print(type(yas))"
   ]
  },
  {
   "cell_type": "code",
   "execution_count": null,
   "metadata": {
    "slideshow": {
     "slide_type": "slide"
    }
   },
   "outputs": [],
   "source": [
    "#Kullanıcıdan dairenin çapını girmesini istiyoruz.\n",
    "çap = input(\"Dairenin çapı: \")\n",
    "\n",
    "#Kullanıcının verdiği çap bilgisini kullanarak\n",
    "#yarıçapı hesaplayalım. Buradaki int() fonksiyonunu\n",
    "#ilk kez görüyoruz. Biraz sonra bunu açıklayacağız\n",
    "yarıçap = int(çap) / 2\n",
    "\n",
    "#pi sayımız sabit\n",
    "pi = 3.14159\n",
    "\n",
    "#Yukarıdaki bilgileri kullanarak artık\n",
    "#dairenin alanını hesaplayabiliriz\n",
    "alan = pi * (yarıçap * yarıçap)\n",
    "\n",
    "#Son olarak, hesapladığımız alanı yazdırıyoruz\n",
    "print(\"Çapı\", çap, \"cm olan dairenin alanı: \", alan, \"cm2'dir\")"
   ]
  },
  {
   "cell_type": "markdown",
   "metadata": {
    "slideshow": {
     "slide_type": "slide"
    }
   },
   "source": [
    "## Tip Dönüşümleri\n",
    "\n",
    "Diyelim ki kullanıcıdan aldığı sayının karesini hesaplayan bir program yazmak istiyoruz. Öncelikle şöyle bir şey deneyelim:"
   ]
  },
  {
   "cell_type": "code",
   "execution_count": null,
   "metadata": {},
   "outputs": [],
   "source": [
    "sayı = input(\"Lütfen bir sayı girin: \")\n",
    "\n",
    "#Girilen sayının karesini bulmak için sayı değişkeninin 2.\n",
    "#kuvvetini alıyoruz. Aynı şeyi pow() fonksiyonu ile de\n",
    "#yapabileceğimizi biliyorsunuz. Örn.: pow(sayı, 2)\n",
    "print(\"Girdiğiniz sayının karesi: \", pow(int(sayı),2))"
   ]
  },
  {
   "cell_type": "markdown",
   "metadata": {
    "slideshow": {
     "slide_type": "slide"
    }
   },
   "source": [
    "Bu kodları çalıştırdığımız zaman, programımız kullanıcıdan bir sayı girmesini isteyecek, ancak kullanıcı bir sayı girip Enter tuşuna bastığında bir hata mesajıyla karşılaştık.\n",
    "\n",
    "Hata mesajına baktığınızda, ‘TypeError’ ifadesinden, bunun veri tipine ilişkin bir hata olduğunu tahmin edebilirsiniz. Eğer İngilizce biliyorsanız yukarıdaki hata mesajının anlamını rahatlıkla çıkarabilirsiniz. İngilizce bilmeseniz de en sondaki ‘str’ ve ‘int’ kelimeleri size karakter dizisi ve sayı adlı veri tiplerini hatırlatacaktır. "
   ]
  },
  {
   "cell_type": "markdown",
   "metadata": {
    "slideshow": {
     "slide_type": "slide"
    }
   },
   "source": [
    "Mesela şu basit örneği inceleyelim ve sizce ne  oldu? "
   ]
  },
  {
   "cell_type": "code",
   "execution_count": null,
   "metadata": {
    "slideshow": {
     "slide_type": "-"
    }
   },
   "outputs": [],
   "source": [
    "sayı1 = int(input(\"Toplama işlemi için ilk sayıyı girin: \"))\n",
    "sayı2 = int(input(\"Toplama işlemi için ikinci sayıyı girin: \"))\n",
    "\n",
    "print(sayı1, \"+\", sayı2, \"=\", sayı1+ sayı2)\n",
    "\n",
    "print(\"Sayı 1 tipi:\",type(sayı1),sayı1)\n",
    "print(\"Sayı 2 tipi:\",type(sayı2),sayı2)\n",
    "print(\"Sayı 1 + Sayı 2 tipi:\",type(sayı1+sayı2),sayı1+sayı2)\n",
    "print(\"Sayı 1 + Sayı 2 tipi:\",type(int(sayı1+sayı2)),int(sayı1+sayı2))\n",
    "print(\"Sayı1 + Sayı2 tipi\",type(int(sayı1)+int(sayı2)),int(sayı1)+int(sayı2))"
   ]
  },
  {
   "cell_type": "markdown",
   "metadata": {
    "slideshow": {
     "slide_type": "slide"
    }
   },
   "source": [
    "## Tip Dönüşümleri\n",
    "\n",
    "\n",
    "<b>input()</b> fonksiyonundan gelen veri her zaman bir karakter dizisidir.\n",
    "\n",
    "dönüşüm yapmalıyız şu an için bilmemiz ana tip dönüşüm fonksiyonları\n",
    "\n",
    "<b>int()</b> Sayı değerli bir karakter dizisini veya kayan noktalı sayıyı tamsayıya (integer) çevirir.<br>\n",
    "<b>float()</b> Sayı değerli bir karakter dizisini veya tamsayıyı kayan noktalı sayıya (float) çevirir.<br>\n",
    "<b>complex()</b> Herhangi bir sayıyı veya sayı değerli karakter dizisini karmaşık sayıya (complex) çevirir.<br>\n",
    "<b>str()</b> Herhangi bir sayıyı veya sayı değerli karakter dizisini karakter dizisine çevirir."
   ]
  },
  {
   "cell_type": "code",
   "execution_count": null,
   "metadata": {},
   "outputs": [],
   "source": [
    "veri = input(\"Lütfen bir sayı girin: \")\n",
    "\n",
    "#input() fonksiyonundan gelen karakter dizisini\n",
    "#sayıya dönüştürüyoruz.\n",
    "sayı = int(veri)\n",
    "\n",
    "print(\"Girdiğiniz sayının karesi: \", sayı ** 2)"
   ]
  },
  {
   "cell_type": "markdown",
   "metadata": {
    "slideshow": {
     "slide_type": "slide"
    }
   },
   "source": [
    "## eval fonksiyonu\n",
    "\n",
    "eval() ŞEYTANİ GÜÇLERİ OLAN BİR FONKSİYONDUR!\n",
    "\n",
    "İngilizcede evaluate diye bir kelime bulunur. Bu kelime, ‘değerlendirmeye tabi tutmak, işleme sokmak, işlemek’ gibi anlamlar taşır. İşte eval() fonksiyonundaki eval kelimesi bu evaluate kelimesinin kısaltmasıdır. Yani bu fonksiyonun görevi, kendisine verilen karakter dizilerini değerlendirmeye tabi tutmak ya da işlemektir."
   ]
  },
  {
   "cell_type": "code",
   "execution_count": 35,
   "metadata": {
    "slideshow": {
     "slide_type": "slide"
    }
   },
   "outputs": [
    {
     "name": "stdout",
     "output_type": "stream",
     "text": [
      "\n",
      "Basit bir hesap makinesi uygulaması.\n",
      "\n",
      "İşleçler:\n",
      "    +   toplama\n",
      "    -   çıkarma\n",
      "    *   çarpma\n",
      "    /   bölme\n",
      "Yapmak istediğiniz işlemi yazıp ENTER\n",
      "tuşuna basın. (Örneğin 23 ve 46 sayılarını\n",
      "çarpmak için 23 * 46 yazdıktan sonra\n",
      "ENTER tuşuna basın.)\n",
      "\n",
      "İşleminiz: import os\n"
     ]
    },
    {
     "ename": "SyntaxError",
     "evalue": "invalid syntax (<string>, line 1)",
     "output_type": "error",
     "traceback": [
      "Traceback \u001b[0;36m(most recent call last)\u001b[0m:\n",
      "  File \u001b[1;32m\"/Users/mgezer/opt/anaconda3/lib/python3.8/site-packages/IPython/core/interactiveshell.py\"\u001b[0m, line \u001b[1;32m3343\u001b[0m, in \u001b[1;35mrun_code\u001b[0m\n    exec(code_obj, self.user_global_ns, self.user_ns)\n",
      "\u001b[0;36m  File \u001b[0;32m\"<ipython-input-35-a43a461c5b2c>\"\u001b[0;36m, line \u001b[0;32m15\u001b[0;36m, in \u001b[0;35m<module>\u001b[0;36m\u001b[0m\n\u001b[0;31m    hesap = eval(veri)\u001b[0m\n",
      "\u001b[0;36m  File \u001b[0;32m\"<string>\"\u001b[0;36m, line \u001b[0;32m1\u001b[0m\n\u001b[0;31m    import os\u001b[0m\n\u001b[0m    ^\u001b[0m\n\u001b[0;31mSyntaxError\u001b[0m\u001b[0;31m:\u001b[0m invalid syntax\n"
     ]
    }
   ],
   "source": [
    "print(\"\"\"\n",
    "Basit bir hesap makinesi uygulaması.\n",
    "\n",
    "İşleçler:\n",
    "    +   toplama\n",
    "    -   çıkarma\n",
    "    *   çarpma\n",
    "    /   bölme\n",
    "Yapmak istediğiniz işlemi yazıp ENTER\n",
    "tuşuna basın. (Örneğin 23 ve 46 sayılarını\n",
    "çarpmak için 23 * 46 yazdıktan sonra\n",
    "ENTER tuşuna basın.)\n",
    "\"\"\")\n",
    "veri = input(\"İşleminiz: \")\n",
    "hesap = eval(veri)\n",
    "print(hesap)"
   ]
  },
  {
   "cell_type": "markdown",
   "metadata": {
    "slideshow": {
     "slide_type": "slide"
    }
   },
   "source": [
    "# Hadi Birlikte Çözelim"
   ]
  },
  {
   "cell_type": "markdown",
   "metadata": {
    "slideshow": {
     "slide_type": "slide"
    }
   },
   "source": [
    "<b>Örnek 1:</b> En Boy ve yüksekliğini tam sayı olarak kullanıcının girdiği bir dikdörtgenler prizmasının hacmini bulan program için\n",
    "<br>\n",
    "(a) Algoritma yazınız\n",
    "<br>\n",
    "(b) Pythonda program yazınız\n",
    "\n",
    "<b>Bilgi Notu</b> : V= a.b.h     V: hacim a: en  b:boy    h:yükseklik  "
   ]
  },
  {
   "cell_type": "code",
   "execution_count": null,
   "metadata": {},
   "outputs": [],
   "source": [
    "en=int(input(\"En değerini giriniz:\"))\n",
    "boy=int(input(\"Boy değerini giriniz:\"))\n",
    "yukseklik=int(input(\"Yükseklik değerini giriniz:\"))\n",
    "hacim=(en*boy)*yukseklik\n",
    "print(\"Eni {0}, boyu {1} ve yüksekliği {2} olan Dikdörtgen Prizmasının hacmi={3}\".format(en,boy,yukseklik,hacim))"
   ]
  },
  {
   "cell_type": "markdown",
   "metadata": {
    "slideshow": {
     "slide_type": "slide"
    }
   },
   "source": [
    "<b>Örnek 2: </b> Bir işcinin brüt ücretinden gelir vergisi ve sosyal güvenlik primi kesildikten sonra eline geçecek olan net ücreti bulan program için\n",
    "<br>\n",
    "(a) Algoritma yazınız\n",
    "<br>\n",
    "(b) Pythonda program yazınız\n"
   ]
  },
  {
   "cell_type": "code",
   "execution_count": null,
   "metadata": {},
   "outputs": [],
   "source": [
    "brutucret=int(input(\"LÜtfen Brüt ücretinizi giriniz:\"))\n",
    "gelirvergisi=int(input(\"Gelir vergisi oranını giriniz:\"))\n",
    "sosyalguvenlikprimi=int(input(\"Sosyal Güvenlik primi oranını giriniz:\"))\n",
    "\n",
    "netucret=brutucret-(brutucret*(gelirvergisi/100))-(brutucret*(sosyalguvenlikprimi/100))\n",
    "\n",
    "print(\"Alacağınız Maaş:\",netucret)\n"
   ]
  },
  {
   "cell_type": "markdown",
   "metadata": {
    "slideshow": {
     "slide_type": "slide"
    }
   },
   "source": [
    "<b>Örnek 3</b> Bir paralelkenarın alanının hesaplamak için \n",
    "<br>\n",
    "(a) Algoritma yazınız\n",
    "<br>\n",
    "(b) Pythonda program yazınız\n",
    "\n",
    "<br>\n",
    "<b>Bilgi Notu:</b> A=a.h   A:Alan, a:taban uzunluğu, h:yükseklik"
   ]
  },
  {
   "cell_type": "code",
   "execution_count": null,
   "metadata": {},
   "outputs": [],
   "source": []
  },
  {
   "cell_type": "markdown",
   "metadata": {
    "slideshow": {
     "slide_type": "slide"
    }
   },
   "source": [
    "<b>Örnek 4</b> Kullanıcıdan girilen bir adı büyük harflere çeviren program yazınız.\n",
    "\n",
    "\n",
    "<b>Bilgi Notu:</b> <b>upper()</b> metodunu kullanabilirsiniz. Peki  <b>lower()</b> ne yapar deneyin."
   ]
  },
  {
   "cell_type": "code",
   "execution_count": null,
   "metadata": {},
   "outputs": [],
   "source": [
    "ad=input(\"Adınızı Girin:\")\n",
    "\n",
    "print(ad.lower())"
   ]
  },
  {
   "cell_type": "markdown",
   "metadata": {
    "slideshow": {
     "slide_type": "slide"
    }
   },
   "source": [
    "<b>Örnek 5:</b> Kullanıcıdan girilen bir Bir cümlede karakterleri büyükse küçüğe küçükse büyüğe çeviren program yazınız.\n",
    "    \n",
    "<b>Bilgi Notu:</b> <b>swapcase()</b> metodunu kullanabilirsiniz."
   ]
  },
  {
   "cell_type": "code",
   "execution_count": null,
   "metadata": {},
   "outputs": [],
   "source": [
    "ad=input(\"Adınızı Girin:\")\n",
    "print(ad.swapcase())\n"
   ]
  }
 ],
 "metadata": {
  "celltoolbar": "Slideshow",
  "kernelspec": {
   "display_name": "Python 3",
   "language": "python",
   "name": "python3"
  },
  "language_info": {
   "codemirror_mode": {
    "name": "ipython",
    "version": 3
   },
   "file_extension": ".py",
   "mimetype": "text/x-python",
   "name": "python",
   "nbconvert_exporter": "python",
   "pygments_lexer": "ipython3",
   "version": "3.8.3"
  }
 },
 "nbformat": 4,
 "nbformat_minor": 4
}
