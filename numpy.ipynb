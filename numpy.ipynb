{
 "cells": [
  {
   "cell_type": "markdown",
   "metadata": {
    "slideshow": {
     "slide_type": "slide"
    }
   },
   "source": [
    "# Veri Bilimi için Programlama\n",
    "\n",
    "## Vektörler - Matrisler - Tensör ve Diziler\n",
    "\n",
    "Dr. Murat Gezer"
   ]
  },
  {
   "cell_type": "markdown",
   "metadata": {
    "slideshow": {
     "slide_type": "slide"
    }
   },
   "source": [
    "**NumPy** , Python programlama dili için geliştirilmiştir bir kütüphanedir. NumPy, Python'u bilimsel hespalama için  aritmetik ve sayısal hesaplamalar için işlevlerle genişletir. Kitaplık, matrisler, çok boyutlu diziler ve vektörlerle verimli hesaplama yapılmasını sağlamaktadır. Numpy dizileri devamlı olarak aynı veri türünde olmak durumundadır\n",
    "\n",
    "Ana özellikleri ve avantajları şu şekildedir ;\n",
    "\n",
    "- Güçlü bir N-boyutlu dizi nesnesi\n",
    "- Sofistike fonksiyonlar\n",
    "- Donanıma daha yakın (verimlilik)\n",
    "- Bilimsel hesaplama için tasarlanmış (kolaylık)\n",
    " - C / C ++ ve Fortran kodunu bütünleştirme araçları\n",
    " - lineer cebir, Fourier dönüşümü ve rastgele sayı "
   ]
  },
  {
   "cell_type": "markdown",
   "metadata": {
    "slideshow": {
     "slide_type": "slide"
    }
   },
   "source": [
    "Eğer hızlı şekilde nümerik işlem yapacak ise bize daha hızlı şekilde hafızada alan açıp yapacaktır. Örneğin bilgisayarımızda ilk 10000000 sayının karesini almak  istersek;"
   ]
  },
  {
   "cell_type": "code",
   "execution_count": 2,
   "metadata": {},
   "outputs": [
    {
     "name": "stdout",
     "output_type": "stream",
     "text": [
      "3.03 s ± 8.81 ms per loop (mean ± std. dev. of 7 runs, 1 loop each)\n",
      "15.4 ms ± 44.6 µs per loop (mean ± std. dev. of 7 runs, 100 loops each)\n"
     ]
    },
    {
     "data": {
      "text/plain": [
       "range(0, 10000000)"
      ]
     },
     "execution_count": 2,
     "metadata": {},
     "output_type": "execute_result"
    }
   ],
   "source": [
    "import numpy as np \n",
    "L = range(10000000)\n",
    "%timeit [i**2 for i in L]\n",
    "a = np.arange(10000000)\n",
    "%timeit a**2\n",
    "\n",
    "L"
   ]
  },
  {
   "cell_type": "markdown",
   "metadata": {
    "slideshow": {
     "slide_type": "slide"
    }
   },
   "source": [
    "### Dizi Oluşturma"
   ]
  },
  {
   "cell_type": "markdown",
   "metadata": {},
   "source": [
    "- #### 1-D dizi oluşturma"
   ]
  },
  {
   "cell_type": "code",
   "execution_count": 3,
   "metadata": {
    "slideshow": {
     "slide_type": "-"
    }
   },
   "outputs": [
    {
     "name": "stdout",
     "output_type": "stream",
     "text": [
      "[0 1 2 3]\n",
      "[[0]\n",
      " [1]\n",
      " [2]\n",
      " [3]]\n"
     ]
    }
   ],
   "source": [
    "# Kütüphane yükleme\n",
    "import numpy as np\n",
    "\n",
    "# Satir vektoru oluşturma (row vector)\n",
    "satirVektoru = np.array([0, 1, 2, 3])\n",
    "\n",
    "#Sütun vektörü oluşturma (column vector)\n",
    "sutunVektoru=np.array([[0],[1],[2],[3]])\n",
    "\n",
    "print(satirVektoru)\n",
    "print(sutunVektoru)"
   ]
  },
  {
   "cell_type": "markdown",
   "metadata": {
    "slideshow": {
     "slide_type": "-"
    }
   },
   "source": [
    "- #### 2-D dizi oluşturma"
   ]
  },
  {
   "cell_type": "code",
   "execution_count": 5,
   "metadata": {},
   "outputs": [
    {
     "name": "stdout",
     "output_type": "stream",
     "text": [
      "[[1 2 3]\n",
      " [3 4 8]\n",
      " [5 6 9]]\n"
     ]
    }
   ],
   "source": [
    "matris=np.array([[1,2,3],[3,4,8],[5,6,9]])\n",
    "print(matris)"
   ]
  },
  {
   "cell_type": "markdown",
   "metadata": {},
   "source": [
    "Bir dizinin rankını bulma ve dizinin boyutu"
   ]
  },
  {
   "cell_type": "code",
   "execution_count": 6,
   "metadata": {},
   "outputs": [
    {
     "name": "stdout",
     "output_type": "stream",
     "text": [
      ".ndim 2\n",
      "shape (3, 3)\n"
     ]
    }
   ],
   "source": [
    "print(\".ndim\",matris.ndim) # Dizinin eksenlerinin (boyutları) sayısı. Python dünyasında, boyutların sayısına rank denir.\n",
    "\n",
    "print(\"shape\",matris.shape) #Dizinin boyutları. Bu, her boyutta dizinin boyutunu belirten bir tamsayı yığınıdır.\n",
    "#N sıralı ve m sütunlu bir matris için matris(n, m) olacaktır. \n",
    "#Bu nedenle, matris dizesinin uzunluğu sırası veya boyut sayısıdır, ndim."
   ]
  },
  {
   "cell_type": "markdown",
   "metadata": {
    "slideshow": {
     "slide_type": "notes"
    }
   },
   "source": [
    "- Dizinin boyutunu bulmak : ndarray.ndim\n",
    ".ndim →numpy array nesnesinin boyutunu döndürür.\n",
    "\n",
    "- Dizinin satır ve sütun sayısını bulmak: ndarray.shape\n",
    ".shape →Numpy array nesnesinin kaç satır ve sütundan oluştuğunu gösteren bir tupple nesnesi döndürür.\n",
    "\n",
    "Bununla birlikte, matris veri yapısı iki nedenden dolayı önerilmemektedir. İlk diziler, Numpy'nin standart standart veri yapısıdır. İkincisi, Numpy işlemlerinin büyük çoğunluğu matris nesnelerini değil dizi döndürür"
   ]
  },
  {
   "cell_type": "markdown",
   "metadata": {
    "slideshow": {
     "slide_type": "slide"
    }
   },
   "source": [
    "### Vektör ya da Matris İçinden Eleman Seçimi\n",
    "Matris veya vektör kümeleri içinden aşağıdaki gibi bir ya da daha fazla elemana erişebilirsiniz."
   ]
  },
  {
   "cell_type": "code",
   "execution_count": 7,
   "metadata": {
    "slideshow": {
     "slide_type": ""
    }
   },
   "outputs": [],
   "source": [
    "# Kütüphane yükleme\n",
    "import numpy as np\n",
    "\n",
    "# Satir vektoru oluşturma (row vector)\n",
    "a = np.array([1, 2, 3,4,5,6,7,8,9,10])\n",
    "# Bir A matrisi oluşturalım\n",
    "A=np.array([[1,2,3],[4,5,6],[7,8,9]])"
   ]
  },
  {
   "cell_type": "code",
   "execution_count": 10,
   "metadata": {},
   "outputs": [
    {
     "name": "stdout",
     "output_type": "stream",
     "text": [
      "a vektörüm= [ 1  2  3  4  5  6  7  8  9 10]\n",
      "\n",
      "\n",
      "vektörün 3. elemanı= 3\n"
     ]
    }
   ],
   "source": [
    "# Vektörün 3. elemanını seçelim\n",
    "\n",
    "print (\"a vektörüm=\",a)\n",
    "print(\"\\n\")\n",
    "print(\"vektörün 3. elemanı=\",a[2])\n"
   ]
  },
  {
   "cell_type": "code",
   "execution_count": 16,
   "metadata": {},
   "outputs": [
    {
     "name": "stdout",
     "output_type": "stream",
     "text": [
      "\n",
      "\n",
      "A matisinin 2. satırı ve 3. sütunu: 6\n"
     ]
    }
   ],
   "source": [
    "# Bir matrisin 2. satir 3. sütununu seçmek istersel\n",
    "#print (\"A matrisi=\\n\",A)\n",
    "print(\"\\n\")\n",
    "print(\"A matisinin 2. satırı ve 3. sütunu:\",A[1,2])"
   ]
  },
  {
   "cell_type": "code",
   "execution_count": 17,
   "metadata": {
    "slideshow": {
     "slide_type": "-"
    }
   },
   "outputs": [
    {
     "name": "stdout",
     "output_type": "stream",
     "text": [
      "[1 2 3]\n",
      "[ 5  6  7  8  9 10]\n"
     ]
    }
   ],
   "source": [
    "# Bir vektörden tüm elemanların çekilmesi\n",
    "#print(a[:])\n",
    "# vektörde seçilen elemana kadar olan değerlerin getirlmesi\n",
    "print(a[:3])\n",
    "# vektörde seçilen elemandan sonra olan değerlerin getirlmesi\n",
    "print(a[4:])"
   ]
  },
  {
   "cell_type": "code",
   "execution_count": 15,
   "metadata": {},
   "outputs": [
    {
     "name": "stdout",
     "output_type": "stream",
     "text": [
      "[[1 2 3]\n",
      " [4 5 6]]\n"
     ]
    }
   ],
   "source": [
    "# Matris içinde seçilen satıra (2. satır) ve ondan sonra gelen satırlar için\n",
    "# tüm sütun elemanlarının getirilmesi\n",
    "print(A[:2,:])"
   ]
  },
  {
   "cell_type": "code",
   "execution_count": 18,
   "metadata": {},
   "outputs": [
    {
     "name": "stdout",
     "output_type": "stream",
     "text": [
      "[[2]\n",
      " [5]\n",
      " [8]]\n"
     ]
    }
   ],
   "source": [
    "# Matristeki seçilen sütuna ait değerlerin getirilmesi\n",
    "print(A[:,1:2])\n"
   ]
  },
  {
   "cell_type": "code",
   "execution_count": null,
   "metadata": {},
   "outputs": [],
   "source": []
  },
  {
   "cell_type": "markdown",
   "metadata": {
    "slideshow": {
     "slide_type": "slide"
    }
   },
   "source": [
    "#### Matris İşlemleri -1\n",
    "\n",
    "\n",
    "Python'da farklı matris işlemlerini ve işlemlerini çözülebilir.\n",
    "\n",
    "\n",
    "**add ()**  veya **+** - iki matrisi toplar\n",
    "\n",
    "**subtract ()** veya **-** - iki matrisde çıkartma işlemi\n",
    "\n",
    "**divide ()** veya **/** - iki matrisde eleman bölme işlemi\n",
    "\n",
    "**multiply ()** veya  *  - iki matrisde eleman çarpma işlemi\n",
    "\n",
    "**dot ()** **@** - Matris çarpımını gerçekleştirir\n",
    "\n",
    "\n",
    "\n",
    "**sum (x, eksen)** - matristeki tüm elemanların toplamı . İkinci argüman isteğe bağlıdır, eksen 0 ise sütun toplamını ve eksen 1 ise satır toplamını hesaplamak istediğimizde kullanılır.\n",
    "\n",
    "**T** - Belirtilen matrisin transpozesi"
   ]
  },
  {
   "cell_type": "code",
   "execution_count": 19,
   "metadata": {},
   "outputs": [],
   "source": [
    "# Kütüphane yükleme\n",
    "import numpy as np\n",
    "# Bir A matrisi oluşturalım\n",
    "A = np.array([[1, 2], [4, 5]])\n",
    "# Bir B matrisi oluşturalım\n",
    "B = np.array([[2, 8], [4, 2]])"
   ]
  },
  {
   "cell_type": "code",
   "execution_count": 23,
   "metadata": {
    "slideshow": {
     "slide_type": "slide"
    }
   },
   "outputs": [
    {
     "name": "stdout",
     "output_type": "stream",
     "text": [
      "[[1 2]\n",
      " [4 5]] \n",
      " [[2 8]\n",
      " [4 2]]\n",
      "iki matrisin toplamı (A+B): \n",
      "[[ 3 10]\n",
      " [ 8  7]]\n",
      "iki matrisin farkı (A-B): \n",
      "[[-1 -6]\n",
      " [ 0  3]]\n",
      "iki matrisin eleman çarpımı: \n",
      "[[ 2 16]\n",
      " [16 10]]\n",
      "iki matrisin çarpımı: \n",
      "[[ 2 16]\n",
      " [16 10]]\n",
      "iki matrisin bölümü: \n",
      "[[0.5  0.25]\n",
      " [1.   2.5 ]]\n",
      "iki matrisin matris çarpımı: \n",
      "[[10 12]\n",
      " [28 42]]\n",
      "matrisin elemanlarının toplam değeri: \n",
      "12\n",
      "matrisin satır elemanlarının toplam değeri: \n",
      "[3 9]\n",
      "matrisin sütun elemanlarının toplam değeri: \n",
      "[5 7]\n"
     ]
    }
   ],
   "source": [
    "print (A,\"\\n\",B)\n",
    "#  toplama işlemi\n",
    "print (\"iki matrisin toplamı (A+B): \")\n",
    "print (np.add(A,B))\n",
    "\n",
    "#  çıkarma işlemi\n",
    "print (\"iki matrisin farkı (A-B): \")\n",
    "print (np.subtract(A,B))\n",
    "\n",
    "# çarpma işlemi\n",
    "print (\"iki matrisin eleman çarpımı: \")\n",
    "print (np.multiply(A,B))\n",
    "\n",
    "# çarpma işlemi\n",
    "print (\"iki matrisin çarpımı: \")\n",
    "print (np.multiply(A,B))\n",
    "\n",
    "# bölme işlemi\n",
    "print (\"iki matrisin bölümü: \")\n",
    "print (np.divide(A,B))\n",
    "\n",
    "# matris çarpımı işlemi\n",
    "print (\"iki matrisin matris çarpımı: \")\n",
    "print (np.dot(A,B))\n",
    "\n",
    "# matris elemanların toplamı\n",
    "print (\"matrisin elemanlarının toplam değeri: \")\n",
    "print (np.sum(A))\n",
    "\n",
    "# matris satır elemanların toplamı\n",
    "print (\"matrisin satır elemanlarının toplam değeri: \")\n",
    "print (np.sum(A,1))\n",
    "# matris sütun elemanların toplamı\n",
    "print (\"matrisin sütun elemanlarının toplam değeri: \")\n",
    "print (np.sum(A,0))\n"
   ]
  },
  {
   "cell_type": "markdown",
   "metadata": {
    "slideshow": {
     "slide_type": "slide"
    }
   },
   "source": [
    "#### Matris İşlemleri -2 Veri Manipülasyonu \n",
    "\n",
    "\n",
    "**T** - Belirtilen matrisin transpozesi\n",
    "\n",
    "**reshape** yeniden şekillendir\n",
    "\n",
    "**flatten** tek boyuta dönüştürme"
   ]
  },
  {
   "cell_type": "code",
   "execution_count": 25,
   "metadata": {},
   "outputs": [
    {
     "name": "stdout",
     "output_type": "stream",
     "text": [
      "matrisin transpozesi: \n",
      "[[1 4]\n",
      " [2 5]]\n",
      "\n",
      "C=\n",
      " [[ 1  2  3  4]\n",
      " [ 5  6  7  8]\n",
      " [ 9 10 11 12]\n",
      " [13 14 15 16]]\n",
      "[[ 1  2]\n",
      " [ 3  4]\n",
      " [ 5  6]\n",
      " [ 7  8]\n",
      " [ 9 10]\n",
      " [11 12]\n",
      " [13 14]\n",
      " [15 16]]\n",
      "[ 1  2  3  4  5  6  7  8  9 10 11 12 13 14 15 16]\n"
     ]
    }
   ],
   "source": [
    "# matris'in Transpozesi\n",
    "print (\"matrisin transpozesi: \")\n",
    "print (A.T)\n",
    "C=np.array([[1,2,3,4],[5,6,7,8],[9,10,11,12],[13,14,15,16]])\n",
    "\n",
    "print(\"\\nC=\\n\",C)\n",
    "print(C.reshape(8,2))     \n",
    "\n",
    "print(C.flatten())"
   ]
  },
  {
   "cell_type": "markdown",
   "metadata": {
    "slideshow": {
     "slide_type": "slide"
    }
   },
   "source": [
    "#### Bir Matrisin Köşegenini (Diagonel) Alma\n",
    "\n",
    "**diagonal** köşegen\n",
    "\n",
    "**diagonal(offset=1)** üst köşegen\n",
    "\n",
    "**diagonal(offset=-1)** alt  köşegen"
   ]
  },
  {
   "cell_type": "code",
   "execution_count": 29,
   "metadata": {},
   "outputs": [
    {
     "name": "stdout",
     "output_type": "stream",
     "text": [
      "[[ 1  2  3  4]\n",
      " [ 5  6  7  8]\n",
      " [ 9 10 11 12]\n",
      " [13 14 15 16]] \n",
      "\n",
      "[ 5 10 15]\n"
     ]
    }
   ],
   "source": [
    "C=np.array([[1,2,3,4],[5,6,7,8],[9,10,11,12],[13,14,15,16]])\n",
    "\n",
    "print(C,\"\\n\")\n",
    "print(C.diagonal(offset=-1))"
   ]
  },
  {
   "cell_type": "markdown",
   "metadata": {
    "slideshow": {
     "slide_type": "slide"
    }
   },
   "source": [
    "#### Dizi Oluşturma İşlevleri\n",
    "\n",
    "Uygulamada, nadiren elemanları  tek tek gireriz,\n",
    "\n",
    "eşit araklı dizi oluşturmak için \n",
    "\n",
    "**arange(n)**  0 dan n-1 kadar değer sahip dizi\n",
    "\n",
    "**arrange(baslangic,bitis,adım)**  baslangıçtan bitişe kadar adım aralıklı dizi oluştur \n",
    "\n",
    "**linspace(baslangic,bitiş,noktasayısı)** "
   ]
  },
  {
   "cell_type": "code",
   "execution_count": 33,
   "metadata": {},
   "outputs": [
    {
     "name": "stdout",
     "output_type": "stream",
     "text": [
      "\n",
      "\n",
      "\n",
      "\n"
     ]
    }
   ],
   "source": [
    "a = np.arange(10) #0 dan n-1\n",
    "#print(a)\n",
    "\n",
    "print(\"\\n\")\n",
    "A = np.arange(12).reshape(3,4)  # 2 boyutlu (matris)\n",
    "#print (A)\n",
    "\n",
    "print(\"\\n\")\n",
    "T = np.arange(24).reshape(2, 3, 4)  # 3 boyutlu dizi (tensor)\n",
    "#print (T)"
   ]
  },
  {
   "cell_type": "code",
   "execution_count": 35,
   "metadata": {},
   "outputs": [
    {
     "name": "stdout",
     "output_type": "stream",
     "text": [
      "[   0    1    2 ... 9997 9998 9999]\n",
      "\n",
      "\n"
     ]
    }
   ],
   "source": [
    "print(np.arange(10000))\n",
    "\n",
    "print(\"\\n\")\n",
    "\n",
    "#print(np.arange(10000).reshape(100,100))"
   ]
  },
  {
   "cell_type": "code",
   "execution_count": 34,
   "metadata": {},
   "outputs": [
    {
     "name": "stdout",
     "output_type": "stream",
     "text": [
      "[1 3 5 7]\n",
      "\n",
      "\n",
      "[0.  0.2 0.4 0.6 0.8 1. ]\n"
     ]
    }
   ],
   "source": [
    "b = np.arange(1, 9, 2)\n",
    "c = np.linspace(0, 1, 6)\n",
    "\n",
    "print(b)\n",
    "print(\"\\n\")\n",
    "print(c)"
   ]
  },
  {
   "cell_type": "markdown",
   "metadata": {
    "slideshow": {
     "slide_type": "slide"
    }
   },
   "source": [
    "**ones**, **zeros**,**eye** ve **diag**ile dizi oluşturma"
   ]
  },
  {
   "cell_type": "code",
   "execution_count": 56,
   "metadata": {},
   "outputs": [
    {
     "name": "stdout",
     "output_type": "stream",
     "text": [
      "\n",
      "\n",
      "\n",
      "\n",
      "\n",
      "\n"
     ]
    }
   ],
   "source": [
    "#print(np.ones((2,2)))\n",
    "print(\"\\n\")\n",
    "\n",
    "#print(np.zeros((4,4)))\n",
    "print(\"\\n\")\n",
    "\n",
    "#print(np.eye(3))\n",
    "print(\"\\n\")\n",
    "\n",
    "#print(np.diag(np.array([3,4])))"
   ]
  },
  {
   "cell_type": "code",
   "execution_count": 53,
   "metadata": {},
   "outputs": [
    {
     "name": "stdout",
     "output_type": "stream",
     "text": [
      "[0.15416284 0.7400497  0.26331502 0.53373939]\n",
      "\n",
      "\n",
      "[ 0.75314283 -1.53472134  0.00512708 -0.12022767]\n",
      "\n",
      "\n",
      "[[5 4 7 1]\n",
      " [7 0 1 1]\n",
      " [3 6 4 8]\n",
      " [2 7 7 3]]\n",
      "\n",
      "\n",
      "int8\n"
     ]
    }
   ],
   "source": [
    "# Rastlantısal sayı üretici (Mersene Twister rastgele sayı üreticisi)\n",
    "\n",
    "np.random.seed(12)  # Rastgele tohum belirleme\n",
    "\n",
    "a = np.random.rand(4) #uniform dağılım [0-1]\n",
    "print(a)\n",
    "print(\"\\n\")\n",
    "b = np.random.randn(4) #gaussian dağılım \n",
    "print(b)\n",
    "print(\"\\n\")\n",
    "c = np.floor(np.random.random((4,4))*10).astype('int8') #\n",
    "print(c)\n",
    "print(\"\\n\")\n",
    "\n",
    "print(c.dtype)"
   ]
  },
  {
   "cell_type": "markdown",
   "metadata": {
    "slideshow": {
     "slide_type": "-"
    }
   },
   "source": [
    "numpy'ın ön tanımlı veri tipi float olmaktadır.\n",
    "\n",
    "'?'\n",
    "boolean\n",
    "'b'\n",
    "(signed) byte\n",
    "'B'\n",
    "unsigned byte\n",
    "'i'\n",
    "(signed) integer\n",
    "'u'\n",
    "unsigned integer\n",
    "'f'\n",
    "floating-point\n",
    "'c'\n",
    "complex-floating point\n",
    "'m'\n",
    "timedelta\n",
    "'M'\n",
    "datetime\n",
    "'O'\n",
    "(Python) objects\n",
    "'S', 'a'\n",
    "zero-terminated bytes (not recommended)\n",
    "'U'\n",
    "Unicode string\n",
    "'V'\n",
    "raw data (void)\n",
    "float64\n",
    "int32\n",
    "int64\n",
    "uint32\n",
    "uint64\n",
    "\n"
   ]
  },
  {
   "cell_type": "code",
   "execution_count": 88,
   "metadata": {
    "slideshow": {
     "slide_type": "slide"
    }
   },
   "outputs": [
    {
     "name": "stdout",
     "output_type": "stream",
     "text": [
      "dizi: [ True False  True  True  True  True  True  True  True]\n",
      "veritürü: bool\n"
     ]
    }
   ],
   "source": [
    "import numpy as np \n",
    "  \n",
    "# Veri türü ile dizi oluşturma \n",
    "dizi1 = np.array([-1,0,1,2,3,4,5,6,65537],dtype='?') \n",
    "  \n",
    "\n",
    "print(\"dizi:\", dizi1) \n",
    "print(\"veritürü:\", dizi1.dtype) "
   ]
  },
  {
   "cell_type": "code",
   "execution_count": null,
   "metadata": {},
   "outputs": [],
   "source": [
    "# S, dize veri türünü tanımlamak için kullanılır. \n",
    "# Boyutlarıyla birlikte çeşitli diğer veri türlerini tanımlamak için i, u, f, S ve U kullanırız.\n",
    "\n",
    "\n",
    "\n",
    "import numpy as np \n",
    "  \n",
    "# veri türü ve boyutu 8, yani 64 bayt ile birlikte dizi oluşturma ve başlatma\n",
    "arr = np.array([1, 2, 3, 4], dtype='i8') \n",
    "\n",
    "print('Dizi:', arr) \n",
    "print('Veri Türü:', arr.dtype) "
   ]
  },
  {
   "cell_type": "code",
   "execution_count": 62,
   "metadata": {},
   "outputs": [
    {
     "data": {
      "text/plain": [
       "False"
      ]
     },
     "execution_count": 62,
     "metadata": {},
     "output_type": "execute_result"
    }
   ],
   "source": [
    "\n",
    "def is_Power_of_two(n):\n",
    "        return n > 0 and (n & (n - 1)) == 0\n",
    "    \n",
    "bit 1 & 0 = 1\n",
    "bit 11 & 10 = 10 1  \n",
    "\n",
    "n=3   100\n",
    "n-1=2 011\n",
    "\n",
    "11\n",
    "10\n",
    "\n",
    "10"
   ]
  }
 ],
 "metadata": {
  "celltoolbar": "Slideshow",
  "kernelspec": {
   "display_name": "Python 3",
   "language": "python",
   "name": "python3"
  },
  "language_info": {
   "codemirror_mode": {
    "name": "ipython",
    "version": 3
   },
   "file_extension": ".py",
   "mimetype": "text/x-python",
   "name": "python",
   "nbconvert_exporter": "python",
   "pygments_lexer": "ipython3",
   "version": "3.8.3"
  }
 },
 "nbformat": 4,
 "nbformat_minor": 4
}
