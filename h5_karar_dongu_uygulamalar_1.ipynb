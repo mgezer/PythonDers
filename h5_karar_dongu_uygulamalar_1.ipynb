{
 "cells": [
  {
   "cell_type": "markdown",
   "metadata": {
    "slideshow": {
     "slide_type": "slide"
    }
   },
   "source": [
    "# Python ile Programlama\n",
    "## Karar Yapıları - Listeler , Kümeler - Döngüler\n",
    "## Listeler , Kümeler \n",
    "## Örnek Sorular\n",
    "**Dr. Murat Gezer** \n",
    "\n",
    "https://github.com/mgezer/PythonDers"
   ]
  },
  {
   "cell_type": "markdown",
   "metadata": {
    "slideshow": {
     "slide_type": "slide"
    }
   },
   "source": [
    "Kullanıcıdan alınan boy ve kilo değerlerine göre beden kitle indeksini hesaplayın: Beden Kitle endeksinin formülü \n",
    "\n",
    " Beden Kitle İndeksi: Kilo (kg) / Boy(m) *  Boy(m)\n",
    " \n",
    "şeklindedir.  \n",
    "\n",
    " BKİ 18.49'un altındaysa -------> Zayıf\n",
    " \n",
    " BKİ 18.5 ile 24.99 arasındaysa ------> Normal Kilolu\n",
    " \n",
    " BKİ 25 ile 29.99 arasındaysa --------> Fazla Kilolu\n",
    " \n",
    " BKİ 30-39.99  üstündeyse -------------> Obez\n",
    " \n",
    " BKİ 40-  üstü       -----------------> İleri Obez"
   ]
  },
  {
   "cell_type": "code",
   "execution_count": null,
   "metadata": {},
   "outputs": [],
   "source": []
  },
  {
   "cell_type": "markdown",
   "metadata": {
    "slideshow": {
     "slide_type": "slide"
    }
   },
   "source": [
    "Kullanıcıdan alınan 3 tane sayının  en büyüğü ve küçüğünü  ekrana yazdıran program yazın"
   ]
  },
  {
   "cell_type": "code",
   "execution_count": null,
   "metadata": {},
   "outputs": [],
   "source": []
  },
  {
   "cell_type": "markdown",
   "metadata": {
    "slideshow": {
     "slide_type": "slide"
    }
   },
   "source": [
    " $x$ değişkenini 0 ile 1 arasında 0.1 adımlarla artırarak, $x$ ve $\\sin(x)$ değerlerini bir tablo olarak yazan program yazınız.\n",
    " \n",
    " **math** kütüphanesinde bulunan **sin()** fonksiyonunu kullanabilirsiniz."
   ]
  },
  {
   "cell_type": "code",
   "execution_count": null,
   "metadata": {},
   "outputs": [],
   "source": []
  },
  {
   "cell_type": "markdown",
   "metadata": {
    "slideshow": {
     "slide_type": "slide"
    }
   },
   "source": [
    "sinüs fonksiyonunun değişik derecelerdeki Taylor yaklaştırımını veren bir tablo üretelim. Bilindiği gibi, $\\sin$ fonksiyonunun 0 çevresindeki Taylor açılımı şu şekildedir:\n",
    "$$\\sin x = x - \\frac{x^3}{6} + \\frac{x^5}{120} - \\frac{x^7}{5040} + \\ldots$$\n",
    "Artan derecelerdeki yaklaştırım fonksiyonlarını şöyle tanımlayabiliriz:\n",
    "$$\\begin{eqnarray}\n",
    "f_1(x) = x - \\frac{x^3}{6} \\\\\n",
    "f_2(x) = x - \\frac{x^3}{6} + \\frac{x^5}{120}\\\\\n",
    "f_3(x) = x - \\frac{x^3}{6} + \\frac{x^5}{120} - \\frac{x^7}{5040}\n",
    "\\end{eqnarray}$$\n",
    "\n",
    "ve 0 ile 1 arasında değişen $x$ değerleri için, her satıra $x$, $f_1(x)$, $f_2(x)$, $f_3(x)$, $\\sin x$ değerlerini ekrana yazalım."
   ]
  },
  {
   "cell_type": "code",
   "execution_count": null,
   "metadata": {},
   "outputs": [],
   "source": []
  },
  {
   "cell_type": "markdown",
   "metadata": {
    "slideshow": {
     "slide_type": "slide"
    }
   },
   "source": [
    "Soru: Çarpım tablosunu ekrana yazan python kodunu yazınız"
   ]
  },
  {
   "cell_type": "code",
   "execution_count": null,
   "metadata": {},
   "outputs": [],
   "source": []
  },
  {
   "cell_type": "markdown",
   "metadata": {
    "slideshow": {
     "slide_type": "slide"
    }
   },
   "source": [
    "Kullanıcının gireceği iki tam sayısının en büyük ortak bölenini (EBOB) ve en küçük ortak katı (EKOK) bulan program yazınız"
   ]
  },
  {
   "cell_type": "code",
   "execution_count": null,
   "metadata": {},
   "outputs": [],
   "source": []
  },
  {
   "cell_type": "markdown",
   "metadata": {
    "slideshow": {
     "slide_type": "slide"
    }
   },
   "source": [
    "1'den 100'e kadar olan sayılardan sadece 3'e bölünen sayıları ekrana bastırın"
   ]
  },
  {
   "cell_type": "code",
   "execution_count": null,
   "metadata": {},
   "outputs": [],
   "source": []
  },
  {
   "cell_type": "markdown",
   "metadata": {
    "slideshow": {
     "slide_type": "slide"
    }
   },
   "source": [
    "1'deb baslayıp 1000000 kadar olan sayıların,  kendisini oluşturan rakamların basamak sayısı kadar kuvvetlerinin toplamı kadar olan sayıları bulunuz (Amstrong sayıları) ve kaç adet olduklarını yazdırınız.\n",
    "\n",
    "9474 : yani 4 sayıdan oluşuyor...\n",
    "9^4 + 4^4 + 7^4 +4^4 = 9474\n",
    "\n",
    "153: 3 sayıdan oluşuyor\n",
    "\n",
    "1^3+5^3+3^3=154"
   ]
  },
  {
   "cell_type": "code",
   "execution_count": null,
   "metadata": {},
   "outputs": [],
   "source": []
  },
  {
   "cell_type": "markdown",
   "metadata": {
    "slideshow": {
     "slide_type": "slide"
    }
   },
   "source": [
    "Kullanıcının girdiği sayının pozitif tam bölenlerini bulan kodu yazınız."
   ]
  },
  {
   "cell_type": "code",
   "execution_count": null,
   "metadata": {},
   "outputs": [],
   "source": []
  },
  {
   "cell_type": "markdown",
   "metadata": {
    "slideshow": {
     "slide_type": "slide"
    }
   },
   "source": [
    "<br>Kullanıcı tarafından klavyeden girilen 5 karakterlik bir ismin içerisindeki küçük harfleri büyük harfe, büyük harfleri küçük harfe çeviren bir fonksiyon tasarlayınız. Eğer isim 5 karakterden az yada çok ise uyarı yapıp tekrar kullanıcıdan istesin.</br>"
   ]
  },
  {
   "cell_type": "code",
   "execution_count": null,
   "metadata": {},
   "outputs": [],
   "source": []
  },
  {
   "cell_type": "code",
   "execution_count": null,
   "metadata": {},
   "outputs": [],
   "source": []
  },
  {
   "cell_type": "markdown",
   "metadata": {
    "slideshow": {
     "slide_type": "slide"
    }
   },
   "source": [
    "# Collatz dizisi\n",
    "\n",
    "Collatz dizisi pozitif tamsayılardan oluşur. Diziyi oluşturma kuralı şöyledir:\n",
    "\n",
    "$n_i$ çift sayıysa: $n_{i+1} = n_i/2$\n",
    "\n",
    "$n_i$ tek sayıysa: $n_{i+1} = 3n_i+1$\n",
    "\n",
    "Dizi 1'e ulaştığında durur. Sözgelişi, diziye 13 ile başlarsak\n",
    "\n",
    "13, 40,20, 10, 5, 16, 8, 4, 2,1\n",
    "\n",
    "elde ederiz. Collatz dizisi adı verilen bu diziyi basit bir Python programıyla üretiniz.:"
   ]
  },
  {
   "cell_type": "code",
   "execution_count": null,
   "metadata": {},
   "outputs": [],
   "source": []
  },
  {
   "cell_type": "code",
   "execution_count": null,
   "metadata": {},
   "outputs": [],
   "source": []
  },
  {
   "cell_type": "code",
   "execution_count": null,
   "metadata": {},
   "outputs": [],
   "source": []
  }
 ],
 "metadata": {
  "celltoolbar": "Slideshow",
  "kernelspec": {
   "display_name": "Python 3",
   "language": "python",
   "name": "python3"
  },
  "language_info": {
   "codemirror_mode": {
    "name": "ipython",
    "version": 3
   },
   "file_extension": ".py",
   "mimetype": "text/x-python",
   "name": "python",
   "nbconvert_exporter": "python",
   "pygments_lexer": "ipython3",
   "version": "3.8.3"
  }
 },
 "nbformat": 4,
 "nbformat_minor": 4
}
