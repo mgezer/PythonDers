{
 "cells": [
  {
   "cell_type": "markdown",
   "metadata": {
    "slideshow": {
     "slide_type": "slide"
    }
   },
   "source": [
    "# Python ile Programlama\n",
    "\n",
    "Lambda Fonksiyonları\n",
    "\n",
    "Dr. Murat Gezer https://github.com/mgezer/PythonDers"
   ]
  },
  {
   "cell_type": "markdown",
   "metadata": {
    "slideshow": {
     "slide_type": "slide"
    }
   },
   "source": [
    "Soru Aşağıdaki programın hata durumunda çalışmasını sağlayacak Hata istisnasını yazınız"
   ]
  },
  {
   "cell_type": "code",
   "execution_count": null,
   "metadata": {},
   "outputs": [],
   "source": [
    "def toplama(sayi1,sayi2):\n",
    "    return sayi1 + sayi2\n",
    "\n",
    "x = int(input(\"Sayı Giriniz:\"))\n",
    "y = int(input(\"Sayı Giriniz:\"))\n",
    "\n",
    "print(toplama(x,y))"
   ]
  },
  {
   "cell_type": "code",
   "execution_count": null,
   "metadata": {
    "slideshow": {
     "slide_type": "slide"
    }
   },
   "outputs": [],
   "source": [
    "def toplama(sayi1,sayi2):\n",
    "    return sayi1 + sayi2\n",
    "\n",
    "try:\n",
    "    x = int(input(\"Sayı Giriniz:\"))\n",
    "    y = int(input(\"Sayı Giriniz:\"))\n",
    "    print(toplama(x,y))\n",
    "except:\n",
    "    print(\"Hatalı Değer girdiniz!!! Lütfen Sayı Giriniz\")\n"
   ]
  },
  {
   "cell_type": "code",
   "execution_count": 13,
   "metadata": {
    "slideshow": {
     "slide_type": "slide"
    }
   },
   "outputs": [
    {
     "name": "stdout",
     "output_type": "stream",
     "text": [
      "1. Sayı Giriniz:33\n",
      "2. Sayı Giriniz:rr\n",
      "Hatalı Değer girdiniz!!! Lütfen Sayı Giriniz\n",
      "Her durumda çalışırım ben\n",
      "1. Sayı Giriniz:44\n",
      "2. Sayı Giriniz:rr\n",
      "Hatalı Değer girdiniz!!! Lütfen Sayı Giriniz\n",
      "Her durumda çalışırım ben\n",
      "1. Sayı Giriniz:rr\n",
      "Hatalı Değer girdiniz!!! Lütfen Sayı Giriniz\n",
      "Her durumda çalışırım ben\n",
      "1. Sayı Giriniz:33\n",
      "2. Sayı Giriniz:22\n",
      "11\n",
      "Her durumda çalışırım ben\n",
      "Merhaba Dünya , toplama işlemini tamamladım\n"
     ]
    }
   ],
   "source": [
    "import math\n",
    "\n",
    "\n",
    "def toplam(sayi1,sayi2):\n",
    "    return sayi1 + sayi2\n",
    "\n",
    "def cikartma(sayi1,sayi2):\n",
    "    return sayi1-sayi2\n",
    "\n",
    "girdi = 3\n",
    "while girdi:\n",
    "    try:\n",
    "        x = int(input(\"1. Sayı Giriniz:\"))\n",
    "        y = int(input(\"2. Sayı Giriniz:\"))\n",
    "    except:\n",
    "        print(\"Hatalı Değer girdiniz!!! Lütfen Sayı Giriniz\")\n",
    "        continue\n",
    "    else:\n",
    "        try:\n",
    "            print(cikartma(x,y))\n",
    "        except:\n",
    "            print(\"Fonksiyon Tanımlı değil\")\n",
    "        girdi = 0\n",
    "    finally:\n",
    "        print(\"Her durumda çalışırım ben\")\n",
    "print(\"Merhaba Dünya , toplama işlemini tamamladım\")\n",
    "# Program devam ediyor\n"
   ]
  },
  {
   "cell_type": "markdown",
   "metadata": {
    "slideshow": {
     "slide_type": "slide"
    }
   },
   "source": [
    "## Lambda Fonksiyonu\n",
    "\n",
    "\n",
    "Lambda ifadeleri fonksiyonlarımızı oluşturmak için Pythonda bulunan pratik bir yöntemdir. Genelde tek satıra indirgenmiş fonksiyonlardır. Örneğin x ve y değişkenlerini toplayan bir fonsiyon tanımlamak istersek\n",
    "\n",
    "```\n",
    "fonksiyon ismi = lambda  argümanları: fonksiyon ifadesi\n",
    "\n",
    "lambda x : x + 2\n",
    "\n",
    "```"
   ]
  },
  {
   "cell_type": "code",
   "execution_count": 20,
   "metadata": {},
   "outputs": [
    {
     "name": "stdout",
     "output_type": "stream",
     "text": [
      "10\n",
      "9\n",
      "9\n",
      "0.4999999999999999\n"
     ]
    }
   ],
   "source": [
    "import math\n",
    "ikikat = lambda x: x * 2\n",
    "karesi = lambda x: x**2\n",
    "f = lambda x: math.sin(x)**2\n",
    "\n",
    "def kare(x):\n",
    "    return x**2\n",
    "\n",
    "\n",
    "print(ikikat(5))\n",
    "print(karesi(3))\n",
    "print(kare(3))\n",
    "print(f(math.pi/4))"
   ]
  },
  {
   "cell_type": "code",
   "execution_count": 21,
   "metadata": {
    "slideshow": {
     "slide_type": "slide"
    }
   },
   "outputs": [
    {
     "name": "stdout",
     "output_type": "stream",
     "text": [
      "3\n"
     ]
    }
   ],
   "source": [
    "topla = lambda x, y: x + y\n",
    "print (topla (1, 2))"
   ]
  },
  {
   "cell_type": "code",
   "execution_count": 22,
   "metadata": {
    "slideshow": {
     "slide_type": "slide"
    }
   },
   "outputs": [
    {
     "name": "stdout",
     "output_type": "stream",
     "text": [
      "8\n"
     ]
    }
   ],
   "source": [
    "usalma = lambda x, y: x ** y\n",
    "print(usalma(2,3))"
   ]
  },
  {
   "cell_type": "code",
   "execution_count": 23,
   "metadata": {
    "slideshow": {
     "slide_type": "slide"
    }
   },
   "outputs": [
    {
     "data": {
      "text/plain": [
       "212.0"
      ]
     },
     "execution_count": 23,
     "metadata": {},
     "output_type": "execute_result"
    }
   ],
   "source": [
    "celcius2fahrenheit = lambda C: 1.8 * C + 32\n",
    "\n",
    "celcius2fahrenheit(100)"
   ]
  },
  {
   "cell_type": "markdown",
   "metadata": {
    "slideshow": {
     "slide_type": "slide"
    }
   },
   "source": [
    "\n",
    "\n",
    "# Sayısal analizde Integral çözümlerinde bilgisayarın kullanımı \n",
    "\n",
    "## Simpson Yöntemi\n",
    "$S_N(f) = \\frac{\\Delta x}{3} \\sum_{i=1}^{N/2} \\left( f(x_{2i-2}) + 4 f(x_{2i-1}) + f(x_{2i}) \\right)$\n",
    "\n",
    "\n",
    "burada  adım sayısı N çift sayı $[a,b] aralığımız , \\Delta x = (b - a)/N$ ve  $x_i = a + i \\Delta x$.\n",
    "\n",
    "https://web.itu.edu.tr/kalenderli/sayisalintegrasyon-OK2016.pdf\n"
   ]
  },
  {
   "cell_type": "markdown",
   "metadata": {
    "slideshow": {
     "slide_type": "-"
    }
   },
   "source": [
    "$\\int_0^{\\pi/2} \\sin(x) dx = 1$ için grafiğini ve Simpson kuralına göre çözümünü bulun ve grafiğini çizdirin"
   ]
  },
  {
   "cell_type": "code",
   "execution_count": 74,
   "metadata": {
    "slideshow": {
     "slide_type": "-"
    }
   },
   "outputs": [],
   "source": [
    "import numpy as np\n",
    "def simpsonKurali(f,a,b,N=10):\n",
    "    if N % 2 ==1:\n",
    "        raise ValueError(\"N çift sayı olmalı.\")\n",
    "    dx = (b - a) / N\n",
    "    x = np.linspace(a,b,N+1)\n",
    "    y = f(x)\n",
    "    S = dx/3 * np.sum(y[0:-1:2]+4*y[1::2] +y[2::2])\n",
    "    return S"
   ]
  },
  {
   "cell_type": "code",
   "execution_count": 59,
   "metadata": {
    "slideshow": {
     "slide_type": "slide"
    }
   },
   "outputs": [
    {
     "data": {
      "image/png": "[encoded data removed]",
      "text/plain": [
       "<Figure size 432x288 with 1 Axes>"
      ]
     },
     "metadata": {
      "needs_background": "light"
     },
     "output_type": "display_data"
    },
    {
     "data": {
      "text/plain": [
       "-1.000000000000002"
      ]
     },
     "execution_count": 59,
     "metadata": {},
     "output_type": "execute_result"
    }
   ],
   "source": [
    "import matplotlib.pyplot as plt\n",
    "f = lambda x: np.sin(x)\n",
    "\n",
    "def grafciz(f,a,b,etiket,c=-np.pi,d=np.pi):\n",
    "    x = np.linspace(c,d,100)\n",
    "    y = f(x)\n",
    "    plt.plot(x,y,label=etiket)\n",
    "    plt.grid(True)\n",
    "    plt.legend()\n",
    "    X= np.linspace(-np.pi,np.pi/2,50)\n",
    "    Y = f(X)\n",
    "    plt.fill_between(X,Y,color=\"red\")\n",
    "    plt.xticks([a,b,])\n",
    "    plt.show()\n",
    "\n",
    "grafciz(f,-np.pi,np.pi/2,etiket=\"sin\")    \n",
    "simpsonKurali(f,-np.pi,np.pi/2,6000)"
   ]
  },
  {
   "cell_type": "code",
   "execution_count": null,
   "metadata": {
    "slideshow": {
     "slide_type": "slide"
    }
   },
   "outputs": [],
   "source": []
  },
  {
   "cell_type": "markdown",
   "metadata": {
    "slideshow": {
     "slide_type": "slide"
    }
   },
   "source": [
    "$\\int_{\\pi/2}^{3\\pi/2} \\left( \\sin(0.2 x) + \\sin(2x) + 1 \\right) dx$  integralinin  $[{\\pi/2} -{3\\pi/2}]$ aralığında grafiğini ve integralin sayısal çözümünü bulunuz"
   ]
  },
  {
   "cell_type": "code",
   "execution_count": 65,
   "metadata": {},
   "outputs": [],
   "source": [
    "import numpy as np\n",
    "\n",
    "f: lambda x: np.sin(0.2*x)+np.sin(2*x)+1"
   ]
  },
  {
   "cell_type": "code",
   "execution_count": 78,
   "metadata": {},
   "outputs": [
    {
     "data": {
      "text/plain": [
       "1.9930677131477896e-16"
      ]
     },
     "execution_count": 78,
     "metadata": {},
     "output_type": "execute_result"
    },
    {
     "data": {
      "image/png": "[encoded data removed]",
      "text/plain": [
       "<Figure size 432x288 with 1 Axes>"
      ]
     },
     "metadata": {
      "needs_background": "light"
     },
     "output_type": "display_data"
    }
   ],
   "source": [
    "x = np.linspace(0,2*np.pi,100)\n",
    "y = f(x)\n",
    "plt.plot(x,y)\n",
    "X=np.linspace(np.pi/2,3*np.pi/2,100)\n",
    "Y = f(X)\n",
    "\n",
    "plt.fill_between(X,Y,color=\"red\")\n",
    "plt.show\n",
    "\n",
    "simpsonKurali(f,np.pi/2,3*np.pi/2,14)"
   ]
  },
  {
   "cell_type": "markdown",
   "metadata": {
    "slideshow": {
     "slide_type": "slide"
    }
   },
   "source": [
    "**Soru 1:**\n",
    "1’den 10’a kadar bütün sayılara kalansız bölünen en küçük sayı 2520’dir. 1’den 20’ye kadar bütün sayılara kalansız bölünen en küçük pozitif sayı kaçtır? \n",
    "Python dili ile çözen program yazınız\n",
    "\n",
    "Yol Gösterme: Sonsuz döngü içersinde her birimi sağlayan şartı kontrol ediniz. **(10 Puan)**"
   ]
  },
  {
   "cell_type": "code",
   "execution_count": 113,
   "metadata": {},
   "outputs": [
    {
     "name": "stdout",
     "output_type": "stream",
     "text": [
      "2520\n"
     ]
    }
   ],
   "source": [
    "x=1\n",
    "while True:\n",
    "    if x % 1 == 0 and x % 2 == 0 and x % 3 == 0 and x % 4 == 0 and x % 5 == 0 \\\n",
    "    and x % 6 == 0 and x % 7 == 0 and x % 8 == 0 and x % 9 == 0 and x % 10 ==0:\n",
    "        print(x)\n",
    "        break\n",
    "    x=x+1\n",
    "     \n"
   ]
  },
  {
   "cell_type": "markdown",
   "metadata": {
    "slideshow": {
     "slide_type": "slide"
    }
   },
   "source": [
    "**Soru 2:**\n",
    "İlk 20  Fibonacci sayısını bir liste halinde veren bir fonksiyon yazın.\n",
    "Yol Gösterme:\n",
    "Çıktımız şeklinde olsun\n",
    "```\n",
    "fib(0)\n",
    "[ ]\n",
    "fib(1)\n",
    "[1]\n",
    "fib(2)\n",
    "[1, 1]\n",
    "…\n",
    "fib(10)\n",
    "[1, 1, 2, 3, 5, 8, 13, 21, 34, 55]\n",
    "```\n",
    "**(10 puan)**"
   ]
  },
  {
   "cell_type": "code",
   "execution_count": 86,
   "metadata": {},
   "outputs": [
    {
     "name": "stdout",
     "output_type": "stream",
     "text": [
      "fib( 0 ) []\n",
      "fib( 1 ) [1]\n",
      "fib( 2 ) [1, 1, 2]\n",
      "fib( 3 ) [1, 1, 2, 3]\n",
      "fib( 4 ) [1, 1, 2, 3, 5]\n",
      "fib( 5 ) [1, 1, 2, 3, 5, 8]\n",
      "fib( 6 ) [1, 1, 2, 3, 5, 8, 13]\n",
      "fib( 7 ) [1, 1, 2, 3, 5, 8, 13, 21]\n",
      "fib( 8 ) [1, 1, 2, 3, 5, 8, 13, 21, 34]\n",
      "fib( 9 ) [1, 1, 2, 3, 5, 8, 13, 21, 34, 55]\n",
      "fib( 10 ) [1, 1, 2, 3, 5, 8, 13, 21, 34, 55, 89]\n",
      "fib( 11 ) [1, 1, 2, 3, 5, 8, 13, 21, 34, 55, 89, 144]\n",
      "fib( 12 ) [1, 1, 2, 3, 5, 8, 13, 21, 34, 55, 89, 144, 233]\n",
      "fib( 13 ) [1, 1, 2, 3, 5, 8, 13, 21, 34, 55, 89, 144, 233, 377]\n",
      "fib( 14 ) [1, 1, 2, 3, 5, 8, 13, 21, 34, 55, 89, 144, 233, 377, 610]\n",
      "fib( 15 ) [1, 1, 2, 3, 5, 8, 13, 21, 34, 55, 89, 144, 233, 377, 610, 987]\n",
      "fib( 16 ) [1, 1, 2, 3, 5, 8, 13, 21, 34, 55, 89, 144, 233, 377, 610, 987, 1597]\n",
      "fib( 17 ) [1, 1, 2, 3, 5, 8, 13, 21, 34, 55, 89, 144, 233, 377, 610, 987, 1597, 2584]\n",
      "fib( 18 ) [1, 1, 2, 3, 5, 8, 13, 21, 34, 55, 89, 144, 233, 377, 610, 987, 1597, 2584, 4181]\n",
      "fib( 19 ) [1, 1, 2, 3, 5, 8, 13, 21, 34, 55, 89, 144, 233, 377, 610, 987, 1597, 2584, 4181, 6765]\n"
     ]
    }
   ],
   "source": [
    "def fib(x):\n",
    "    \n",
    "    if x == 0:\n",
    "        dizi = []\n",
    "        return dizi\n",
    "    elif x==1:\n",
    "        dizi = [1]\n",
    "        return dizi\n",
    "    else:\n",
    "        dizi = [1]\n",
    "        sayi1 = 0\n",
    "        sayi2 = 1\n",
    "        toplam = 0\n",
    "        for i in range (x):\n",
    "            toplam=sayi1+sayi2\n",
    "            sayi1=sayi2\n",
    "            sayi2=toplam\n",
    "            dizi.append(toplam)\n",
    "        return dizi\n",
    "\n",
    "for i in range(20):\n",
    "    print(\"fib(\",i,\")\",fib(i))"
   ]
  },
  {
   "cell_type": "code",
   "execution_count": 88,
   "metadata": {},
   "outputs": [
    {
     "name": "stdout",
     "output_type": "stream",
     "text": [
      "0\n",
      "1\n",
      "1\n",
      "2\n",
      "3\n",
      "5\n",
      "8\n",
      "13\n",
      "21\n",
      "34\n",
      "55\n",
      "89\n",
      "144\n",
      "233\n",
      "377\n",
      "610\n",
      "987\n",
      "1597\n",
      "2584\n",
      "4181\n",
      "6765\n"
     ]
    }
   ],
   "source": [
    "def fib(number_of_terms):\n",
    "   counter = 0\n",
    "\n",
    "   first = 0\n",
    "   second = 1\n",
    "   temp = 0\n",
    " \n",
    "   while counter <= number_of_terms:\n",
    "      print(first)\n",
    "      temp = first + second\n",
    "      first = second\n",
    "      second = temp\n",
    "      counter = counter + 1\n",
    "\n",
    "# Driver Code\n",
    "fib(20)"
   ]
  },
  {
   "cell_type": "markdown",
   "metadata": {
    "slideshow": {
     "slide_type": "slide"
    }
   },
   "source": [
    "**Soru 3:**\n",
    "\n",
    "Kullanıcıdan 3 basamaklı bir sayı alın ve bu sayının okunuşunu bulan bir fonksiyon yazın.\n",
    "Örnek: \n",
    "197 --------->Yüz  Doksan Yedi\n",
    "678 ---------> Alt Yüz Yetmiş Sekiz\n",
    "\n",
    "**(10 Puan)**"
   ]
  },
  {
   "cell_type": "markdown",
   "metadata": {
    "slideshow": {
     "slide_type": "slide"
    }
   },
   "source": [
    "**Soru 4:**\n",
    "\n",
    "Kullanıcı tarafından girilen bir yazının içindeki sözcükleri sayan program yazınız.\n",
    "\n",
    "Örnek:\n",
    "\n",
    "bir yazi girin :Iyi bir Python Programcisi olmak icin cok calismak gerekir\n",
    "\n",
    "\n",
    "(Iyi bir Python Programcisi olmak icin cok calismak gerekir) yazisinda (9) sozcuk var!\n",
    "\n",
    "**(5 Puan)**"
   ]
  },
  {
   "cell_type": "code",
   "execution_count": 89,
   "metadata": {},
   "outputs": [
    {
     "name": "stdout",
     "output_type": "stream",
     "text": [
      "Bir yazı girin:Iyi bir Python Programcisi olmak icin cok calismak gerekir\n",
      "( Iyi bir Python Programcisi olmak icin cok calismak gerekir ) yazısında ( 9 ) sözcük var\n"
     ]
    }
   ],
   "source": [
    "yazi=input(\"Bir yazı girin:\")\n",
    "print(\"(\",yazi,\") yazısında (\",len(yazi.split(\" \")),\") sözcük var\")\n"
   ]
  },
  {
   "cell_type": "markdown",
   "metadata": {
    "slideshow": {
     "slide_type": "slide"
    }
   },
   "source": [
    "**Soru 5** \n",
    "Bir sayı bütün çarpanlarının (1 dahil, kendisi hariç) toplamına eşitse, o sayıya mükemmel sayı denir. \n",
    "Sözgelişi, 1*2*3=1+2+3=6 olduğundan, 6 bir mükemmel sayıdır.\n",
    "Verilen bir sayı “mükemmel\"s ise True, değilse False veren bir fonksiyon yazın. \n",
    "\n",
    "Bu fonksiyonu kullanarak, 10 000'den küçük bütün \"mükemmel\" sayıları ekrana bastıran program yazınız.\n",
    "Örnek:\n",
    "```\n",
    "mukemmel(6)\n",
    "True\n",
    "mukemmel(10)\n",
    "False\n",
    "```\n",
    "\n",
    "**(10 Puan)**"
   ]
  },
  {
   "cell_type": "code",
   "execution_count": 93,
   "metadata": {},
   "outputs": [
    {
     "name": "stdout",
     "output_type": "stream",
     "text": [
      "0\n",
      "6\n",
      "28\n",
      "496\n"
     ]
    }
   ],
   "source": [
    "def mukemmel(x):\n",
    "    toplam=0\n",
    "    for i in range(1,x):\n",
    "        if(x%i == 0):\n",
    "            toplam =toplam + i\n",
    "    if(x == toplam):\n",
    "        return True\n",
    "    else:\n",
    "        return False\n",
    "\n",
    "for i in range(1000):\n",
    "    if mukemmel(i):\n",
    "        print(i)"
   ]
  },
  {
   "cell_type": "markdown",
   "metadata": {
    "slideshow": {
     "slide_type": "slide"
    }
   },
   "source": [
    "**Soru 6**\n",
    "\n",
    "Kullanıcı tarafından klavyeden girilen 5 karakterlik bir ismin içerisindeki küçük harfleri büyük harfe, büyük harfleri küçük harfe çeviren bir fonksiyon tasarlayınız. Eğer isim 5 karakterden az yada çok ise uyarı yapıp tekrar kullanıcıdan istesin.\n",
    "\n",
    "**(5 Puan)**"
   ]
  },
  {
   "cell_type": "code",
   "execution_count": 95,
   "metadata": {},
   "outputs": [
    {
     "name": "stdout",
     "output_type": "stream",
     "text": [
      "Lütfen 5 haneli ad giriniz:Elmas\n",
      "eLMAS\n"
     ]
    }
   ],
   "source": [
    "def cevir(isim):\n",
    "    return isim.swapcase()\n",
    "\n",
    "ad=\"\"\n",
    "while len(ad)!=5:\n",
    "    ad = input(\"Lütfen 5 haneli ad giriniz:\")\n",
    "\n",
    "print(cevir(ad))\n",
    "\n"
   ]
  },
  {
   "cell_type": "markdown",
   "metadata": {
    "slideshow": {
     "slide_type": "slide"
    }
   },
   "source": [
    "**Soru 7**\n",
    "\n",
    "Bir n sayısı için 2n ‘i hesaplayan ve çıkan sonucu ve çıkan sonucun basamaklarını toplayan ve geri döndüren bir fonksiyon yazınız. Bu fonksiyon ile 1’den başlayarak 50’e kadar giden tüm sayıları bu fonksiyon sonuclarını ve basamak toplamlarını  formatlı şekilde ekrana bastıran program yazınız. \n",
    "\n",
    "Yol Gösterme:\n",
    "Çıktınız aşağıdaki şekilde olmalı \n",
    "```\n",
    "2**15 = 32768 ve basamaklarının toplamı 3 + 2 + 7 + 6 + 8 = 26\n",
    "```\n",
    "**(5 Puan)**"
   ]
  },
  {
   "cell_type": "code",
   "execution_count": 97,
   "metadata": {},
   "outputs": [
    {
     "name": "stdout",
     "output_type": "stream",
     "text": [
      "2**1=2 ve basamakların toplamı 2 = 2\n",
      "2**2=4 ve basamakların toplamı 4 = 4\n",
      "2**3=8 ve basamakların toplamı 8 = 8\n",
      "2**4=16 ve basamakların toplamı 1 + 6 = 7\n",
      "2**5=32 ve basamakların toplamı 3 + 2 = 5\n",
      "2**6=64 ve basamakların toplamı 6 + 4 = 10\n",
      "2**7=128 ve basamakların toplamı 1 + 2 + 8 = 11\n",
      "2**8=256 ve basamakların toplamı 2 + 5 + 6 = 13\n",
      "2**9=512 ve basamakların toplamı 5 + 1 + 2 = 8\n",
      "2**10=1024 ve basamakların toplamı 1 + 0 + 2 + 4 = 7\n",
      "2**11=2048 ve basamakların toplamı 2 + 0 + 4 + 8 = 14\n",
      "2**12=4096 ve basamakların toplamı 4 + 0 + 9 + 6 = 19\n",
      "2**13=8192 ve basamakların toplamı 8 + 1 + 9 + 2 = 20\n",
      "2**14=16384 ve basamakların toplamı 1 + 6 + 3 + 8 + 4 = 22\n",
      "2**15=32768 ve basamakların toplamı 3 + 2 + 7 + 6 + 8 = 26\n",
      "2**16=65536 ve basamakların toplamı 6 + 5 + 5 + 3 + 6 = 25\n",
      "2**17=131072 ve basamakların toplamı 1 + 3 + 1 + 0 + 7 + 2 = 14\n",
      "2**18=262144 ve basamakların toplamı 2 + 6 + 2 + 1 + 4 + 4 = 19\n",
      "2**19=524288 ve basamakların toplamı 5 + 2 + 4 + 2 + 8 + 8 = 29\n",
      "2**20=1048576 ve basamakların toplamı 1 + 0 + 4 + 8 + 5 + 7 + 6 = 31\n",
      "2**21=2097152 ve basamakların toplamı 2 + 0 + 9 + 7 + 1 + 5 + 2 = 26\n",
      "2**22=4194304 ve basamakların toplamı 4 + 1 + 9 + 4 + 3 + 0 + 4 = 25\n",
      "2**23=8388608 ve basamakların toplamı 8 + 3 + 8 + 8 + 6 + 0 + 8 = 41\n",
      "2**24=16777216 ve basamakların toplamı 1 + 6 + 7 + 7 + 7 + 2 + 1 + 6 = 37\n",
      "2**25=33554432 ve basamakların toplamı 3 + 3 + 5 + 5 + 4 + 4 + 3 + 2 = 29\n",
      "2**26=67108864 ve basamakların toplamı 6 + 7 + 1 + 0 + 8 + 8 + 6 + 4 = 40\n",
      "2**27=134217728 ve basamakların toplamı 1 + 3 + 4 + 2 + 1 + 7 + 7 + 2 + 8 = 35\n",
      "2**28=268435456 ve basamakların toplamı 2 + 6 + 8 + 4 + 3 + 5 + 4 + 5 + 6 = 43\n",
      "2**29=536870912 ve basamakların toplamı 5 + 3 + 6 + 8 + 7 + 0 + 9 + 1 + 2 = 41\n",
      "2**30=1073741824 ve basamakların toplamı 1 + 0 + 7 + 3 + 7 + 4 + 1 + 8 + 2 + 4 = 37\n",
      "2**31=2147483648 ve basamakların toplamı 2 + 1 + 4 + 7 + 4 + 8 + 3 + 6 + 4 + 8 = 47\n",
      "2**32=4294967296 ve basamakların toplamı 4 + 2 + 9 + 4 + 9 + 6 + 7 + 2 + 9 + 6 = 58\n",
      "2**33=8589934592 ve basamakların toplamı 8 + 5 + 8 + 9 + 9 + 3 + 4 + 5 + 9 + 2 = 62\n",
      "2**34=17179869184 ve basamakların toplamı 1 + 7 + 1 + 7 + 9 + 8 + 6 + 9 + 1 + 8 + 4 = 61\n",
      "2**35=34359738368 ve basamakların toplamı 3 + 4 + 3 + 5 + 9 + 7 + 3 + 8 + 3 + 6 + 8 = 59\n",
      "2**36=68719476736 ve basamakların toplamı 6 + 8 + 7 + 1 + 9 + 4 + 7 + 6 + 7 + 3 + 6 = 64\n",
      "2**37=137438953472 ve basamakların toplamı 1 + 3 + 7 + 4 + 3 + 8 + 9 + 5 + 3 + 4 + 7 + 2 = 56\n",
      "2**38=274877906944 ve basamakların toplamı 2 + 7 + 4 + 8 + 7 + 7 + 9 + 0 + 6 + 9 + 4 + 4 = 67\n",
      "2**39=549755813888 ve basamakların toplamı 5 + 4 + 9 + 7 + 5 + 5 + 8 + 1 + 3 + 8 + 8 + 8 = 71\n",
      "2**40=1099511627776 ve basamakların toplamı 1 + 0 + 9 + 9 + 5 + 1 + 1 + 6 + 2 + 7 + 7 + 7 + 6 = 61\n",
      "2**41=2199023255552 ve basamakların toplamı 2 + 1 + 9 + 9 + 0 + 2 + 3 + 2 + 5 + 5 + 5 + 5 + 2 = 50\n",
      "2**42=4398046511104 ve basamakların toplamı 4 + 3 + 9 + 8 + 0 + 4 + 6 + 5 + 1 + 1 + 1 + 0 + 4 = 46\n",
      "2**43=8796093022208 ve basamakların toplamı 8 + 7 + 9 + 6 + 0 + 9 + 3 + 0 + 2 + 2 + 2 + 0 + 8 = 56\n",
      "2**44=17592186044416 ve basamakların toplamı 1 + 7 + 5 + 9 + 2 + 1 + 8 + 6 + 0 + 4 + 4 + 4 + 1 + 6 = 58\n",
      "2**45=35184372088832 ve basamakların toplamı 3 + 5 + 1 + 8 + 4 + 3 + 7 + 2 + 0 + 8 + 8 + 8 + 3 + 2 = 62\n",
      "2**46=70368744177664 ve basamakların toplamı 7 + 0 + 3 + 6 + 8 + 7 + 4 + 4 + 1 + 7 + 7 + 6 + 6 + 4 = 70\n",
      "2**47=140737488355328 ve basamakların toplamı 1 + 4 + 0 + 7 + 3 + 7 + 4 + 8 + 8 + 3 + 5 + 5 + 3 + 2 + 8 = 68\n",
      "2**48=281474976710656 ve basamakların toplamı 2 + 8 + 1 + 4 + 7 + 4 + 9 + 7 + 6 + 7 + 1 + 0 + 6 + 5 + 6 = 73\n",
      "2**49=562949953421312 ve basamakların toplamı 5 + 6 + 2 + 9 + 4 + 9 + 9 + 5 + 3 + 4 + 2 + 1 + 3 + 1 + 2 = 65\n",
      "2**50=1125899906842624 ve basamakların toplamı 1 + 1 + 2 + 5 + 8 + 9 + 9 + 9 + 0 + 6 + 8 + 4 + 2 + 6 + 2 + 4 = 76\n"
     ]
    }
   ],
   "source": [
    "def hesapla(n):\n",
    "    toplam=0\n",
    "    us=2**n\n",
    "    for i in range(len(str(us))):\n",
    "        toplam=int(str(us)[i])+toplam\n",
    "    print(\"2**{}={} ve basamakların toplamı \".format(n,us),end=\"\")\n",
    "    print(*str(us),sep=\" + \",end=\"\")\n",
    "    print(\" = {}\".format(toplam))\n",
    "        \n",
    "for i in range(50):\n",
    "    hesapla(i+1)"
   ]
  },
  {
   "cell_type": "markdown",
   "metadata": {
    "slideshow": {
     "slide_type": "slide"
    }
   },
   "source": [
    "**Soru 8**\n",
    "\n",
    "Bir otoparkın ücret tarifesi aşağıdaki gibidir:\n",
    "\n",
    "1 saate kadar: 10 TL\n",
    "2-5 saat arası: her saat için ek 3 TL\n",
    "6-fazlası saatten fazla:her saat için ek 4 TL\n",
    "Buna göre kullanıcının girdiği otoparkta kalınan saat süresine göre ödenecek miktarı bularak ekrana yazdırınız.\n",
    "\n",
    "**(10 Puan)**"
   ]
  },
  {
   "cell_type": "code",
   "execution_count": 101,
   "metadata": {},
   "outputs": [
    {
     "name": "stdout",
     "output_type": "stream",
     "text": [
      "Otoparkta kaç saat kaldınız:2.5\n",
      "Ödeyeceğiniz ücret 14.5 TL\n"
     ]
    }
   ],
   "source": [
    "saat=float(input(\"Otoparkta kaç saat kaldınız:\"))\n",
    "\n",
    "ucret=10\n",
    "\n",
    "if saat<=1:\n",
    "    ucret=10\n",
    "    print(\"Ödeyeceğiniz ücret {} TL\".format(ucret))\n",
    "elif saat>1 and saat <=5:\n",
    "    saat=saat-1\n",
    "    ucret=ucret+(saat*3)\n",
    "    print(\"Ödeyeceğiniz ücret {} TL\".format(ucret))\n",
    "elif saat>5:\n",
    "    saat=saat-1\n",
    "    ucret=ucret+(saat*4)\n",
    "    print(\"Ödeyeceğiniz ücret {} TL\".format(ucret))"
   ]
  },
  {
   "cell_type": "markdown",
   "metadata": {
    "slideshow": {
     "slide_type": "slide"
    }
   },
   "source": [
    "**Soru 9**\n",
    "\n",
    "Virgülle ayrılmış bir ad dizisini girdi olarak kabul eden ve kelimeleri alfabetik olarak sıraladıktan sonra virgülle ayrılmış bir dizide basan bir program yazın. Not: Sıralamada Türkçe karakterleri göz ardı ediniz\n",
    "\n",
    "Programa aşağıdaki girişin sağlandığını varsayalım:\n",
    "Virgülle  ayrılmış şekilde ad  girin: Ahmet , Ali , Berrin, Ayşe, Zehra\n",
    "\n",
    "Ahmet, Ali, Ayşe, Berrin, Zehra\n",
    "\n",
    "**10puan**"
   ]
  },
  {
   "cell_type": "code",
   "execution_count": 110,
   "metadata": {
    "slideshow": {
     "slide_type": "-"
    }
   },
   "outputs": [
    {
     "name": "stdout",
     "output_type": "stream",
     "text": [
      "Virgülle  ayrılmış şekilde ad  girin:Ahmet,Ali,berrin,Ayşe,Zehra\n",
      "Ahmet ,Ali ,Ayşe ,Zehra ,berrin ,"
     ]
    }
   ],
   "source": [
    "ad=input(\"Virgülle  ayrılmış şekilde ad  girin:\")  #açıklamanız (şu a)\n",
    "_________\n",
    "\n",
    "________\n",
    "for i in range(len(dizi)):\n",
    "    print(dizi[___],\",\",end=\"\")\n"
   ]
  },
  {
   "cell_type": "markdown",
   "metadata": {
    "slideshow": {
     "slide_type": "slide"
    }
   },
   "source": [
    "Soru 10:\n",
    "\n",
    "Kullanıcının girdiği üç kenar bilgisine göre üçgenin tipini belirleyen eğer girilen kenarları uzunlukları bir üçgen oluşturmuyorsa bunu bildiren kodu yazınız. ( mutlak değer içinde iki kenarın farkı alınır eğer fark diğer kenardan büyükse girilen değerler üçgen oluşturmaz. Bu işlem tüm kenarlar için yapılır\n",
    "\n",
    "**(10 Puan)**"
   ]
  },
  {
   "cell_type": "code",
   "execution_count": null,
   "metadata": {},
   "outputs": [],
   "source": [
    "a=int(input(\"1. kenar:\"))\n",
    "b=int(input(\"2. kenar:\"))\n",
    "c=int(input(\"3. kenar:\"))\n",
    "if(abs(b-c)<a and a<b+c and abs(c-a)<b and b<a+c and abs(a-b)<c and c<a+b):\n",
    "    if((a==b and a!=c) or (a==c and a!=b) or (b==c and b!=a)):\n",
    "        print(\"İkizkenar Üçgen!\")\n",
    "    elif(a==b==c):\n",
    "        print(\"Eşkenar Üçgen!\")\n",
    "    else:\n",
    "        print(\"Normal Üçgen\")\n",
    "else:\n",
    "    print(\"Üçgen Oluşturmuyor\")"
   ]
  },
  {
   "cell_type": "markdown",
   "metadata": {
    "slideshow": {
     "slide_type": "slide"
    }
   },
   "source": [
    "**Soru 11**\n",
    "\n",
    "Sezar şifrelemesi, ilk kez Romalı lider Jül Sezar tarafından kullanılmış olan şifreleme tekniğidir. Ana mesajın her bir harfini belirtilen anahtar sayı kadar ileri kaydırarak şifreli mesajı oluşturmak üzeredir. Şifreyi çözmek için ise anahtar sayısı ile şifreli mesajdaki her karakterin anahtar sayısı kadar geriye giderek ana mesajı dönüştürmesi üzerinedir.\n",
    "\n",
    " Günümüzde şifreleme için pek güvenli sayılmamaktadır. Bir filolog, bir dilde en çok geçen harfleri bulabilir. O harfler ile mesajda en sık geçen harfleri karşılaştırarak hangi harfin hangi harf ile değiştirildiğini de çözmüş olur.\n",
    "\n",
    "\n",
    "\n",
    "\n",
    "\n",
    "yukarıdaki tabloda anahtar sayı 3 belirlenmiş ve bazı harflerin 3 adım sonraki karşılığı gösterilmiştir.\n",
    "\n",
    "\n",
    "\n",
    "Sizin göreviniz Türkçe harflerinde (ABCÇDEFGĞHIIJKLMNOÖPRSŞTUÜVYZ) çalışacağı bir Sezar şifreleyici ve açıcı fonksiyonlar yazmanız.\n",
    "\n",
    "\n",
    "**(15 Puan)**"
   ]
  },
  {
   "cell_type": "code",
   "execution_count": null,
   "metadata": {},
   "outputs": [],
   "source": [
    "def sifrele(metin,anahtar=3):\n",
    "    alfabe=[*\"ABCÇDEFGĞHIIJKLMNOÖPRSŞTUÜVYZ\"]\n",
    "    metin=metin.upper()\n",
    "    sifre=\"\"\n",
    "    for harf in [*metin]:\n",
    "        sifre+=(alfabe[(alfabe.index(harf)+anahtar)%29])\n",
    "    return sifre\n",
    "\n",
    "def sifreac(metin,anahtar=3):\n",
    "    alfabe=[*\"ABCÇDEFGĞHIIJKLMNOÖPRSŞTUÜVYZ\"]\n",
    "    metin=metin.upper()\n",
    "    sifre=\"\"\n",
    "    for harf in [*metin]:\n",
    "        sifre+=(alfabe[(alfabe.index(harf)-anahtar)%29])\n",
    "    return sifre\n",
    "    "
   ]
  },
  {
   "cell_type": "code",
   "execution_count": null,
   "metadata": {},
   "outputs": [],
   "source": [
    "print(sifrele(\"Muratz\",anahtar=3))\n",
    "print(sifreac(\"ÖYTÇVC\"))"
   ]
  },
  {
   "cell_type": "code",
   "execution_count": null,
   "metadata": {},
   "outputs": [],
   "source": [
    "!conda install rise -y"
   ]
  },
  {
   "cell_type": "code",
   "execution_count": null,
   "metadata": {},
   "outputs": [],
   "source": []
  }
 ],
 "metadata": {
  "celltoolbar": "Slideshow",
  "kernelspec": {
   "display_name": "Python 3.7 (dm)",
   "language": "python",
   "name": "dm"
  },
  "language_info": {
   "codemirror_mode": {
    "name": "ipython",
    "version": 3
   },
   "file_extension": ".py",
   "mimetype": "text/x-python",
   "name": "python",
   "nbconvert_exporter": "python",
   "pygments_lexer": "ipython3",
   "version": "3.7.9"
  }
 },
 "nbformat": 4,
 "nbformat_minor": 4
}
