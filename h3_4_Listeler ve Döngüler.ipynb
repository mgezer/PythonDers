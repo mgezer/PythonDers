{
 "cells": [
  {
   "cell_type": "markdown",
   "metadata": {
    "slideshow": {
     "slide_type": "slide"
    }
   },
   "source": [
    "# Python ile Programlama\n",
    "## Listeler , Kümeler \n",
    "## Döngüler\n",
    "**Dr. Murat Gezer** \n"
   ]
  },
  {
   "cell_type": "markdown",
   "metadata": {
    "slideshow": {
     "slide_type": "slide"
    }
   },
   "source": [
    "## Listeler\n",
    "\n",
    "Python list(Liste) veri yapısı , herhangi bir sayıda diğer nesneleri içinde bulunduran (kapsayan) bir koleksiyondur (collection). Nesnelerimiz string, integer,float başka tiplerde olabilir.  \n",
    "\n",
    "genel olarak nesneleri kümeleme, sıralama gibi işlemler için kullanılır\n",
    "\n",
    "\n",
    "Listelerde yer alan veriler köşeli parantez [ ] tanımlanır ve içindeki nesneler virgülle ayrılarak gösterilir.\n",
    "\n",
    "Diğer dillerdeki bulunan koleksiyonlardan en önemli farkı ise, bir listede birden fazla tip öğenin yanyana bulunabilmesidir. \n",
    "İçersine eklenen nesneler eklenme sırasına göre saklanmaktadır. Bu sıraya indeks(index) vasıtası ile erişilebilmektedir.\n",
    "\n",
    "Pythonda bulunan diğer koleksiyonlardan farkı ise, list veri yapısı değiştirilebilir (mutable) olması ve sıralı olması denilebilir.\n",
    "İleride göreceğimiz diğer koleksiyonlar olan kümeler (set) ve sözlükler (dict) bunlara örnek olarak gösterilebilir. Değiştirilemez (immutable) veri yapılarına örnek olarak tüp (tuple) örnek gösterilebilir. \n",
    "\n",
    "**ListeAdı = [ifade1, ifade2, ...]**"
   ]
  },
  {
   "cell_type": "code",
   "execution_count": null,
   "metadata": {},
   "outputs": [],
   "source": [
    "# liste değişkeni. Değişik veri tiplerinden değerleri saklayabiliyoruz.\n",
    "liste =  [3,4,5,6,\"Elma\",3.14,5.324]\n",
    "print(liste)\n",
    "print(type(liste))"
   ]
  },
  {
   "cell_type": "markdown",
   "metadata": {
    "slideshow": {
     "slide_type": "slide"
    }
   },
   "source": [
    "### Boş Liste Oluşturma"
   ]
  },
  {
   "cell_type": "code",
   "execution_count": null,
   "metadata": {},
   "outputs": [],
   "source": [
    "# Boş liste\n",
    "boşListe = []\n",
    "print(boşListe)\n",
    " "
   ]
  },
  {
   "cell_type": "code",
   "execution_count": null,
   "metadata": {},
   "outputs": [],
   "source": [
    "# Boş liste . list() fonksiyonuyla da oluşturulabilir.\n",
    "boşListe = list()\n",
    "print(boşListe)"
   ]
  },
  {
   "cell_type": "markdown",
   "metadata": {
    "slideshow": {
     "slide_type": "slide"
    }
   },
   "source": [
    "## Elemanlara Ulaşmak\n",
    "\n",
    "list nesnesinde de Len(Listem) listedeki eleman sayısını, Listem[n] n'inci sıradaki elamanı, Listem[n:k] ise n'inci sıradaki elemandan, k'ıncı sıradaki elemana kadar olan elemanlardan oluşan listeyi döndürür.\n",
    "\n",
    "* uzunluk = len(listeAdı)\n",
    "* eleman = listeAdı[index]\n",
    "* dilim = listeAdı[baslangic:bitis]"
   ]
  },
  {
   "cell_type": "code",
   "execution_count": null,
   "metadata": {},
   "outputs": [],
   "source": [
    "# len fonksiyonu listeler üzerinde de kullanılabilir.\n",
    "sayiListem = [3,4,5,6,6,7,8,9,0,0,0]\n",
    "print(\"Listemdeki eleman sayısı:\",len(sayiListem))\n",
    "\n",
    "print(\"5. ci eleman ile 6 dahil elemanı ekrana bastır:\",sayiListem[4:6])"
   ]
  },
  {
   "cell_type": "code",
   "execution_count": null,
   "metadata": {
    "slideshow": {
     "slide_type": "-"
    }
   },
   "outputs": [],
   "source": [
    "s =  \"Merhaba\"\n",
    "lst =  list(s)\n",
    "print(lst)"
   ]
  },
  {
   "cell_type": "markdown",
   "metadata": {
    "slideshow": {
     "slide_type": "slide"
    }
   },
   "source": [
    "## Listeleri Indeksleme ve Dilimlere\n",
    "\n",
    "Listeleri indeksleme ve dilimleme string veri yapıları ile  birebir olarak aynı mantıkta çalışmaktadır."
   ]
  },
  {
   "cell_type": "code",
   "execution_count": null,
   "metadata": {},
   "outputs": [],
   "source": [
    "liste = [3,4,5,6,7,8,9,10]\n",
    " \n",
    "print(\"Listem:\",liste)\n",
    " \n",
    "# 0. eleman \n",
    "print(\"Listenin 1. elamanı:\",liste[0])\n",
    " \n",
    "# 4. eleman \n",
    "print(\"Listenin 4. elamanı:\",liste[3])\n",
    " \n",
    "# Sonuncu Eleman\n",
    "print(liste[len(liste)-1])\n",
    " \n",
    "# Baştan 4. indekse kadar (dahil değil)\n",
    "print(liste[:4])\n",
    " \n",
    "# 1.indeksten 5.indekse kadar\n",
    "print(liste[1:5])\n",
    " \n",
    "print(liste[5:])\n",
    " \n",
    "print(liste[::2])\n",
    " \n",
    "print(liste[::-1])"
   ]
  },
  {
   "cell_type": "markdown",
   "metadata": {
    "slideshow": {
     "slide_type": "slide"
    }
   },
   "source": [
    "## Temel Liste Metodları ve İşlemleri\n",
    "\n",
    "Bu kısımda da listelerde yapabileceğimiz temel işlemleri ve bazı temel metodları öğreneceğiz. Listelerin daha bir çok metodunu derslerimizin ileriki kısımlarında görüyor olacağız.\n",
    "\n",
    "Bir listeyi birbirine toplama işlemini stringlerdeki gibi yapabiliriz."
   ]
  },
  {
   "cell_type": "code",
   "execution_count": null,
   "metadata": {},
   "outputs": [],
   "source": [
    "liste1 =  [1,2,3,4,5]\n",
    "liste2 =  [6,7,8,9,10]\n",
    "liste3 =liste1+liste2\n",
    "print(liste3)"
   ]
  },
  {
   "cell_type": "code",
   "execution_count": null,
   "metadata": {
    "slideshow": {
     "slide_type": "-"
    }
   },
   "outputs": [],
   "source": [
    "diller=['python', 'swift', 'julia', 'ruby', 'go']\n",
    "print(\"Listemizin eleman sayısı:\", len(diller))\n",
    "print(\"Listemiz:\",diller)"
   ]
  },
  {
   "cell_type": "markdown",
   "metadata": {
    "slideshow": {
     "slide_type": "slide"
    }
   },
   "source": [
    "### Listelere öğeleri ekleme ve kaldırma (Listeleri Yığın Olarak Kullanma)\n",
    "\n",
    "Listede bulunan  metodları, bir listeyi yığın olarak kullanmayı çok kolaylaştırır; burada eklenen son öğe, alınan ilk öğedir (Last IN First OUT \"son giren, ilk çıkar\"). Yığının en arkasına bir öğe eklemek için **append ()** kullanın. Yığının en arkasında bir eleman çıkarmak için **pop()** kullanılır\n"
   ]
  },
  {
   "cell_type": "code",
   "execution_count": null,
   "metadata": {},
   "outputs": [],
   "source": [
    "diller=['python', 'swift', 'julia', 'ruby', 'go']\n",
    "print(\"Listemizin eleman sayısı:\", len(diller))\n",
    "print(\"Listemiz:\",diller)\n",
    "#ekleme yapalım \n",
    "diller.append('scala')\n",
    "print(\"Scala eklenince Listemizin eleman sayısı:\", len(diller))\n",
    "print(\"Ekleme yapıldıktan sonraki liste:\",diller)"
   ]
  },
  {
   "cell_type": "code",
   "execution_count": null,
   "metadata": {},
   "outputs": [],
   "source": [
    "diller.pop() # Son elemanı kaldıralım\n",
    "print(\"Son elemanı listemizden çıkardıktan sonra eleman sayısı:\", len(diller))\n",
    "print(\"Son eleman çıktıktan sonraki liste:\",diller)"
   ]
  },
  {
   "cell_type": "code",
   "execution_count": null,
   "metadata": {},
   "outputs": [],
   "source": [
    "diller.pop(2) #2 indeks numaralı elemanı çıkaralım\n",
    "print(\"Son elemanı listemizden çıkardıktan sonra eleman sayısı:\", len(diller))\n",
    "print(\"Son eleman çıktıktan sonraki liste:\",diller)\n"
   ]
  },
  {
   "cell_type": "markdown",
   "metadata": {
    "slideshow": {
     "slide_type": "slide"
    }
   },
   "source": [
    "### Listeleri kopyalama işlemi\n",
    "\n"
   ]
  },
  {
   "cell_type": "code",
   "execution_count": null,
   "metadata": {},
   "outputs": [],
   "source": [
    "meyveler=['Elma','Armut','Çilek','Muz']\n",
    "meyveler2=meyveler\n",
    "print(\"Meyveler listesi\",meyveler)\n",
    "print(\"Meyveler2 listesi\",meyveler2)\n",
    "meyveler.pop()\n",
    "print(\"Meyveler listesi\",meyveler)\n",
    "print(\"Meyveler2 listesi\",meyveler2)"
   ]
  },
  {
   "cell_type": "code",
   "execution_count": null,
   "metadata": {},
   "outputs": [],
   "source": [
    "meyveler=['Elma','Armut','Çilek','Muz']\n",
    "meyveler2=meyveler.copy()\n",
    "print(\"Meyveler listesi\",meyveler)\n",
    "print(\"Meyveler2 listesi\",meyveler2)\n",
    "meyveler.pop()\n",
    "print(\"Meyveler listesi\",meyveler)\n",
    "print(\"Meyveler2 listesi\",meyveler2)"
   ]
  },
  {
   "cell_type": "markdown",
   "metadata": {
    "slideshow": {
     "slide_type": "slide"
    }
   },
   "source": [
    "### .clear() metodu\n",
    "Listeyi siler, bütün elemanları kaldırır."
   ]
  },
  {
   "cell_type": "code",
   "execution_count": null,
   "metadata": {},
   "outputs": [],
   "source": [
    "meyveler=['Elma','Armut','Çilek','Muz']\n",
    "print(meyveler)\n",
    "meyveler.clear()\n",
    "print(meyveler)\n"
   ]
  },
  {
   "cell_type": "markdown",
   "metadata": {
    "slideshow": {
     "slide_type": "slide"
    }
   },
   "source": [
    "### .count metodu\n",
    "Listede belli bir değere sahip kaç eleman olduğunu verir."
   ]
  },
  {
   "cell_type": "code",
   "execution_count": null,
   "metadata": {},
   "outputs": [],
   "source": [
    "ad=['Murat','Melih','Mustafa','Murat','Ahmet','Hakan','Ali','Hakan','Ali','Hasan','Ali']\n",
    "ad.count('Ali')"
   ]
  },
  {
   "cell_type": "markdown",
   "metadata": {
    "slideshow": {
     "slide_type": "slide"
    }
   },
   "source": [
    "### .sort metodu\n",
    "Listeyi kendi içinde (in-place) sıralar. Sıralamadan sonra orijinal liste değişir. \n",
    "Bu olaya in-place işlem adını veriyoruz"
   ]
  },
  {
   "cell_type": "code",
   "execution_count": null,
   "metadata": {},
   "outputs": [],
   "source": [
    "liste=[89,87,22,35,-6,209,44,22,-1,-88,3]\n",
    "liste.sort()\n",
    "print(liste)"
   ]
  },
  {
   "cell_type": "code",
   "execution_count": null,
   "metadata": {},
   "outputs": [],
   "source": [
    "liste.sort(reverse=True)  #Sırayı ters çevirmek için reverse=True parametresi verilebilir.\n",
    "print(liste)\n",
    "\n",
    "#ad=['Murat','Melih','Mustafa','Murat','Ahmet','Hakan','Ali','Hakan','Ali','Hasan','Ali', 'Zehra', 'Ayşe', 'Hüsnü','Hüsnüye','Şaban','Şabaniye']\n",
    "#ad.sort(reverse=True)\n",
    "#print(ad)"
   ]
  },
  {
   "cell_type": "markdown",
   "metadata": {
    "slideshow": {
     "slide_type": "slide"
    }
   },
   "source": [
    "key parametresine bir fonksiyon verildiğinde bu fonksiyon önce her elemana uygulanır, sonuçlara göre sıralama yapılır. Sözgelişi, mutlak değerlere göre sıralama yapmak için:"
   ]
  },
  {
   "cell_type": "code",
   "execution_count": null,
   "metadata": {},
   "outputs": [],
   "source": [
    "liste.sort(key=abs)  \n",
    "print(liste)"
   ]
  },
  {
   "cell_type": "markdown",
   "metadata": {
    "slideshow": {
     "slide_type": "slide"
    }
   },
   "source": [
    "### .index() Metodu\n",
    " Liste içindeki bir elemanı yerini / pozisyonunu bulma için kullanılır."
   ]
  },
  {
   "cell_type": "code",
   "execution_count": null,
   "metadata": {},
   "outputs": [],
   "source": [
    "meyveler=['Elma','Armut','Çilek','Muz']\n",
    "pozisyon=meyveler.index('Çilek')\n",
    "print(\"Elma'nın indeksi:\",pozisyon)"
   ]
  },
  {
   "cell_type": "code",
   "execution_count": null,
   "metadata": {},
   "outputs": [],
   "source": [
    "ad=['Murat','Melih','Mustafa','Murat','Ahmet','Hakan','Ali','Hakan','Ali','Hasan','Ali']\n",
    "pozisyon=ad.index('Ali')\n",
    "print(\"Murat'ın indeksi:\",pozisyon)\n"
   ]
  },
  {
   "cell_type": "markdown",
   "metadata": {
    "slideshow": {
     "slide_type": "slide"
    }
   },
   "source": [
    "## Döngüler \n",
    "\n",
    "\n",
    "Döngüsel işlem veya tekrarlı işlem (iterasyon, İng. iteration), bilgisayarı aynı işlem grubunu belirli bir koşul sağlanana kadar tekrar tekrar yapmak için yönlendirir.\n",
    "\n",
    "\n",
    "### While ifadesi\n",
    "While döngüsü bir şart sağlanıyor iken sürekli içindeki komutları çalıştırır. Kelime anlamı olarak \"olduğu müddetçe\" anlamı çıkar. Yapısı şöyledir:\n",
    "\n",
    "\n",
    "    while koşul:\n",
    "        Koşul sağlandığında işleyecek komutlar\n",
    "    [else:]\n",
    "        False durumunda işleyecek komut (tek sefer çalışır)"
   ]
  },
  {
   "cell_type": "code",
   "execution_count": null,
   "metadata": {},
   "outputs": [],
   "source": [
    "a=1\n",
    "b=10\n",
    "while a<b:\n",
    "    print(a, end=\" \")\n",
    "    a += 1  # a = a + 1 ile aynı"
   ]
  },
  {
   "cell_type": "code",
   "execution_count": null,
   "metadata": {
    "slideshow": {
     "slide_type": "slide"
    }
   },
   "outputs": [],
   "source": [
    "a=1\n",
    "while a<10:\n",
    "    print(a)"
   ]
  },
  {
   "cell_type": "code",
   "execution_count": null,
   "metadata": {
    "slideshow": {
     "slide_type": "slide"
    }
   },
   "outputs": [],
   "source": [
    "a=1\n",
    "while a<10:\n",
    "    a+=1\n",
    "    print(a)"
   ]
  },
  {
   "cell_type": "markdown",
   "metadata": {
    "slideshow": {
     "slide_type": "slide"
    }
   },
   "source": [
    "**Örnek 1:** 1’den 10’a kadar sayıların toplamını hesaplayan bir program yazalım."
   ]
  },
  {
   "cell_type": "code",
   "execution_count": null,
   "metadata": {
    "slideshow": {
     "slide_type": "slide"
    }
   },
   "outputs": [],
   "source": [
    "a=1\n",
    "b=10\n",
    "toplam=0\n",
    "while a<=b:\n",
    "    toplam += a\n",
    "    a += 1\n",
    "print(toplam)"
   ]
  },
  {
   "cell_type": "code",
   "execution_count": null,
   "metadata": {
    "slideshow": {
     "slide_type": "slide"
    }
   },
   "outputs": [],
   "source": [
    "i = 1\n",
    "while i < 6:\n",
    "  print(i)\n",
    "  i += 1\n",
    "else:\n",
    "  print(\"i artık 6 dan küçük değil\")\n",
    "\n",
    "print(\"Bitti\")"
   ]
  },
  {
   "cell_type": "markdown",
   "metadata": {
    "slideshow": {
     "slide_type": "slide"
    }
   },
   "source": [
    "### for in ifadesi\n",
    "for-in yapısı, liste elemanları üzerinde gezinmek için en basit yollardan biridir;\n",
    "\n",
    "    for eleman in Liste:\n",
    "            işlemler "
   ]
  },
  {
   "cell_type": "code",
   "execution_count": null,
   "metadata": {},
   "outputs": [],
   "source": [
    "for meyve in ['Elma','Armut','Çilek','Muz']:\n",
    "    print(meyve)"
   ]
  },
  {
   "cell_type": "markdown",
   "metadata": {
    "slideshow": {
     "slide_type": "slide"
    }
   },
   "source": [
    "### range() veri türü - fonksiyonu\n",
    "\n",
    "**range ()**, varsayılan olarak 0'dan başlayan bir sayı dizisi döndürür ve diziyi  1 (varsayılan olarak) artırarak devam eder ve belirtilen bir sayıyla iterasyonu bitirir."
   ]
  },
  {
   "cell_type": "code",
   "execution_count": null,
   "metadata": {},
   "outputs": [],
   "source": [
    "a=range(5,20,2)\n",
    "print(type(a))"
   ]
  },
  {
   "cell_type": "code",
   "execution_count": null,
   "metadata": {},
   "outputs": [],
   "source": [
    "for i in a:\n",
    "    print(i)"
   ]
  },
  {
   "cell_type": "markdown",
   "metadata": {
    "slideshow": {
     "slide_type": "slide"
    }
   },
   "source": [
    "## Kümeler\n",
    "\n",
    "Tıpkı listeler gibi kümeler de Python’daki veri tiplerinden biridir. \n",
    "Küme, yinelenen nesneleri içermeyen sırasız bir koleksiyondur.\n",
    "\n",
    "Temel kullanımlar arasında üyelik testi (var olup/olmadığı) ve yinelenen nesnelerin ortadan kaldırılması yer alır. Set veri tipi  aynı zamanda birleşim, kesişim, fark ve simetrik fark gibi matematiksel işlemleri de destekler.\n",
    "\n",
    "- Benzersiz (unique)\n",
    "- Sırasız (unordered)\n",
    "- Değiştirebilir (Mutable)\n",
    "- Indeks sahibi değildirler\n",
    "\n",
    "\n",
    "\n",
    "Aynı eleman birden fazla bulunmaz ve sırasız oldukları için her çağırdığınızda küme elemanları farklı yerlerde gösterilebilir.\n",
    "Bu veri tipi, matematikteki kümelerin sahip olduğu bütün özellikleri taşır. \n",
    "Yani matematikteki kümelerden bildiğimiz kesişim, birleşim ve fark gibi özellikler Python’daki kümeler için de geçerlidir.\n",
    "\n",
    "Kümeleri oluşturmak için bir listelerden yararlanabiliriz"
   ]
  },
  {
   "cell_type": "code",
   "execution_count": null,
   "metadata": {},
   "outputs": [],
   "source": [
    "meyveler=['Elma','Armut','Çilek','Muz']\n",
    "meyveKumesi=set(meyveler)\n",
    "print(meyveler)\n",
    "print(meyveKumesi)"
   ]
  },
  {
   "cell_type": "code",
   "execution_count": null,
   "metadata": {},
   "outputs": [],
   "source": [
    "bosKume = set()\n",
    "print(bosKume)\n"
   ]
  },
  {
   "cell_type": "code",
   "execution_count": null,
   "metadata": {},
   "outputs": [],
   "source": [
    "karDizisi = \"Python Programlama Dili için Türkçe Kaynak\"\n",
    "kume = set(karDizisi)\n",
    "print(kume)"
   ]
  },
  {
   "cell_type": "markdown",
   "metadata": {
    "slideshow": {
     "slide_type": "slide"
    }
   },
   "source": [
    "Bir elemanın küme içinde bulunup bulunmadığını kontrol etmek için **in**  üyelik (membership) operatörünü denetimini kullanırız., Bize dönüt olarak **Boolean (True/False)** sonuç döndürür. "
   ]
  },
  {
   "cell_type": "code",
   "execution_count": null,
   "metadata": {},
   "outputs": [],
   "source": [
    "meyveler=set(['Elma','Armut','Çilek','Muz'])\n",
    "print(\"Elma meyveler kümesinde bulunmaktamı?\", \"Elma\" in meyveler )\n",
    "print(\"Ananas meyveler kümesinde bulunmaktamı?\", \"Ananas\" in meyveler )"
   ]
  },
  {
   "cell_type": "markdown",
   "metadata": {},
   "source": [
    "### List ve set yapılarının kullanımına örnek -1 "
   ]
  },
  {
   "cell_type": "code",
   "execution_count": null,
   "metadata": {},
   "outputs": [],
   "source": [
    "paragraf=\"\"\"\n",
    "Yapay zeka teknolojisi son birkaç yıldır popülerleşmiş olsa da aslında bilgisayar teknolojisi kadar eskidir. \n",
    "İngiliz asıllı bilim insanı Alan Mathison Turing tarafından takvimler 1943 yılını işaret ederken ortaya atılan\n",
    "Makineler düşünebilir mi? sorusu, bugün geliştirilmeye çalışılan yapay zeka teknolojisinin temelini oluşturur.\n",
    "1950-1951 yılları arasında Turing tarafından bilgisayar için geliştirilen satranç yazılımı, \n",
    "yapay zekanın bilinen ilk kullanım alanıdır. Kısacası yapay zeka zannedilenin aksine yeni bir teknoloji değildir.\n",
    "\"\"\"\n",
    "\n",
    "paragrafListe=paragraf.lower().split()\n",
    "paragrafKume=set(paragrafListe)\n",
    "#print(paragrafListe)\n",
    "#print(paragrafKume)\n",
    "\n",
    "\n",
    "#for i in paragrafKume:\n",
    "#    print(\"{} kelimesi pargrafta {} kez geçiyor!\".format(i, paragrafListe.count(i)))\n",
    "    \n",
    "\n"
   ]
  },
  {
   "cell_type": "markdown",
   "metadata": {},
   "source": [
    "### Kümelerde .add() ve update() metodları\n",
    "\n",
    "kümeler içinde ekleme yapmak için kullanılan bir metodlardır."
   ]
  },
  {
   "cell_type": "code",
   "execution_count": null,
   "metadata": {},
   "outputs": [],
   "source": [
    "meyveler=['Elma','Armut','Çilek','Muz']\n",
    "meyveKumesi=set(meyveler)\n",
    "print(meyveKumesi)\n",
    "meyveKumesi.add(\"Kivi\")\n",
    "print(meyveKumesi)"
   ]
  },
  {
   "cell_type": "code",
   "execution_count": null,
   "metadata": {},
   "outputs": [],
   "source": [
    "eklenecekMeyve=['Portakal','Mandalina']\n",
    "meyveKumesi.update(eklenecekMeyve)\n",
    "print(meyveKumesi)\n"
   ]
  },
  {
   "cell_type": "markdown",
   "metadata": {
    "slideshow": {
     "slide_type": "slide"
    }
   },
   "source": [
    "### Kümelerde .discard(), remove() ve pop() metodları\n",
    "\n",
    "kümeler içinden veri çıkartmak kullanılan metodlardır."
   ]
  },
  {
   "cell_type": "code",
   "execution_count": null,
   "metadata": {},
   "outputs": [],
   "source": [
    "print(meyveKumesi)"
   ]
  },
  {
   "cell_type": "code",
   "execution_count": null,
   "metadata": {},
   "outputs": [],
   "source": [
    "meyveKumesi.pop()"
   ]
  },
  {
   "cell_type": "code",
   "execution_count": null,
   "metadata": {},
   "outputs": [],
   "source": [
    "print(meyveKumesi)\n",
    "meyveKumesi.discard('Elma')\n",
    "print(meyveKumesi)\n",
    "meyveKumesi.discard('Elma')\n",
    "print(meyveKumesi)"
   ]
  },
  {
   "cell_type": "code",
   "execution_count": null,
   "metadata": {},
   "outputs": [],
   "source": [
    "#print(meyveKumesi)\n",
    "#meyveKumesi.remove('Armut')\n",
    "#print(meyveKumesi)\n",
    "#meyveKumesi.remove('Armut')\n",
    "#print(meyveKumesi)"
   ]
  },
  {
   "cell_type": "markdown",
   "metadata": {},
   "source": [
    "### Matematiksel Küme İşlemleri -1\n",
    "\n",
    "\n",
    " **ve (and)** işlemi yapmak için yani kesişen (örtüşen) verileri bulmak için  **.intersection()** metodu kullanılır yada **&** işareti kullanılır\n",
    " \n",
    " **veya (or)** işlemi yapmak için yani tüm  veriler için **.union()** metodu kullanılır yada **|** işareti kullanılır"
   ]
  },
  {
   "cell_type": "code",
   "execution_count": null,
   "metadata": {},
   "outputs": [],
   "source": [
    "kume1 = set([1, 2, 4, 6])\n",
    "kume2 = set([1, 23, 3, 4,13])\n",
    "\n",
    "kume1.intersection(kume2)"
   ]
  },
  {
   "cell_type": "code",
   "execution_count": null,
   "metadata": {},
   "outputs": [],
   "source": [
    "kume1 & kume2"
   ]
  },
  {
   "cell_type": "code",
   "execution_count": null,
   "metadata": {},
   "outputs": [],
   "source": [
    "kume1.union(kume2)"
   ]
  },
  {
   "cell_type": "code",
   "execution_count": null,
   "metadata": {},
   "outputs": [],
   "source": [
    "kume1|kume2"
   ]
  },
  {
   "cell_type": "markdown",
   "metadata": {
    "slideshow": {
     "slide_type": "slide"
    }
   },
   "source": [
    "### Matematiksel Küme İşlemleri -2\n",
    "iki kümenin farkını almak için **.difference()** metodu yada **-** işareti kullnılabilir. "
   ]
  },
  {
   "cell_type": "code",
   "execution_count": null,
   "metadata": {},
   "outputs": [],
   "source": [
    "kume1 = set([1, 2, 4, 6])\n",
    "kume2 = set([1, 23, 3, 4,12])\n",
    "\n",
    "#kume1.difference(kume2)\n",
    "kume1-kume2"
   ]
  },
  {
   "cell_type": "code",
   "execution_count": null,
   "metadata": {},
   "outputs": [],
   "source": [
    "kume2.difference(kume1)"
   ]
  },
  {
   "cell_type": "markdown",
   "metadata": {
    "slideshow": {
     "slide_type": "slide"
    }
   },
   "source": [
    "### Matematiksel Küme İşlemleri -3\n",
    "**isdisjoint()** metodunu kullanarak iki kümenin kesişim kümesinin boş olup olmadığı hakkında **boolean (True / False)**  olarak bize geri döndürür.\n",
    "\n",
    "**issubset()** metodu kullanılarak bir kümenin bütün elemanlarının başka bir küme içinde yer alıp yer almadığını sorgulayabiliriz\n",
    "\n",
    "**issuperset()** metodu bir kümenin diğer kümeyi kapsayıp kapsamadığını bize gösterir."
   ]
  },
  {
   "cell_type": "code",
   "execution_count": null,
   "metadata": {},
   "outputs": [],
   "source": [
    "kume1 = set([1, 2, 4, 6])\n",
    "kume2 = set([1, 23, 3, 4,12])\n",
    "kume3=set([2,6])"
   ]
  },
  {
   "cell_type": "code",
   "execution_count": null,
   "metadata": {},
   "outputs": [],
   "source": [
    "print(\"Kume1 ve Kume2'nin kesişim kümesi boş mu?\",kume1.isdisjoint(kume2))\n",
    "print(\"Kume1 ve Kume3'nin kesişim kümesi boş mu?\",kume1.isdisjoint(kume3))\n",
    "print(\"Kume2 ve Kume3'nin kesişim kümesi boş mu?\",kume2.isdisjoint(kume3))"
   ]
  },
  {
   "cell_type": "markdown",
   "metadata": {
    "slideshow": {
     "slide_type": "slide"
    }
   },
   "source": [
    "# Kaynakca\n",
    "1. https://docs.python.org/3/tutorial/datastructures.html\n",
    "2. https://python-istihza.yazbel.com\n",
    "3. http://www.veridefteri.com/2017/12/20/python-programlamaya-giris-donguler/ \n",
    "4. https://www.mobilhanem.com/python-egitimi/ "
   ]
  },
  {
   "cell_type": "code",
   "execution_count": null,
   "metadata": {},
   "outputs": [],
   "source": []
  }
 ],
 "metadata": {
  "celltoolbar": "Slideshow",
  "kernelspec": {
   "display_name": "Python 3",
   "language": "python",
   "name": "python3"
  },
  "language_info": {
   "codemirror_mode": {
    "name": "ipython",
    "version": 3
   },
   "file_extension": ".py",
   "mimetype": "text/x-python",
   "name": "python",
   "nbconvert_exporter": "python",
   "pygments_lexer": "ipython3",
   "version": "3.8.3"
  }
 },
 "nbformat": 4,
 "nbformat_minor": 4
}
