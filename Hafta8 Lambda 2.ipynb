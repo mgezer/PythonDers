{
 "cells": [
  {
   "cell_type": "markdown",
   "metadata": {
    "slideshow": {
     "slide_type": "slide"
    }
   },
   "source": [
    "# Python ile Programlama\n",
    "\n",
    "Lambda Fonksiyonları\n",
    "\n",
    "Dr. Murat Gezer https://github.com/mgezer/PythonDers"
   ]
  },
  {
   "cell_type": "markdown",
   "metadata": {
    "slideshow": {
     "slide_type": "slide"
    }
   },
   "source": [
    "Soru Aşağıdaki programın hata durumunda çalışmasını sağlayacak Hata istisnasını yazınız"
   ]
  },
  {
   "cell_type": "code",
   "execution_count": null,
   "metadata": {},
   "outputs": [],
   "source": [
    "def toplama(sayi1,sayi2):\n",
    "    return sayi1 + sayi2\n",
    "\n",
    "x = int(input(\"Sayı Giriniz:\"))\n",
    "y = int(input(\"Sayı Giriniz:\"))\n",
    "\n",
    "print(toplama(x,y))\n",
    " "
   ]
  },
  {
   "cell_type": "code",
   "execution_count": null,
   "metadata": {
    "slideshow": {
     "slide_type": "slide"
    }
   },
   "outputs": [],
   "source": [
    "def toplama(sayi1,sayi2):\n",
    "    return sayi1 + sayi2\n",
    "\n",
    "try:\n",
    "    x = int(input(\"Sayı Giriniz:\"))\n",
    "    y = int(input(\"Sayı Giriniz:\"))\n",
    "    print(toplama(x,y))\n",
    "except:\n",
    "    print(\"Hatalı Değer girdiniz!!! Lütfen Sayı Giriniz\")\n"
   ]
  },
  {
   "cell_type": "code",
   "execution_count": null,
   "metadata": {
    "slideshow": {
     "slide_type": "slide"
    }
   },
   "outputs": [],
   "source": [
    "def toplama(sayi1,sayi2):\n",
    "    return sayi1 + sayi2\n",
    "\n",
    "\n",
    "while True:\n",
    "    try:\n",
    "        x = int(input(\"1. Sayı Giriniz:\"))\n",
    "        y = int(input(\"2. Sayı Giriniz:\"))\n",
    "    except:\n",
    "        print(\"Hatalı Değer girdiniz!!! Lütfen Sayı Giriniz\")\n",
    "        continue\n",
    "    else:\n",
    "        print(toplama(x,y))\n",
    "    finally:\n",
    "        print(\"Her durumda çalışırım ben\")\n",
    "        \n",
    "    \n",
    "    "
   ]
  },
  {
   "cell_type": "markdown",
   "metadata": {
    "slideshow": {
     "slide_type": "slide"
    }
   },
   "source": [
    "## Lambda Fonksiyonu\n",
    "\n",
    "\n",
    "Lambda ifadeleri fonksiyonlarımızı oluşturmak için Pythonda bulunan pratik bir yöntemdir. Genelde tek satıra inirgenmiş fonksiyonlardır. Örneğin x ve y değişkenlerini toplayan bir fonsiyon tanımlamak istersek\n",
    "\n",
    "```\n",
    "fonksiyon ismi = lambda  argümanları: fonksiyon ifadesi\n",
    "\n",
    "lambda x : x + 2\n",
    "\n",
    "```"
   ]
  },
  {
   "cell_type": "code",
   "execution_count": null,
   "metadata": {},
   "outputs": [],
   "source": [
    "ikikat = lambda x: x * 2\n",
    "\n",
    "print(ikikat(5))"
   ]
  },
  {
   "cell_type": "code",
   "execution_count": null,
   "metadata": {
    "slideshow": {
     "slide_type": "slide"
    }
   },
   "outputs": [],
   "source": [
    "topla = lambda x, y: x + y\n",
    "print (topla (1, 2))"
   ]
  },
  {
   "cell_type": "code",
   "execution_count": null,
   "metadata": {
    "slideshow": {
     "slide_type": "slide"
    }
   },
   "outputs": [],
   "source": [
    "usalma = lambda x, y: x ** y\n",
    "print(usalma(2,3))"
   ]
  },
  {
   "cell_type": "code",
   "execution_count": null,
   "metadata": {
    "slideshow": {
     "slide_type": "slide"
    }
   },
   "outputs": [],
   "source": [
    "celcius2fahrenheit = lambda C: 1.8 * C + 32\n",
    "\n",
    "celcius2fahrenheit(100)"
   ]
  },
  {
   "cell_type": "markdown",
   "metadata": {
    "slideshow": {
     "slide_type": "slide"
    }
   },
   "source": [
    "\n",
    "\n",
    "# Sayısal analizde Integral çözümlerinde bilgisayarın kullanımı \n",
    "\n",
    "## Simpson Yöntemi\n",
    "$S_N(f) = \\frac{\\Delta x}{3} \\sum_{i=1}^{N/2} \\left( f(x_{2i-2}) + 4 f(x_{2i-1}) + f(x_{2i}) \\right)$\n",
    "\n",
    "\n",
    "burada  adım sayısı N çift sayı $[a,b] aralığımız , \\Delta x = (b - a)/N$ ve  $x_i = a + i \\Delta x$.\n",
    "\n",
    "https://web.itu.edu.tr/kalenderli/sayisalintegrasyon-OK2016.pdf\n"
   ]
  },
  {
   "cell_type": "markdown",
   "metadata": {
    "slideshow": {
     "slide_type": "-"
    }
   },
   "source": [
    "$\\int_0^{\\pi/2} \\sin(x) dx = 1$ için grafiğini ve Simpson kuralına göre çözümünü bulun ve grafiğini çizdirin"
   ]
  },
  {
   "cell_type": "code",
   "execution_count": null,
   "metadata": {
    "slideshow": {
     "slide_type": "-"
    }
   },
   "outputs": [],
   "source": []
  },
  {
   "cell_type": "code",
   "execution_count": null,
   "metadata": {
    "slideshow": {
     "slide_type": "slide"
    }
   },
   "outputs": [],
   "source": []
  },
  {
   "cell_type": "code",
   "execution_count": null,
   "metadata": {
    "slideshow": {
     "slide_type": "slide"
    }
   },
   "outputs": [],
   "source": []
  },
  {
   "cell_type": "markdown",
   "metadata": {
    "slideshow": {
     "slide_type": "slide"
    }
   },
   "source": [
    "$\\int_{\\pi/2}^{3\\pi/2} \\left( \\sin(0.2 x) + \\sin(2x) + 1 \\right) dx$  integralinin  $[{\\pi/2} -{3\\pi/2}]$ aralığında grafiğini ve integralin sayısal çözümünü bulunuz"
   ]
  },
  {
   "cell_type": "code",
   "execution_count": null,
   "metadata": {},
   "outputs": [],
   "source": []
  },
  {
   "cell_type": "code",
   "execution_count": null,
   "metadata": {},
   "outputs": [],
   "source": []
  },
  {
   "cell_type": "markdown",
   "metadata": {
    "slideshow": {
     "slide_type": "slide"
    }
   },
   "source": [
    "**Soru 1:**\n",
    "1’den 10’a kadar bütün sayılara kalansız bölünen en küçük sayı 2520’dir. 1’den 20’ye kadar bütün sayılara kalansız bölünen en küçük pozitif sayı kaçtır? \n",
    "Python dili ile çözen program yazınız\n",
    "\n",
    "Yol Gösterme: Sonsuz döngü içersinde her birimi sağlayan şartı kontrol ediniz. **(10 Puan)**"
   ]
  },
  {
   "cell_type": "code",
   "execution_count": null,
   "metadata": {},
   "outputs": [],
   "source": [
    "x=1\n",
    "while True:\n",
    "    if x % 1 == 0 and x % 2 == 0 and x % 3 == 0 and x % 4 == 0 and x % 5 == 0 \\\n",
    "    and x % 6 == 0 and x % 7 == 0 and x % 8 == 0 and x % 9 == 0 and x % 10 ==0\\\n",
    "    and x % 11 == 0 and x % 12 == 0 and x % 13 == 0 and x % 14 == 0 and x % 15 == 0\\\n",
    "    and x % 16 == 0 and x % 17 == 0 and x % 18 == 0 and x % 19==0 and x % 20==0:\n",
    "        print(x)\n",
    "        break\n",
    "    x=x+1\n",
    "     \n"
   ]
  },
  {
   "cell_type": "markdown",
   "metadata": {
    "slideshow": {
     "slide_type": "slide"
    }
   },
   "source": [
    "**Soru 2:**\n",
    "İlk 20  Fibonacci sayısını bir liste halinde veren bir fonksiyon yazın.\n",
    "Yol Gösterme:\n",
    "Çıktımız şeklinde olsun\n",
    "```\n",
    "fib(0)\n",
    "[ ]\n",
    "fib(1)\n",
    "[1]\n",
    "fib(2)\n",
    "[1, 1]\n",
    "…\n",
    "fib(10)\n",
    "[1, 1, 2, 3, 5, 8, 13, 21, 34, 55]\n",
    "\n",
    "```\n",
    "\n",
    "**(10 puan)**"
   ]
  },
  {
   "cell_type": "code",
   "execution_count": null,
   "metadata": {},
   "outputs": [],
   "source": [
    "def fib(x):\n",
    "    \n",
    "    if x == 0:\n",
    "        dizi = []\n",
    "        return dizi\n",
    "    elif x==1:\n",
    "        dizi = [1]\n",
    "        return dizi\n",
    "    else:\n",
    "        dizi = [1]\n",
    "        sayi1 = 0\n",
    "        sayi2 = 1\n",
    "        toplam = 0\n",
    "        for i in range (x):\n",
    "            toplam=sayi1+sayi2\n",
    "            sayi1=sayi2\n",
    "            sayi2=toplam\n",
    "            dizi.append(toplam)\n",
    "        return dizi\n",
    "\n",
    "for i in range(20):\n",
    "    print(\"fib(\",i,\")\",fib(i))"
   ]
  },
  {
   "cell_type": "markdown",
   "metadata": {
    "slideshow": {
     "slide_type": "slide"
    }
   },
   "source": [
    "**Soru 3:**\n",
    "\n",
    "Kullanıcıdan 3 basamaklı bir sayı alın ve bu sayının okunuşunu bulan bir fonksiyon yazın.\n",
    "Örnek: \n",
    "197 --------->Yüz  Doksan Yedi\n",
    "678 ---------> Alt Yüz Yetmiş Sekiz\n",
    "\n",
    "**(10 Puan)**"
   ]
  },
  {
   "cell_type": "markdown",
   "metadata": {
    "slideshow": {
     "slide_type": "slide"
    }
   },
   "source": [
    "**Soru 4:**\n",
    "\n",
    "Kullanıcı tarafından girilen bir yazının içindeki sözcükleri sayan program yazınız.\n",
    "\n",
    "Örnek:\n",
    "\n",
    "bir yazi girin :Iyi bir Python Programcisi olmak icin cok calismak gerekir\n",
    "\n",
    "\n",
    "(Iyi bir Python Programcisi olmak icin cok calismak gerekir) yazisinda (9) sozcuk var!\n",
    "\n",
    "**(5 Puan)**"
   ]
  },
  {
   "cell_type": "code",
   "execution_count": null,
   "metadata": {},
   "outputs": [],
   "source": [
    "yazi=input(\"Bir yazı girin:\")\n",
    "print(\"(\",yazi,\") yazısında (\",len(yazi.split(\" \")),\") söcük var\")\n"
   ]
  },
  {
   "cell_type": "markdown",
   "metadata": {
    "slideshow": {
     "slide_type": "slide"
    }
   },
   "source": [
    "**Soru 5** \n",
    "Bir sayı bütün çarpanlarının (1 dahil, kendisi hariç) toplamına eşitse, o sayıya mükemmel sayı denir. \n",
    "Sözgelişi, 1*2*3=1+2+3=6 olduğundan, 6 bir mükemmel sayıdır.\n",
    "Verilen bir sayı “mükemmel\"s ise True, değilse False veren bir fonksiyon yazın. \n",
    "\n",
    "Bu fonksiyonu kullanarak, 10 000'den küçük bütün \"mükemmel\" sayıları ekrana bastıran program yazınız.\n",
    "Örnek:\n",
    "```\n",
    "mukemmel(6)\n",
    "True\n",
    "mukemmel(10)\n",
    "False\n",
    "```\n",
    "\n",
    "**(10 Puan)**"
   ]
  },
  {
   "cell_type": "code",
   "execution_count": null,
   "metadata": {},
   "outputs": [],
   "source": [
    "def mukemmel(x):\n",
    "    toplam=0\n",
    "    for i in range(1,x):\n",
    "        if(x%i == 0):\n",
    "            toplam =toplam + i\n",
    "    if(x == toplam):\n",
    "        return True\n",
    "    else:\n",
    "        return False\n",
    "\n",
    "for i in range(9999):\n",
    "    if mukemmel(i+1):\n",
    "        print(i+1)"
   ]
  },
  {
   "cell_type": "markdown",
   "metadata": {
    "slideshow": {
     "slide_type": "slide"
    }
   },
   "source": [
    "**Soru 6**\n",
    "\n",
    "Kullanıcı tarafından klavyeden girilen 5 karakterlik bir ismin içerisindeki küçük harfleri büyük harfe, büyük harfleri küçük harfe çeviren bir fonksiyon tasarlayınız. Eğer isim 5 karakterden az yada çok ise uyarı yapıp tekrar kullanıcıdan istesin.\n",
    "\n",
    "**(5 Puan)**"
   ]
  },
  {
   "cell_type": "code",
   "execution_count": null,
   "metadata": {},
   "outputs": [],
   "source": [
    "def cevir(isim):\n",
    "    return isim.swapcase()\n",
    "\n",
    "ad=\"\"\n",
    "while len(ad)!=5:\n",
    "    ad = input(\"Lütfen 5 haneli ad giriniz:\")\n",
    "\n",
    "print(cevir(ad))"
   ]
  },
  {
   "cell_type": "markdown",
   "metadata": {
    "slideshow": {
     "slide_type": "slide"
    }
   },
   "source": [
    "**Soru 7**\n",
    "\n",
    "Bir n sayısı için 2n ‘i hesaplayan ve çıkan sonucu ve çıkan sonucun basamaklarını toplayan ve geri döndüren bir fonksiyon yazınız. Bu fonksiyon ile 1’den başlayarak 50’e kadar giden tüm sayıları bu fonksiyon sonuclarını ve basamak toplamlarını  formatlı şekilde ekrana bastıran program yazınız. \n",
    "\n",
    "Yol Gösterme:\n",
    "Çıktınız aşağıdaki şekilde olmalı \n",
    "```\n",
    "2**15 = 32768 ve basamaklarının toplamı 3 + 2 + 7 + 6 + 8 = 26\n",
    "```\n",
    "**(5 Puan)**"
   ]
  },
  {
   "cell_type": "code",
   "execution_count": null,
   "metadata": {},
   "outputs": [],
   "source": [
    "def hesapla(n):\n",
    "    toplam=0\n",
    "    us=2**n\n",
    "    for i in range(len(str(us))):\n",
    "        toplam=int(str(us)[i])+toplam\n",
    "    print(\"2**{}={} ve basamakların toplamı \".format(n,us),end=\"\")\n",
    "    print(*str(us),sep=\" + \",end=\"\")\n",
    "    print(\" = {}\".format(toplam))\n",
    "        \n",
    "for i in range(10):\n",
    "    hesapla(i+1)"
   ]
  },
  {
   "cell_type": "markdown",
   "metadata": {
    "slideshow": {
     "slide_type": "slide"
    }
   },
   "source": [
    "**Soru 8**\n",
    "\n",
    "Bir otoparkın ücret tarifesi aşağıdaki gibidir:\n",
    "\n",
    "1 saate kadar: 10 TL\n",
    "2-5 saat arası: her saat için ek 3 TL\n",
    "6-fazlası saatten fazla:her saat için ek 4 TL\n",
    "Buna göre kullanıcının girdiği otoparkta kalınan saat süresine göre ödenecek miktarı bularak ekrana yazdırınız.\n",
    "\n",
    "**(10 Puan)**"
   ]
  },
  {
   "cell_type": "code",
   "execution_count": null,
   "metadata": {},
   "outputs": [],
   "source": [
    "saat=int(input(\"Otoparkta kaç saat kaldınız:\"))\n",
    "\n",
    "ucret=10\n",
    "\n",
    "if saat>0 and saat<=1:\n",
    "    ucret=10\n",
    "    print(\"Ödeyeceğiniz ücret {} TL\".format(ucret))\n",
    "elif saat>1 and saat <=5:\n",
    "    saat=saat-1\n",
    "    ucret=ucret+(saat*3)\n",
    "    print(\"Ödeyeceğiniz ücret {} TL\".format(ucret))\n",
    "elif saat>5:\n",
    "    saat=saat-1\n",
    "    ucret=ucret+(saat*4)\n",
    "    print(\"Ödeyeceğiniz ücret {} TL\".format(ucret))\n",
    "else:\n",
    "    print(\"Otoparkta 1 saatin altında kalmışsınız\")\n",
    "    \n",
    "    \n",
    "    "
   ]
  },
  {
   "cell_type": "markdown",
   "metadata": {},
   "source": [
    "**Soru 9**\n",
    "\n",
    "Virgülle ayrılmış bir ad dizisini girdi olarak kabul eden ve kelimeleri alfabetik olarak sıraladıktan sonra virgülle ayrılmış bir dizide basan bir program yazın. Not: Sıralamada Türkçe karakterleri göz ardı ediniz\n",
    "\n",
    "Programa aşağıdaki girişin sağlandığını varsayalım:\n",
    "Virgülle  ayrılmış şekilde ad  girin: Ahmet , Ali , Berrin, Ayşe, Zehra\n",
    "\n",
    "Ahmet, Ali, Ayşe, Berrin, Zehra\n",
    "\n",
    "**10puan**"
   ]
  },
  {
   "cell_type": "code",
   "execution_count": null,
   "metadata": {
    "slideshow": {
     "slide_type": "slide"
    }
   },
   "outputs": [],
   "source": [
    "ad=input(\"Virgülle  ayrılmış şekilde ad  girin:\")\n",
    "dizi=ad.split(\",\")\n",
    "dizi.sort()\n",
    "print(dizi)\n"
   ]
  },
  {
   "cell_type": "markdown",
   "metadata": {
    "slideshow": {
     "slide_type": "slide"
    }
   },
   "source": [
    "Soru 10:\n",
    "\n",
    "Kullanıcının girdiği üç kenar bilgisine göre üçgenin tipini belirleyen eğer girilen kenarları uzunlukları bir üçgen oluşturmuyorsa bunu bildiren kodu yazınız. ( mutlak değer içinde iki kenarın farkı alınır eğer fark diğer kenardan büyükse girilen değerler üçgen oluşturmaz. Bu işlem tüm kenarlar için yapılır\n",
    "\n",
    "**(10 Puan)**"
   ]
  },
  {
   "cell_type": "code",
   "execution_count": null,
   "metadata": {},
   "outputs": [],
   "source": [
    "a=int(input(\"1. kenar:\"))\n",
    "b=int(input(\"2. kenar:\"))\n",
    "c=int(input(\"3. kenar:\"))\n",
    "if(abs(b-c)<a and a<b+c and abs(c-a)<b and b<a+c and abs(a-b)<c and c<a+b):\n",
    "    if((a==b and a!=c) or (a==c and a!=b) or (b==c and b!=a)):\n",
    "        print(\"İkizkenar Üçgen!\")\n",
    "    elif(a==b==c):\n",
    "        print(\"Eşkenar Üçgen!\")\n",
    "    else:\n",
    "        print(\"Normal Üçgen\")\n",
    "else:\n",
    "    print(\"Üçgen Oluşturmuyor\")"
   ]
  },
  {
   "cell_type": "markdown",
   "metadata": {
    "slideshow": {
     "slide_type": "slide"
    }
   },
   "source": [
    "**Soru 11**\n",
    "\n",
    "Sezar şifrelemesi, ilk kez Romalı lider Jül Sezar tarafından kullanılmış olan şifreleme tekniğidir. Ana mesajın her bir harfini belirtilen anahtar sayı kadar ileri kaydırarak şifreli mesajı oluşturmak üzeredir. Şifreyi çözmek için ise anahtar sayısı ile şifreli mesajdaki her karakterin anahtar sayısı kadar geriye giderek ana mesajı dönüştürmesi üzerinedir.\n",
    "\n",
    " Günümüzde şifreleme için pek güvenli sayılmamaktadır. Bir filolog, bir dilde en çok geçen harfleri bulabilir. O harfler ile mesajda en sık geçen harfleri karşılaştırarak hangi harfin hangi harf ile değiştirildiğini de çözmüş olur.\n",
    "\n",
    "\n",
    "\n",
    "\n",
    "\n",
    "yukarıdaki tabloda anahtar sayı 3 belirlenmiş ve bazı harflerin 3 adım sonraki karşılığı gösterilmiştir.\n",
    "\n",
    "\n",
    "\n",
    "Sizin göreviniz Türkçe harflerinde (ABCÇDEFGĞHIIJKLMNOÖPRSŞTUÜVYZ) çalışacağı bir Sezar şifreleyici ve açıcı fonksiyonlar yazmanız.\n",
    "\n",
    "\n",
    "**(15 Puan)**"
   ]
  },
  {
   "cell_type": "code",
   "execution_count": null,
   "metadata": {},
   "outputs": [],
   "source": [
    "def sifrele(metin,anahtar=3):\n",
    "    alfabe=[*\"ABCÇDEFGĞHIIJKLMNOÖPRSŞTUÜVYZ\"]\n",
    "    metin=metin.upper()\n",
    "    sifre=\"\"\n",
    "    for harf in [*metin]:\n",
    "        sifre+=(alfabe[(alfabe.index(harf)+anahtar)%29])\n",
    "    return sifre\n",
    "\n",
    "def sifreac(metin,anahtar=3):\n",
    "    alfabe=[*\"ABCÇDEFGĞHIIJKLMNOÖPRSŞTUÜVYZ\"]\n",
    "    metin=metin.upper()\n",
    "    sifre=\"\"\n",
    "    for harf in [*metin]:\n",
    "        sifre+=(alfabe[(alfabe.index(harf)-anahtar)%29])\n",
    "    return sifre\n",
    "    "
   ]
  },
  {
   "cell_type": "code",
   "execution_count": null,
   "metadata": {},
   "outputs": [],
   "source": [
    "print(sifrele(\"Muratz\",anahtar=3))\n",
    "print(sifreac(\"ÖYTÇVC\"))"
   ]
  },
  {
   "cell_type": "code",
   "execution_count": null,
   "metadata": {},
   "outputs": [],
   "source": [
    "!conda install rise -y"
   ]
  },
  {
   "cell_type": "code",
   "execution_count": null,
   "metadata": {},
   "outputs": [],
   "source": []
  }
 ],
 "metadata": {
  "celltoolbar": "Slideshow",
  "kernelspec": {
   "display_name": "Python 3.7 (dm)",
   "language": "python",
   "name": "dm"
  },
  "language_info": {
   "codemirror_mode": {
    "name": "ipython",
    "version": 3
   },
   "file_extension": ".py",
   "mimetype": "text/x-python",
   "name": "python",
   "nbconvert_exporter": "python",
   "pygments_lexer": "ipython3",
   "version": "3.7.9"
  }
 },
 "nbformat": 4,
 "nbformat_minor": 4
}
